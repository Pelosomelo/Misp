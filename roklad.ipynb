{
  "nbformat": 4,
  "nbformat_minor": 0,
  "metadata": {
    "colab": {
      "name": "roklad.ipynb",
      "provenance": [],
      "collapsed_sections": [],
      "include_colab_link": true
    },
    "kernelspec": {
      "name": "python3",
      "display_name": "Python 3"
    }
  },
  "cells": [
    {
      "cell_type": "markdown",
      "metadata": {
        "id": "view-in-github",
        "colab_type": "text"
      },
      "source": [
        "<a href=\"https://colab.research.google.com/github/Pelosomelo/Misp/blob/main/roklad.ipynb\" target=\"_parent\"><img src=\"https://colab.research.google.com/assets/colab-badge.svg\" alt=\"Open In Colab\"/></a>"
      ]
    },
    {
      "cell_type": "code",
      "metadata": {
        "colab": {
          "base_uri": "https://localhost:8080/"
        },
        "id": "vTePFeSc9jWk",
        "outputId": "1214718e-9dd5-4c52-b764-f3be7560e893"
      },
      "source": [
        "!pip install pulp\n",
        "\n",
        "!sudo apt-get install coinor-cbc glpk-utils coinor-clp"
      ],
      "execution_count": null,
      "outputs": [
        {
          "output_type": "stream",
          "text": [
            "Requirement already satisfied: pulp in /usr/local/lib/python3.6/dist-packages (2.3.1)\n",
            "Requirement already satisfied: amply>=0.1.2 in /usr/local/lib/python3.6/dist-packages (from pulp) (0.1.4)\n",
            "Requirement already satisfied: pyparsing in /usr/local/lib/python3.6/dist-packages (from amply>=0.1.2->pulp) (2.4.7)\n",
            "Requirement already satisfied: docutils>=0.3 in /usr/local/lib/python3.6/dist-packages (from amply>=0.1.2->pulp) (0.16)\n",
            "Reading package lists... Done\n",
            "Building dependency tree       \n",
            "Reading state information... Done\n",
            "coinor-cbc is already the newest version (2.9.9+repack1-1).\n",
            "coinor-clp is already the newest version (1.16.11+repack1-1).\n",
            "glpk-utils is already the newest version (4.65-1).\n",
            "0 upgraded, 0 newly installed, 0 to remove and 14 not upgraded.\n"
          ],
          "name": "stdout"
        }
      ]
    },
    {
      "cell_type": "code",
      "metadata": {
        "id": "psEaLzUk9pjE"
      },
      "source": [
        "from pulp import *\n",
        "import pandas as pd\n",
        "import math"
      ],
      "execution_count": null,
      "outputs": []
    },
    {
      "cell_type": "code",
      "metadata": {
        "colab": {
          "base_uri": "https://localhost:8080/"
        },
        "id": "Ye9cdMLr9u6N",
        "outputId": "8963857c-2ad3-428e-a09b-8978233a0eee"
      },
      "source": [
        "from google.colab import drive\n",
        "drive.mount('/content/drive')"
      ],
      "execution_count": null,
      "outputs": [
        {
          "output_type": "stream",
          "text": [
            "Drive already mounted at /content/drive; to attempt to forcibly remount, call drive.mount(\"/content/drive\", force_remount=True).\n"
          ],
          "name": "stdout"
        }
      ]
    },
    {
      "cell_type": "code",
      "metadata": {
        "colab": {
          "base_uri": "https://localhost:8080/"
        },
        "id": "Mbw2IQWF-HA8",
        "outputId": "e6e2b30c-2b88-43e1-c04b-a5f5024aa4d1"
      },
      "source": [
        "dane = pd.read_csv('/content/drive/MyDrive/rozklad.csv',index_col=0).to_dict()\n",
        "pon = dane['PN']\n",
        "Pracownicy=list(pon.keys())\n",
        "print(dane)\n",
        "Dni = [\"PN\",\"WT\",\"SR\",\"CZ\",\"PT\"]\n",
        "max={'PN':2,'WT':1,'SR':1,'CZ':1,'PT':3}\n",
        "#place={'Ania':{100},'Stefan':{50},'Hektor':{60},'Olaf':{40},'Lidia':{110},'Piotr':{70}}\n",
        "#max=[2,1,1,1,3]\n",
        "#place=[100,50,60,40,110,70]\n",
        "\n",
        "wiersz=len(Pracownicy)\n",
        "kolumna=len(Dni)\n",
        "\n",
        "plan = [[0 for col in range(kolumna)] for row in range(wiersz)]\n",
        "rozklad = [[0 for col in range(kolumna)] for row in range(wiersz)]\n",
        "\n",
        "\n",
        "\n",
        "for w in range(wiersz):\n",
        "    for k in range(kolumna):\n",
        "        plan[w][k]=dane[Dni[k]][Pracownicy[w]]\n",
        "\n",
        "plan = makeDict([Pracownicy,Dni],plan,0)\n",
        "\n",
        "vars = LpVariable.dicts(\"Grafik\",(Pracownicy,Dni),0,1,LpInteger)\n",
        "prob = LpProblem(\"Grafik\",LpMinimize)\n",
        "\n",
        "\n",
        "\n",
        "for w in Pracownicy:\n",
        "    for k in Dni:\n",
        "        prob += vars[w][k]<=plan[w][k] \n",
        "\n",
        "for w in Pracownicy:\n",
        "    prob += lpSum([vars[w][k] for k in Dni])<=3\n",
        "\n",
        "for k in Dni:\n",
        "    prob += lpSum([vars[w][k] for w in Pracownicy])==max[k]\n",
        "\n",
        "\n",
        "\n",
        "prob.writeLP(\"Grafik_Pracownikow.lp\")\n",
        "prob.solve()\n",
        "print(\"Status:\", LpStatus[prob.status])\n",
        "\n",
        "for v in range(wiersz*kolumna):\n",
        "    rozklad[math.floor(v/kolumna)][v%kolumna] = prob.variables()[v].varValue\n",
        "\n",
        "print(Dni)\n",
        "for i in range(wiersz):\n",
        "    print(Pracownicy[i],rozklad[i])"
      ],
      "execution_count": null,
      "outputs": [
        {
          "output_type": "stream",
          "text": [
            "{'PN': {'Ania': 1, 'Stefan': 1, 'Hektor': 1, 'Olaf': 1, 'Lidia': 0, 'Piotr': 1}, 'WT': {'Ania': 1, 'Stefan': 0, 'Hektor': 1, 'Olaf': 1, 'Lidia': 0, 'Piotr': 1}, 'SR': {'Ania': 1, 'Stefan': 0, 'Hektor': 1, 'Olaf': 1, 'Lidia': 0, 'Piotr': 1}, 'CZ': {'Ania': 1, 'Stefan': 0, 'Hektor': 0, 'Olaf': 1, 'Lidia': 1, 'Piotr': 0}, 'PT': {'Ania': 1, 'Stefan': 0, 'Hektor': 0, 'Olaf': 1, 'Lidia': 1, 'Piotr': 0}}\n",
            "Status: Optimal\n",
            "['PN', 'WT', 'SR', 'CZ', 'PT']\n",
            "Ania [0.0, 0.0, 1.0, 0.0, 0.0]\n",
            "Stefan [0.0, 1.0, 0.0, 1.0, 1.0]\n",
            "Hektor [1.0, 0.0, 1.0, 0.0, 0.0]\n",
            "Olaf [0.0, 0.0, 1.0, 0.0, 0.0]\n",
            "Lidia [0.0, 1.0, 0.0, 0.0, 0.0]\n",
            "Piotr [0.0, 0.0, 0.0, 0.0, 0.0]\n"
          ],
          "name": "stdout"
        }
      ]
    }
  ]
}
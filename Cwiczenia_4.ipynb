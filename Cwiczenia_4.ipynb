{
  "nbformat": 4,
  "nbformat_minor": 0,
  "metadata": {
    "colab": {
      "name": "Cwiczenia_4.ipynb",
      "provenance": [],
      "collapsed_sections": [],
      "authorship_tag": "ABX9TyMqhpzYt7hFdKWeo1oBjqY4",
      "include_colab_link": true
    },
    "kernelspec": {
      "name": "python3",
      "display_name": "Python 3"
    },
    "widgets": {
      "application/vnd.jupyter.widget-state+json": {
        "258b0128b9054a66b24ef0896db14818": {
          "model_module": "@jupyter-widgets/controls",
          "model_name": "VBoxModel",
          "state": {
            "_view_name": "VBoxView",
            "_dom_classes": [
              "widget-interact"
            ],
            "_model_name": "VBoxModel",
            "_view_module": "@jupyter-widgets/controls",
            "_model_module_version": "1.5.0",
            "_view_count": null,
            "_view_module_version": "1.5.0",
            "box_style": "",
            "layout": "IPY_MODEL_7524bec78bad4fdeb132379a9aac248c",
            "_model_module": "@jupyter-widgets/controls",
            "children": [
              "IPY_MODEL_31d63628cea14d76ad89dff296eb5d26",
              "IPY_MODEL_7e1e470bf08e4bf4ba6af76dd06d938a",
              "IPY_MODEL_6b8e9243e0b34a659ad44e74e1481740",
              "IPY_MODEL_57d53aa83d034add95f5d540206975e9"
            ]
          }
        },
        "7524bec78bad4fdeb132379a9aac248c": {
          "model_module": "@jupyter-widgets/base",
          "model_name": "LayoutModel",
          "state": {
            "_view_name": "LayoutView",
            "grid_template_rows": null,
            "right": null,
            "justify_content": null,
            "_view_module": "@jupyter-widgets/base",
            "overflow": null,
            "_model_module_version": "1.2.0",
            "_view_count": null,
            "flex_flow": null,
            "width": null,
            "min_width": null,
            "border": null,
            "align_items": null,
            "bottom": null,
            "_model_module": "@jupyter-widgets/base",
            "top": null,
            "grid_column": null,
            "overflow_y": null,
            "overflow_x": null,
            "grid_auto_flow": null,
            "grid_area": null,
            "grid_template_columns": null,
            "flex": null,
            "_model_name": "LayoutModel",
            "justify_items": null,
            "grid_row": null,
            "max_height": null,
            "align_content": null,
            "visibility": null,
            "align_self": null,
            "height": null,
            "min_height": null,
            "padding": null,
            "grid_auto_rows": null,
            "grid_gap": null,
            "max_width": null,
            "order": null,
            "_view_module_version": "1.2.0",
            "grid_template_areas": null,
            "object_position": null,
            "object_fit": null,
            "grid_auto_columns": null,
            "margin": null,
            "display": null,
            "left": null
          }
        },
        "31d63628cea14d76ad89dff296eb5d26": {
          "model_module": "@jupyter-widgets/controls",
          "model_name": "IntSliderModel",
          "state": {
            "_view_name": "IntSliderView",
            "style": "IPY_MODEL_ba34cf5d59374543b0b01dc88f7e4b65",
            "_dom_classes": [],
            "description": "czas_F1_slider",
            "step": 1,
            "_model_name": "IntSliderModel",
            "orientation": "horizontal",
            "max": 100,
            "_view_module": "@jupyter-widgets/controls",
            "_model_module_version": "1.5.0",
            "value": 4,
            "_view_count": null,
            "disabled": false,
            "_view_module_version": "1.5.0",
            "min": 0,
            "continuous_update": true,
            "readout_format": "d",
            "description_tooltip": null,
            "readout": true,
            "_model_module": "@jupyter-widgets/controls",
            "layout": "IPY_MODEL_8c1e2e0e10d245df827590dbe46b08f6"
          }
        },
        "7e1e470bf08e4bf4ba6af76dd06d938a": {
          "model_module": "@jupyter-widgets/controls",
          "model_name": "IntSliderModel",
          "state": {
            "_view_name": "IntSliderView",
            "style": "IPY_MODEL_a2669b046efe479e9414a3b4bc96f0c6",
            "_dom_classes": [],
            "description": "czas_F2_slider",
            "step": 1,
            "_model_name": "IntSliderModel",
            "orientation": "horizontal",
            "max": 100,
            "_view_module": "@jupyter-widgets/controls",
            "_model_module_version": "1.5.0",
            "value": 12,
            "_view_count": null,
            "disabled": false,
            "_view_module_version": "1.5.0",
            "min": 0,
            "continuous_update": true,
            "readout_format": "d",
            "description_tooltip": null,
            "readout": true,
            "_model_module": "@jupyter-widgets/controls",
            "layout": "IPY_MODEL_68b1b10898cc4f4294c39ba3fbf44d77"
          }
        },
        "6b8e9243e0b34a659ad44e74e1481740": {
          "model_module": "@jupyter-widgets/controls",
          "model_name": "IntSliderModel",
          "state": {
            "_view_name": "IntSliderView",
            "style": "IPY_MODEL_bee08698e8e145e0b31ae171152c254f",
            "_dom_classes": [],
            "description": "czas_F3_slider",
            "step": 1,
            "_model_name": "IntSliderModel",
            "orientation": "horizontal",
            "max": 100,
            "_view_module": "@jupyter-widgets/controls",
            "_model_module_version": "1.5.0",
            "value": 18,
            "_view_count": null,
            "disabled": false,
            "_view_module_version": "1.5.0",
            "min": 0,
            "continuous_update": true,
            "readout_format": "d",
            "description_tooltip": null,
            "readout": true,
            "_model_module": "@jupyter-widgets/controls",
            "layout": "IPY_MODEL_ab92fc19f10b4a219f652139ff6b2737"
          }
        },
        "57d53aa83d034add95f5d540206975e9": {
          "model_module": "@jupyter-widgets/output",
          "model_name": "OutputModel",
          "state": {
            "_view_name": "OutputView",
            "msg_id": "",
            "_dom_classes": [],
            "_model_name": "OutputModel",
            "outputs": [
              {
                "output_type": "stream",
                "metadata": {
                  "tags": []
                },
                "text": "Status: Optimal\nalu = 2.0\ndrewno = 6.0\nTotal Cost  =  36000.0\n**********Shadow Prices**********\n              name  slack\n0  czas_fabryki_F1    2.0\n1  czas_fabryki_F2   -0.0\n2  czas_fabryki_F3   -0.0\n",
                "stream": "stdout"
              }
            ],
            "_view_module": "@jupyter-widgets/output",
            "_model_module_version": "1.0.0",
            "_view_count": null,
            "_view_module_version": "1.0.0",
            "layout": "IPY_MODEL_58cf466b35af4c7688d15736bb07d94f",
            "_model_module": "@jupyter-widgets/output"
          }
        },
        "ba34cf5d59374543b0b01dc88f7e4b65": {
          "model_module": "@jupyter-widgets/controls",
          "model_name": "SliderStyleModel",
          "state": {
            "_view_name": "StyleView",
            "handle_color": null,
            "_model_name": "SliderStyleModel",
            "description_width": "initial",
            "_view_module": "@jupyter-widgets/base",
            "_model_module_version": "1.5.0",
            "_view_count": null,
            "_view_module_version": "1.2.0",
            "_model_module": "@jupyter-widgets/controls"
          }
        },
        "8c1e2e0e10d245df827590dbe46b08f6": {
          "model_module": "@jupyter-widgets/base",
          "model_name": "LayoutModel",
          "state": {
            "_view_name": "LayoutView",
            "grid_template_rows": null,
            "right": null,
            "justify_content": null,
            "_view_module": "@jupyter-widgets/base",
            "overflow": null,
            "_model_module_version": "1.2.0",
            "_view_count": null,
            "flex_flow": null,
            "width": null,
            "min_width": null,
            "border": null,
            "align_items": null,
            "bottom": null,
            "_model_module": "@jupyter-widgets/base",
            "top": null,
            "grid_column": null,
            "overflow_y": null,
            "overflow_x": null,
            "grid_auto_flow": null,
            "grid_area": null,
            "grid_template_columns": null,
            "flex": null,
            "_model_name": "LayoutModel",
            "justify_items": null,
            "grid_row": null,
            "max_height": null,
            "align_content": null,
            "visibility": null,
            "align_self": null,
            "height": null,
            "min_height": null,
            "padding": null,
            "grid_auto_rows": null,
            "grid_gap": null,
            "max_width": null,
            "order": null,
            "_view_module_version": "1.2.0",
            "grid_template_areas": null,
            "object_position": null,
            "object_fit": null,
            "grid_auto_columns": null,
            "margin": null,
            "display": null,
            "left": null
          }
        },
        "a2669b046efe479e9414a3b4bc96f0c6": {
          "model_module": "@jupyter-widgets/controls",
          "model_name": "SliderStyleModel",
          "state": {
            "_view_name": "StyleView",
            "handle_color": null,
            "_model_name": "SliderStyleModel",
            "description_width": "initial",
            "_view_module": "@jupyter-widgets/base",
            "_model_module_version": "1.5.0",
            "_view_count": null,
            "_view_module_version": "1.2.0",
            "_model_module": "@jupyter-widgets/controls"
          }
        },
        "68b1b10898cc4f4294c39ba3fbf44d77": {
          "model_module": "@jupyter-widgets/base",
          "model_name": "LayoutModel",
          "state": {
            "_view_name": "LayoutView",
            "grid_template_rows": null,
            "right": null,
            "justify_content": null,
            "_view_module": "@jupyter-widgets/base",
            "overflow": null,
            "_model_module_version": "1.2.0",
            "_view_count": null,
            "flex_flow": null,
            "width": null,
            "min_width": null,
            "border": null,
            "align_items": null,
            "bottom": null,
            "_model_module": "@jupyter-widgets/base",
            "top": null,
            "grid_column": null,
            "overflow_y": null,
            "overflow_x": null,
            "grid_auto_flow": null,
            "grid_area": null,
            "grid_template_columns": null,
            "flex": null,
            "_model_name": "LayoutModel",
            "justify_items": null,
            "grid_row": null,
            "max_height": null,
            "align_content": null,
            "visibility": null,
            "align_self": null,
            "height": null,
            "min_height": null,
            "padding": null,
            "grid_auto_rows": null,
            "grid_gap": null,
            "max_width": null,
            "order": null,
            "_view_module_version": "1.2.0",
            "grid_template_areas": null,
            "object_position": null,
            "object_fit": null,
            "grid_auto_columns": null,
            "margin": null,
            "display": null,
            "left": null
          }
        },
        "bee08698e8e145e0b31ae171152c254f": {
          "model_module": "@jupyter-widgets/controls",
          "model_name": "SliderStyleModel",
          "state": {
            "_view_name": "StyleView",
            "handle_color": null,
            "_model_name": "SliderStyleModel",
            "description_width": "initial",
            "_view_module": "@jupyter-widgets/base",
            "_model_module_version": "1.5.0",
            "_view_count": null,
            "_view_module_version": "1.2.0",
            "_model_module": "@jupyter-widgets/controls"
          }
        },
        "ab92fc19f10b4a219f652139ff6b2737": {
          "model_module": "@jupyter-widgets/base",
          "model_name": "LayoutModel",
          "state": {
            "_view_name": "LayoutView",
            "grid_template_rows": null,
            "right": null,
            "justify_content": null,
            "_view_module": "@jupyter-widgets/base",
            "overflow": null,
            "_model_module_version": "1.2.0",
            "_view_count": null,
            "flex_flow": null,
            "width": null,
            "min_width": null,
            "border": null,
            "align_items": null,
            "bottom": null,
            "_model_module": "@jupyter-widgets/base",
            "top": null,
            "grid_column": null,
            "overflow_y": null,
            "overflow_x": null,
            "grid_auto_flow": null,
            "grid_area": null,
            "grid_template_columns": null,
            "flex": null,
            "_model_name": "LayoutModel",
            "justify_items": null,
            "grid_row": null,
            "max_height": null,
            "align_content": null,
            "visibility": null,
            "align_self": null,
            "height": null,
            "min_height": null,
            "padding": null,
            "grid_auto_rows": null,
            "grid_gap": null,
            "max_width": null,
            "order": null,
            "_view_module_version": "1.2.0",
            "grid_template_areas": null,
            "object_position": null,
            "object_fit": null,
            "grid_auto_columns": null,
            "margin": null,
            "display": null,
            "left": null
          }
        },
        "58cf466b35af4c7688d15736bb07d94f": {
          "model_module": "@jupyter-widgets/base",
          "model_name": "LayoutModel",
          "state": {
            "_view_name": "LayoutView",
            "grid_template_rows": null,
            "right": null,
            "justify_content": null,
            "_view_module": "@jupyter-widgets/base",
            "overflow": null,
            "_model_module_version": "1.2.0",
            "_view_count": null,
            "flex_flow": null,
            "width": null,
            "min_width": null,
            "border": null,
            "align_items": null,
            "bottom": null,
            "_model_module": "@jupyter-widgets/base",
            "top": null,
            "grid_column": null,
            "overflow_y": null,
            "overflow_x": null,
            "grid_auto_flow": null,
            "grid_area": null,
            "grid_template_columns": null,
            "flex": null,
            "_model_name": "LayoutModel",
            "justify_items": null,
            "grid_row": null,
            "max_height": null,
            "align_content": null,
            "visibility": null,
            "align_self": null,
            "height": null,
            "min_height": null,
            "padding": null,
            "grid_auto_rows": null,
            "grid_gap": null,
            "max_width": null,
            "order": null,
            "_view_module_version": "1.2.0",
            "grid_template_areas": null,
            "object_position": null,
            "object_fit": null,
            "grid_auto_columns": null,
            "margin": null,
            "display": null,
            "left": null
          }
        }
      }
    }
  },
  "cells": [
    {
      "cell_type": "markdown",
      "metadata": {
        "id": "view-in-github",
        "colab_type": "text"
      },
      "source": [
        "<a href=\"https://colab.research.google.com/github/Pelosomelo/Misp/blob/main/Cwiczenia_4.ipynb\" target=\"_parent\"><img src=\"https://colab.research.google.com/assets/colab-badge.svg\" alt=\"Open In Colab\"/></a>"
      ]
    },
    {
      "cell_type": "code",
      "metadata": {
        "id": "XMtHeZ2P-BfG"
      },
      "source": [
        "!pip install pulp\r\n",
        "\r\n",
        "!sudo apt-get install coinor-cbc glpk-utils coinor-clp"
      ],
      "execution_count": null,
      "outputs": []
    },
    {
      "cell_type": "code",
      "metadata": {
        "id": "FuJi5czl-P4L"
      },
      "source": [
        "import pulp\r\n",
        "\r\n",
        "print(pulp.__version__)\r\n",
        "pulp.pulpTestAll()\r\n"
      ],
      "execution_count": null,
      "outputs": []
    },
    {
      "cell_type": "markdown",
      "metadata": {
        "id": "4ZiSjBu5-02L"
      },
      "source": [
        "**Zadnie:**\r\n",
        "Zoptymalizowanie produkcji okien do maksymalnych zysków"
      ]
    },
    {
      "cell_type": "code",
      "metadata": {
        "colab": {
          "base_uri": "https://localhost:8080/"
        },
        "id": "akuRWo8p-h5U",
        "outputId": "bc67e276-0548-4272-fcd9-c2a9b18836ef"
      },
      "source": [
        "# Realizacja \r\n",
        "\r\n",
        "from pulp import *\r\n",
        "prob = LpProblem(\"Okna\",LpMaximize)\r\n",
        "x4=LpVariable(\"alu\",0,None,LpInteger)\r\n",
        "x5=LpVariable(\"drewno\",0,None,LpInteger)\r\n",
        "prob += 3000*x4 + 5000*x5, \"Total Cost\"\r\n",
        "prob += x4*1<= 4, \"czas fabryki F1\"\r\n",
        "prob += x5*2<= 12, \"czas fabryki F2\"\r\n",
        "prob += x4*3+x5*2<= 18, \"czas fabryki F3\"\r\n",
        "prob.writeLP(\"Okna.lp\")\r\n",
        "prob.solve()\r\n",
        "print(\"Status:\", LpStatus[prob.status])\r\n",
        "for v in prob.variables():\r\n",
        "    print(v.name, \"=\", v.varValue)\r\n",
        "print(\"Total Cost of Ingredients per can = \", value(prob.objective))\r\n"
      ],
      "execution_count": 3,
      "outputs": [
        {
          "output_type": "stream",
          "text": [
            "Status: Optimal\n",
            "alu = 2.0\n",
            "drewno = 6.0\n",
            "Total Cost of Ingredients per can =  36000.0\n"
          ],
          "name": "stdout"
        }
      ]
    },
    {
      "cell_type": "code",
      "metadata": {
        "colab": {
          "base_uri": "https://localhost:8080/",
          "height": 283,
          "referenced_widgets": [
            "258b0128b9054a66b24ef0896db14818",
            "7524bec78bad4fdeb132379a9aac248c",
            "31d63628cea14d76ad89dff296eb5d26",
            "7e1e470bf08e4bf4ba6af76dd06d938a",
            "6b8e9243e0b34a659ad44e74e1481740",
            "57d53aa83d034add95f5d540206975e9",
            "ba34cf5d59374543b0b01dc88f7e4b65",
            "8c1e2e0e10d245df827590dbe46b08f6",
            "a2669b046efe479e9414a3b4bc96f0c6",
            "68b1b10898cc4f4294c39ba3fbf44d77",
            "bee08698e8e145e0b31ae171152c254f",
            "ab92fc19f10b4a219f652139ff6b2737",
            "58cf466b35af4c7688d15736bb07d94f"
          ]
        },
        "id": "rexJuBPd-jvG",
        "outputId": "d465621f-1117-4309-f0b3-a9dddc8e020a"
      },
      "source": [
        "# Realizacja z mozliwością regulacji parametrów \r\n",
        "\r\n",
        "from __future__ import print_function\r\n",
        "from ipywidgets import interact, interactive, fixed, interact_manual, Layout, FloatSlider, IntSlider\r\n",
        "import ipywidgets as widgets\r\n",
        "import pandas as pd\r\n",
        "\r\n",
        "style = {'description_width': 'initial'}\r\n",
        "\r\n",
        "czas_F1_slider = IntSlider(min=0,max = 100, value= 4, description=\"czas_F1_slider\", style= style )\r\n",
        "czas_F2_slider = IntSlider(min=0,max = 100,value= 12, description=\"czas_F2_slider\", style= style )\r\n",
        "czas_F3_slider = IntSlider(min=0,max = 100, value= 18, description=\"czas_F3_slider\", style= style )\r\n",
        "\r\n",
        "\r\n",
        "\r\n",
        "def produkcja(czas_F1 =4,\r\n",
        "    czas_F2 =12,\r\n",
        "    czas_F3 =18):\r\n",
        "  \r\n",
        "  \r\n",
        "    prob = LpProblem(\"Okna\",LpMaximize)\r\n",
        "\r\n",
        "    maksimum_okien_alu=LpVariable(\"alu\",0)\r\n",
        "    maksimum_okien_drewno=LpVariable(\"drewno\",0)\r\n",
        "\r\n",
        "    prob += 3000*maksimum_okien_alu + 5000*maksimum_okien_drewno, \"Total Cost\"\r\n",
        "    prob += maksimum_okien_alu*1<= czas_F1, \"czas fabryki F1\"\r\n",
        "    prob += maksimum_okien_drewno*2<= czas_F2, \"czas fabryki F2\"\r\n",
        "    prob += maksimum_okien_alu*3+maksimum_okien_drewno*2<= czas_F3, \"czas fabryki F3\"\r\n",
        "    \r\n",
        "    prob.solve()\r\n",
        "    print(\"Status:\", LpStatus[prob.status])\r\n",
        "\r\n",
        "    for v in prob.variables():\r\n",
        "        print(v.name, \"=\", v.varValue)\r\n",
        "    print(\"Total Cost  = \", value(prob.objective))\r\n",
        "\r\n",
        "    shadows = [{'name':name,  \"slack\": c.slack} for name, c in prob.constraints.items()]\r\n",
        "    print(\"*\"*10+\"Shadow Prices\"+\"*\"*10)\r\n",
        "    print(pd.DataFrame(shadows))\r\n",
        "\r\n",
        "interact(produkcja,czas_F1 =czas_F1_slider,\r\n",
        "    czas_F2 =czas_F2_slider,\r\n",
        "    czas_F3 =czas_F3_slider)\r\n",
        "    \r\n",
        "    \r\n"
      ],
      "execution_count": 4,
      "outputs": [
        {
          "output_type": "display_data",
          "data": {
            "application/vnd.jupyter.widget-view+json": {
              "model_id": "258b0128b9054a66b24ef0896db14818",
              "version_minor": 0,
              "version_major": 2
            },
            "text/plain": [
              "interactive(children=(IntSlider(value=4, description='czas_F1_slider', style=SliderStyle(description_width='in…"
            ]
          },
          "metadata": {
            "tags": []
          }
        },
        {
          "output_type": "execute_result",
          "data": {
            "text/plain": [
              "<function __main__.produkcja>"
            ]
          },
          "metadata": {
            "tags": []
          },
          "execution_count": 4
        }
      ]
    }
  ]
}
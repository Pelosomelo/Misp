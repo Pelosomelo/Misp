{
  "nbformat": 4,
  "nbformat_minor": 0,
  "metadata": {
    "kernelspec": {
      "display_name": "Python 3",
      "language": "python",
      "name": "python3"
    },
    "language_info": {
      "codemirror_mode": {
        "name": "ipython",
        "version": 3
      },
      "file_extension": ".py",
      "mimetype": "text/x-python",
      "name": "python",
      "nbconvert_exporter": "python",
      "pygments_lexer": "ipython3",
      "version": "3.6.7"
    },
    "colab": {
      "name": "plan3.ipynb",
      "provenance": [],
      "include_colab_link": true
    }
  },
  "cells": [
    {
      "cell_type": "markdown",
      "metadata": {
        "id": "view-in-github",
        "colab_type": "text"
      },
      "source": [
        "<a href=\"https://colab.research.google.com/github/Pelosomelo/Misp/blob/main/plan3.ipynb\" target=\"_parent\"><img src=\"https://colab.research.google.com/assets/colab-badge.svg\" alt=\"Open In Colab\"/></a>"
      ]
    },
    {
      "cell_type": "markdown",
      "metadata": {
        "id": "hiVkU90TkOmH"
      },
      "source": [
        "# Problem podziału godzin\n",
        "W firmie jest kilku pracowników. Każdy z nich ma określoną ilość godzin każdego dnia jaką może maksymalnie spędzić w pracy. Każdy z pracowników musi pracować 8 godzin tygodniowo. Ponadto biuro otwarte jest jedynie przez 14 godzin przez 5 dni w tygodniu i znajduje się w nim tylko jeden komputer, więc suma pracowanych godzin wszystkich pracowników nie może przekraczać 14 godzin dziennie.\n",
        "\n",
        "Tak sformułowane zadanie nie znajdzie jednak rozwiązania dla więcej niż 8 pracowników ze względu na ilość godzin otwarcia biura w tygodniu."
      ]
    },
    {
      "cell_type": "markdown",
      "metadata": {
        "id": "KqDQJSc9kOmH"
      },
      "source": [
        "## Wersja rozszerzona o obsługę danych z pliku csv zawierającego dowolną ilością pracowników"
      ]
    },
    {
      "cell_type": "markdown",
      "metadata": {
        "id": "nWGVyw42kOmI"
      },
      "source": [
        "### Import bibliotek używanych do rozwiązania problemu"
      ]
    },
    {
      "cell_type": "code",
      "metadata": {
        "id": "3FPsh2Ejjb0B"
      },
      "source": [
        "!pip install pulp\n",
        "\n",
        "!sudo apt-get install coinor-cbc glpk-utils coinor-clp"
      ],
      "execution_count": null,
      "outputs": []
    },
    {
      "cell_type": "code",
      "metadata": {
        "id": "iQm7QeSkkOmI"
      },
      "source": [
        "from pulp import *\n",
        "import pandas as pd\n",
        "import math"
      ],
      "execution_count": null,
      "outputs": []
    },
    {
      "cell_type": "code",
      "metadata": {
        "colab": {
          "base_uri": "https://localhost:8080/"
        },
        "id": "S0vCvPWMXUha",
        "outputId": "7d7e52af-c340-4ed9-8846-0fa0329f6fe7"
      },
      "source": [
        "from google.colab import drive\n",
        "drive.mount('/content/drive')"
      ],
      "execution_count": null,
      "outputs": [
        {
          "output_type": "stream",
          "text": [
            "Mounted at /content/drive\n"
          ],
          "name": "stdout"
        }
      ]
    },
    {
      "cell_type": "markdown",
      "metadata": {
        "id": "t4-W8yelkOmI"
      },
      "source": [
        "### Import danych o godzinach z csv, sortowanie pracowników alfabetycznie oraz obliczenie ilości pracowników"
      ]
    },
    {
      "cell_type": "code",
      "metadata": {
        "scrolled": false,
        "id": "x0Cttz9UkOmI",
        "colab": {
          "base_uri": "https://localhost:8080/"
        },
        "outputId": "2792e308-eb38-4525-8c49-9c0a8c473754"
      },
      "source": [
        "dzien = pd.read_csv('/content/drive/MyDrive/tablica_z_dodanym.csv',index_col=0).to_dict()\n",
        "pon = dzien['1_PN']\n",
        "Pracownicy=list(pon.keys())\n",
        "Pracownicy.sort()\n",
        "ilosc=len(Pracownicy)\n",
        "print(dzien)"
      ],
      "execution_count": null,
      "outputs": [
        {
          "output_type": "stream",
          "text": [
            "{'1_PN': {'KC': 6, 'DH': 0, 'HB': 4, 'SC': 5, 'KS': 3, 'NK': 0, 'AA': 2}, '2_WT': {'KC': 0, 'DH': 6, 'HB': 8, 'SC': 5, 'KS': 0, 'NK': 0, 'AA': 2}, '3_SR': {'KC': 6, 'DH': 0, 'HB': 4, 'SC': 5, 'KS': 3, 'NK': 0, 'AA': 2}, '4_CW': {'KC': 0, 'DH': 6, 'HB': 0, 'SC': 0, 'KS': 8, 'NK': 6, 'AA': 2}, '5_PT': {'KC': 6, 'DH': 0, 'HB': 4, 'SC': 5, 'KS': 0, 'NK': 2, 'AA': 2}}\n"
          ],
          "name": "stdout"
        }
      ]
    },
    {
      "cell_type": "markdown",
      "metadata": {
        "id": "49zuEN0EkOmI"
      },
      "source": [
        "### Deklaracja zmiennych"
      ]
    },
    {
      "cell_type": "code",
      "metadata": {
        "id": "ierckqJgkOmI"
      },
      "source": [
        "#Pracownicy = [\"KC\", \"DH\", \"HB\", \"SC\", \"KS\", \"NK\"]\n",
        "Dni = [\"1_PN\", \"2_WT\", \"3_SR\", \"4_CW\", \"5_PT\"]\n",
        "czas = [[0 for col in range(5)] for row in range(ilosc)]\n",
        "wynik = [[0 for col in range(5)] for row in range(ilosc)]\n",
        "for x in range(ilosc):\n",
        "    for y in range(5):\n",
        "        czas[x][y]=dzien[Dni[y]][Pracownicy[x]]\n",
        "max={'1_PN':9,'2_WT':10,'3_SR':11,'4_CW':12,'5_PT':13}"
      ],
      "execution_count": null,
      "outputs": []
    },
    {
      "cell_type": "markdown",
      "metadata": {
        "id": "nTqRMv86kOmI"
      },
      "source": [
        "### Sformułowanie problemu liniowego"
      ]
    },
    {
      "cell_type": "code",
      "metadata": {
        "id": "RR-mBjn8kOmI"
      },
      "source": [
        "czas = makeDict([Pracownicy,Dni],czas,0)\n",
        "prob = LpProblem(\"Grafik\",LpMinimize)\n",
        "vars = LpVariable.dicts(\"Grafik\",(Pracownicy,Dni),0,None,LpInteger)"
      ],
      "execution_count": null,
      "outputs": []
    },
    {
      "cell_type": "markdown",
      "metadata": {
        "id": "wJqH6ijrkOmI"
      },
      "source": [
        "### Wprowadzenie ograniczeń"
      ]
    },
    {
      "cell_type": "code",
      "metadata": {
        "id": "G5arWwCykOmI"
      },
      "source": [
        "for w in Pracownicy:\n",
        "    prob += lpSum([vars[w][b] for b in Dni])==8\n",
        "\n",
        "for b in Dni:\n",
        "    prob += lpSum([vars[w][b] for w in Pracownicy])==max[b]\n",
        "\n",
        "for w in Pracownicy:\n",
        "    for b in Dni:\n",
        "        prob += vars[w][b]<=czas[w][b]"
      ],
      "execution_count": null,
      "outputs": []
    },
    {
      "cell_type": "markdown",
      "metadata": {
        "id": "1Zpi8mBpkOmJ"
      },
      "source": [
        "### Rozwiązanie problemu\n",
        "Specyfikacje zdefiniowanego problemu zapiszemy w pliku pod nazwą \"Grafik_Pracownikow\", rozwiązujemy problem i na ekranie wyświetlamy informację o statusie rozwiązania. Jeżeli wyświetli nam się \"Status: Optimal\" oznacza to, że wynik jest poprawny. Gdyby pojawił się \"Status: Infeasible\" oznacza to że wynik jest niemożliwy do otrzymania i wtedy potrzebna jest redefinicja problemu z innymi warunkami."
      ]
    },
    {
      "cell_type": "code",
      "metadata": {
        "id": "mofc0OzqkOmJ",
        "colab": {
          "base_uri": "https://localhost:8080/"
        },
        "outputId": "e0c3cb37-0525-408c-c4f0-e427f4f49ecd"
      },
      "source": [
        "prob.writeLP(\"Grafik_Pracownikow.lp\")\n",
        "prob.solve()\n",
        "print(\"Status:\", LpStatus[prob.status])"
      ],
      "execution_count": null,
      "outputs": [
        {
          "output_type": "stream",
          "text": [
            "Status: Infeasible\n"
          ],
          "name": "stdout"
        }
      ]
    },
    {
      "cell_type": "markdown",
      "metadata": {
        "id": "f8L90a_NkOmK"
      },
      "source": [
        "### Przygotowanie wyniku\n",
        "Wynik zapisany jest w (5 * ilość pracowników) zmiennych, przepisując wartości zmiennych do tablicy, możemy je posortować i wyświetlić w wybranej przez nas kolejności."
      ]
    },
    {
      "cell_type": "code",
      "metadata": {
        "scrolled": true,
        "id": "-_QflFJ1kOmK"
      },
      "source": [
        "\n",
        "    # Każda zmienna zostanie zapisana do tablicy wynik\n",
        "for v in range(ilosc*5):\n",
        "    wynik[math.floor(v/5)][v%5] = prob.variables()[v].varValue\n",
        "    \n"
      ],
      "execution_count": null,
      "outputs": []
    },
    {
      "cell_type": "markdown",
      "metadata": {
        "id": "Lrz54vVFkOmK"
      },
      "source": [
        "### Wyświetlenie wyniku\n",
        "Za pomocą jednej pętli i wyświetlonemu najpierw nagłówkowi, możemy przedstawić wynik w formie czytelnej tabeli."
      ]
    },
    {
      "cell_type": "code",
      "metadata": {
        "id": "Lb_luXdNkOmK",
        "colab": {
          "base_uri": "https://localhost:8080/"
        },
        "outputId": "6b628599-9a3b-4143-8ec7-ffce4207b54f"
      },
      "source": [
        "print(\"    PN   WT   SR   CZW  PT\")\n",
        "for i in range(ilosc):\n",
        "    print(Pracownicy[i],wynik[i])\n",
        "        "
      ],
      "execution_count": null,
      "outputs": [
        {
          "output_type": "stream",
          "text": [
            "    PN   WT   SR   CZW  PT\n",
            "AA [2.0, 2.0, 2.0, 0.0, 1.0]\n",
            "DH [0.0, 4.0, 0.0, 4.0, 0.0]\n",
            "HB [0.0, 0.0, 4.0, 0.0, 4.0]\n",
            "KC [0.0, 0.0, 2.0, 0.0, 6.0]\n",
            "KS [3.0, 0.0, 3.0, 2.0, 0.0]\n",
            "NK [0.0, 0.0, 0.0, 6.0, 2.0]\n",
            "SC [4.0, 4.0, 0.0, 0.0, 0.0]\n"
          ],
          "name": "stdout"
        }
      ]
    }
  ]
}
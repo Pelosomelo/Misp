{
  "nbformat": 4,
  "nbformat_minor": 0,
  "metadata": {
    "colab": {
      "name": "pradmocpulp.ipynb",
      "provenance": [],
      "collapsed_sections": [],
      "authorship_tag": "ABX9TyOj2vkklRy0aP8cf9ChHVDd",
      "include_colab_link": true
    },
    "kernelspec": {
      "name": "python3",
      "display_name": "Python 3"
    }
  },
  "cells": [
    {
      "cell_type": "markdown",
      "metadata": {
        "id": "view-in-github",
        "colab_type": "text"
      },
      "source": [
        "<a href=\"https://colab.research.google.com/github/Pelosomelo/Misp/blob/main/pradmocpulp.ipynb\" target=\"_parent\"><img src=\"https://colab.research.google.com/assets/colab-badge.svg\" alt=\"Open In Colab\"/></a>"
      ]
    },
    {
      "cell_type": "code",
      "metadata": {
        "id": "Hsm4Ia3yp7DH"
      },
      "source": [
        "!pip install pulp\n",
        "\n",
        "!sudo apt-get install coinor-cbc glpk-utils coinor-clp"
      ],
      "execution_count": null,
      "outputs": []
    },
    {
      "cell_type": "code",
      "metadata": {
        "id": "NVuZHNvYqABq",
        "colab": {
          "base_uri": "https://localhost:8080/"
        },
        "outputId": "0cb7e735-21b9-414a-bfb0-68364cd6dad5"
      },
      "source": [
        "#zadanie prąd\n",
        "from pulp import *\n",
        "prob = LpProblem(\"Prad\",LpMaximize)\n",
        "I1=LpVariable(\"I1\",0,2)\n",
        "I2=LpVariable(\"I2\",0,3)\n",
        "I3=LpVariable(\"I3\",0,4)\n",
        "I4=LpVariable(\"I4\",0,2)\n",
        "I5=LpVariable(\"I5\",0,2)\n",
        "\n",
        "\n",
        "prob += I1 + I2, \"I wyj\"\n",
        "\n",
        "prob += I4 + I5 - I3 == 0, \"węzeł 1\"\n",
        "prob += I1 + I2 - I3 == 0, \"węzeł 2\"\n",
        "prob += I1 * 8 - I2 * 6 == 0, \"oczko1\"\n",
        "prob += I4 * 10 - I5 * 8 == 0, \"oczko2\"\n",
        "prob.writeLP(\"Prad.lp\")\n",
        "prob.solve()\n",
        "print(\"Status:\", LpStatus[prob.status])\n",
        "for v in prob.variables():\n",
        "    print(v.name, \"=\", v.varValue)\n",
        "print(\"Imax = \", value(prob.objective))"
      ],
      "execution_count": null,
      "outputs": [
        {
          "output_type": "stream",
          "text": [
            "Status: Optimal\n",
            "I1 = 1.5428571\n",
            "I2 = 2.0571429\n",
            "I3 = 3.6\n",
            "I4 = 1.6\n",
            "I5 = 2.0\n",
            "Imax =  3.6\n"
          ],
          "name": "stdout"
        }
      ]
    },
    {
      "cell_type": "code",
      "metadata": {
        "id": "b6iN_qSEqOuo",
        "colab": {
          "base_uri": "https://localhost:8080/"
        },
        "outputId": "e4f5880e-fa02-4625-c4a1-bfd1446cfe84"
      },
      "source": [
        "#zadanie spadek mocy\n",
        "from pulp import *\n",
        "prob = LpProblem(\"Moc r\",LpMinimize)\n",
        "I1=LpVariable(\"I1\",3,5)\n",
        "I2=LpVariable(\"I2\",1,3)\n",
        "I3=LpVariable(\"I3\",1,3)\n",
        "I4=LpVariable(\"I4\",1,3)\n",
        "I5=LpVariable(\"I5\",3,5)\n",
        "U=[6, 10, 4, 7, 3]\n",
        "\n",
        "prob += U[0] * I1 + U[1] * I2 + U[2] * I3 + U[3] * I4 + U[4] * I5, \"moc rozproszona całkowita wyj\"\n",
        "\n",
        "prob += I1 - I4 - I3 == 0, \"węzeł 1\"\n",
        "prob += I2 + I3 - I5 == 0, \"węzeł 2\"\n",
        "\n",
        "prob.writeLP(\"Moc r.lp\")\n",
        "prob.solve()\n",
        "print(\"Status:\", LpStatus[prob.status])\n",
        "for v in prob.variables():\n",
        "    print(v.name, \"=\", v.varValue)"
      ],
      "execution_count": null,
      "outputs": [
        {
          "output_type": "stream",
          "text": [
            "Status: Optimal\n",
            "I1 = 3.0\n",
            "I2 = 1.0\n",
            "I3 = 2.0\n",
            "I4 = 1.0\n",
            "I5 = 3.0\n"
          ],
          "name": "stdout"
        },
        {
          "output_type": "stream",
          "text": [
            "/usr/local/lib/python3.6/dist-packages/pulp/pulp.py:1198: UserWarning: Spaces are not permitted in the name. Converted to '_'\n",
            "  warnings.warn(\"Spaces are not permitted in the name. Converted to '_'\")\n"
          ],
          "name": "stderr"
        }
      ]
    }
  ]
}
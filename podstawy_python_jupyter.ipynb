{
  "nbformat": 4,
  "nbformat_minor": 0,
  "metadata": {
    "kernelspec": {
      "display_name": "Python 3",
      "language": "python",
      "name": "python3"
    },
    "language_info": {
      "codemirror_mode": {
        "name": "ipython",
        "version": 3
      },
      "file_extension": ".py",
      "mimetype": "text/x-python",
      "name": "python",
      "nbconvert_exporter": "python",
      "pygments_lexer": "ipython3",
      "version": "3.7.3"
    },
    "colab": {
      "name": "podstawy_python_jupyter.ipynb",
      "provenance": [],
      "collapsed_sections": [],
      "include_colab_link": true
    }
  },
  "cells": [
    {
      "cell_type": "markdown",
      "metadata": {
        "id": "view-in-github",
        "colab_type": "text"
      },
      "source": [
        "<a href=\"https://colab.research.google.com/github/Pelosomelo/Misp/blob/main/podstawy_python_jupyter.ipynb\" target=\"_parent\"><img src=\"https://colab.research.google.com/assets/colab-badge.svg\" alt=\"Open In Colab\"/></a>"
      ]
    },
    {
      "cell_type": "code",
      "metadata": {
        "id": "_BrFKBiOyuUC",
        "colab": {
          "base_uri": "https://localhost:8080/",
          "height": 34
        },
        "outputId": "4b9b0931-73c0-4ded-eacf-a5a5ec595fe0"
      },
      "source": [
        "# komentarz\n",
        "\n",
        "# if\n",
        "\n",
        "wielkosc = 7\n",
        "\n",
        "print(wielkosc)"
      ],
      "execution_count": null,
      "outputs": [
        {
          "output_type": "stream",
          "text": [
            "7\n"
          ],
          "name": "stdout"
        }
      ]
    },
    {
      "cell_type": "code",
      "metadata": {
        "id": "VBZEnfNqyuUG",
        "colab": {
          "base_uri": "https://localhost:8080/",
          "height": 34
        },
        "outputId": "f69cfb31-00dd-4bdc-8c14-29634947c288"
      },
      "source": [
        "#warunki If\n",
        "if wielkosc >6:\n",
        "    print(\"ale duze\")\n",
        "elif wielkosc < 3:\n",
        "    print(\"malutkie\")\n",
        "    print('franek')\n",
        "else:\n",
        "    print(\"w sam raz\")"
      ],
      "execution_count": null,
      "outputs": [
        {
          "output_type": "stream",
          "text": [
            "ale duze\n"
          ],
          "name": "stdout"
        }
      ]
    },
    {
      "cell_type": "code",
      "metadata": {
        "id": "yFvlKkDuyuUK",
        "colab": {
          "base_uri": "https://localhost:8080/",
          "height": 34
        },
        "outputId": "54b0253d-d512-4ffc-f29a-9e582bd7eec4"
      },
      "source": [
        "studenci = [\"Ania\", \"Zosia\", \"Kasia\", \"Franek\"]\n",
        "\n",
        "print(studenci)\n",
        "#stringi w grupie"
      ],
      "execution_count": null,
      "outputs": [
        {
          "output_type": "stream",
          "text": [
            "['Ania', 'Zosia', 'Kasia', 'Franek']\n"
          ],
          "name": "stdout"
        }
      ]
    },
    {
      "cell_type": "code",
      "metadata": {
        "id": "nIp-AG9QyuUP",
        "colab": {
          "base_uri": "https://localhost:8080/",
          "height": 35
        },
        "outputId": "fa9612c5-f538-4c92-b4bf-2c78f11ad77b"
      },
      "source": [
        "studenci[0][1]\n",
        "#wybór litery lub stringu z grupy"
      ],
      "execution_count": null,
      "outputs": [
        {
          "output_type": "execute_result",
          "data": {
            "application/vnd.google.colaboratory.intrinsic+json": {
              "type": "string"
            },
            "text/plain": [
              "'n'"
            ]
          },
          "metadata": {
            "tags": []
          },
          "execution_count": 10
        }
      ]
    },
    {
      "cell_type": "code",
      "metadata": {
        "scrolled": true,
        "id": "uqRyfyPhyuUS",
        "colab": {
          "base_uri": "https://localhost:8080/",
          "height": 578
        },
        "outputId": "dca35b60-906b-49e3-b79b-969f9db53c2b"
      },
      "source": [
        "#pentla for(bież po koleii elementy z studenci i nazywaj każdy element student)\n",
        "for student in studenci:\n",
        "    print(\"student ma na imie:\", student)\n",
        "    \n",
        "for student in studenci:\n",
        "    print(student)\n",
        "    if student[0]==\"A\":\n",
        "        print(\"student na poczatku alfabetu\")\n",
        "# 10\n",
        "for numer in range(10):\n",
        "    print(numer)\n",
        "#od 1 do 10\n",
        "for numer in range(1,10):\n",
        "    print(numer)\n",
        "# co druga liczba od 1 do 10\n",
        "for numer in range(1,10,2):\n",
        "    print(numer)"
      ],
      "execution_count": null,
      "outputs": [
        {
          "output_type": "stream",
          "text": [
            "student ma na imie: Ania\n",
            "student ma na imie: Zosia\n",
            "student ma na imie: Kasia\n",
            "student ma na imie: Franek\n",
            "Ania\n",
            "student na poczatku alfabetu\n",
            "Zosia\n",
            "Kasia\n",
            "Franek\n",
            "0\n",
            "1\n",
            "2\n",
            "3\n",
            "4\n",
            "5\n",
            "6\n",
            "7\n",
            "8\n",
            "9\n",
            "1\n",
            "2\n",
            "3\n",
            "4\n",
            "5\n",
            "6\n",
            "7\n",
            "8\n",
            "9\n",
            "1\n",
            "3\n",
            "5\n",
            "7\n",
            "9\n"
          ],
          "name": "stdout"
        }
      ]
    },
    {
      "cell_type": "code",
      "metadata": {
        "id": "GL4magexyuUV",
        "outputId": "c6ac90bd-ead0-4edc-b6f2-fde5ca8d3136"
      },
      "source": [
        "# numerowanie studentów\n",
        "for numer, student in enumerate(studenci):\n",
        "    print(\"student {} ma numer {}\".format(student,numer))"
      ],
      "execution_count": null,
      "outputs": [
        {
          "output_type": "stream",
          "text": [
            "student Ania ma numer 0\n",
            "student Zosia ma numer 1\n",
            "student Kasia ma numer 2\n",
            "student Franek ma numer 3\n"
          ],
          "name": "stdout"
        }
      ]
    },
    {
      "cell_type": "code",
      "metadata": {
        "id": "gDKz9mERyuUY",
        "colab": {
          "base_uri": "https://localhost:8080/",
          "height": 170
        },
        "outputId": "d4785e33-96f0-4df8-8a30-da9d6dba4dc3"
      },
      "source": [
        "#powiązanie list\n",
        "oceny = [2,2,5,3]\n",
        "\n",
        "# składnia c++\n",
        "# na czerwono jest jak ma być wyświetlany wynik\n",
        "for numer, student in enumerate(studenci):\n",
        "    print(\"student {} ma numer {} i ocenę {}\".format(student,numer,oceny[numer]))\n",
        "\n",
        "# składnia phyton\n",
        "# zip łączy elementy\n",
        "print(\"--\"*20)    \n",
        "for number, (student, ocena) in enumerate(zip(studenci,oceny)):\n",
        "    print(\"student {} ma numer {} i ocenę {}\".format(student,number,ocena))"
      ],
      "execution_count": null,
      "outputs": [
        {
          "output_type": "stream",
          "text": [
            "student Ania ma numer 0 i ocenę 2\n",
            "student Zosia ma numer 1 i ocenę 2\n",
            "student Kasia ma numer 2 i ocenę 5\n",
            "student Franek ma numer 3 i ocenę 3\n",
            "----------------------------------------\n",
            "student Ania ma numer 0 i ocenę 2\n",
            "student Zosia ma numer 1 i ocenę 2\n",
            "student Kasia ma numer 2 i ocenę 5\n",
            "student Franek ma numer 3 i ocenę 3\n"
          ],
          "name": "stdout"
        }
      ]
    },
    {
      "cell_type": "code",
      "metadata": {
        "id": "CDhZ9tzFyuUf"
      },
      "source": [
        "trzy_elementy= [1,2,3]\n",
        "pierwszy,drugi,trzeci= trzy_elementy"
      ],
      "execution_count": null,
      "outputs": []
    },
    {
      "cell_type": "code",
      "metadata": {
        "id": "71QQCVfcyuUi",
        "colab": {
          "base_uri": "https://localhost:8080/",
          "height": 170
        },
        "outputId": "6638a2a0-f131-4959-f804-2db3c271e304"
      },
      "source": [
        "#przykład while\n",
        "#nie ma ++ jest +=\n",
        "n = 1\n",
        "\n",
        "while(n < 10):\n",
        "    print(n)\n",
        "    n+=1"
      ],
      "execution_count": null,
      "outputs": [
        {
          "output_type": "stream",
          "text": [
            "1\n",
            "2\n",
            "3\n",
            "4\n",
            "5\n",
            "6\n",
            "7\n",
            "8\n",
            "9\n"
          ],
          "name": "stdout"
        }
      ]
    },
    {
      "cell_type": "code",
      "metadata": {
        "id": "j9TzpimAyuUl"
      },
      "source": [
        "#definicje funkcji\n",
        "# def nazwa_fukcji(argument1, agrument2)\n",
        "# return co ona zwraca ale nie koniecznie musi mieć co zwarcać\n",
        "def dodaj_dwa(liczba):\n",
        "    return liczba+2\n",
        "\n",
        "def dodaj_trzy(liczba):\n",
        "    return liczba+3\n",
        "\n",
        "def dodaj_dwie_liczby(liczba1,liczba2):\n",
        "    return liczba1+liczba2\n",
        "\n",
        "# funkcja lambda jest funkcją jednolinijkową\n",
        "#nazwa= lambda argument: co zwaraca\n",
        "\n",
        "dodaj_cztery = lambda liczba:liczba+4"
      ],
      "execution_count": null,
      "outputs": []
    },
    {
      "cell_type": "code",
      "metadata": {
        "id": "QJ7Jhm5UyuUo",
        "outputId": "27ca496c-0f92-46f1-a468-ed760fe0e842"
      },
      "source": [
        "# można grupować funkcje i przypisywać funkcję funkcji\n",
        "funkcje=[dodaj_dwa,dodaj_trzy,dodaj_cztery]\n",
        "\n",
        "jakis_nr= 10\n",
        "\n",
        "for funkcja in funkcje:\n",
        "    print(funkcja(jakis_nr))"
      ],
      "execution_count": null,
      "outputs": [
        {
          "output_type": "stream",
          "text": [
            "12\n",
            "13\n",
            "14\n"
          ],
          "name": "stdout"
        }
      ]
    },
    {
      "cell_type": "code",
      "metadata": {
        "id": "2glPORZjyuUs",
        "colab": {
          "base_uri": "https://localhost:8080/",
          "height": 34
        },
        "outputId": "18433052-ce6c-465e-e61e-4808a396597d"
      },
      "source": [
        "#Z listy można wybierać:\n",
        "# element któryś tu 0\n",
        "print (studenci[0]\n",
        "#od elementu 1 dalej\n",
        ", studenci[1:]\n",
        "# wszystkie oprucz 1 od końca\n",
        ", studenci[:-1]\n",
        "# student ostatni lub wcześniejszy konkretny\n",
        ", studenci[-1]\n",
        "# wybieranie co drugi element\n",
        ", studenci[::2])"
      ],
      "execution_count": null,
      "outputs": [
        {
          "output_type": "stream",
          "text": [
            "Ania ['Zosia', 'Kasia', 'Franek'] ['Ania', 'Zosia', 'Kasia'] Franek ['Ania', 'Kasia']\n"
          ],
          "name": "stdout"
        }
      ]
    },
    {
      "cell_type": "code",
      "metadata": {
        "id": "9W31hHMRyuUv"
      },
      "source": [
        "#### challenge 0.1\n",
        "\n",
        "zajecia = [\"wf\",\"informatyka\",\"relax\",\"mispy\",\"piateczek\"]\n",
        "\n",
        "dnityg = [\"Pon\",\"Wto\",\"Sro\",\"Czwar\",\"Pio\"]\n",
        "\n",
        "\n",
        "\n"
      ],
      "execution_count": null,
      "outputs": []
    },
    {
      "cell_type": "code",
      "metadata": {
        "id": "Pzc7Y_bkA968",
        "colab": {
          "base_uri": "https://localhost:8080/",
          "height": 153
        },
        "outputId": "0b0a2367-d239-43d3-b585-f8bce87df54b"
      },
      "source": [
        "\n",
        "\n",
        "\n",
        "# wyprintuj zajecia od srody do piatku\n",
        "\n",
        "for (przedmiot, dni_tygodnia) in (zip(zajecia[2 :],dnityg[2 :])):\n",
        "    print(\"printuje {} w {}\".format(przedmiot,dni_tygodnia))\n",
        "\n",
        "print('-'*20)\n",
        "# wyprintuj oprocz srody\n",
        "\n",
        "for (przedmiot, dni_tygodnia) in (zip(zajecia,dnityg)):\n",
        "  if dni_tygodnia!=\"Sro\":\n",
        "    print(\"printuje {} w {}\".format(przedmiot,dni_tygodnia))\n"
      ],
      "execution_count": null,
      "outputs": [
        {
          "output_type": "stream",
          "text": [
            "printuje relax w Sro\n",
            "printuje mispy w Czwar\n",
            "printuje piateczek w Pio\n",
            "--------------------\n",
            "printuje wf w Pon\n",
            "printuje informatyka w Wto\n",
            "printuje mispy w Czwar\n",
            "printuje piateczek w Pio\n"
          ],
          "name": "stdout"
        }
      ]
    },
    {
      "cell_type": "code",
      "metadata": {
        "id": "BI0XvwmjyuUy",
        "colab": {
          "base_uri": "https://localhost:8080/",
          "height": 153
        },
        "outputId": "def36c06-39a0-45ea-b3d2-fbf467330231"
      },
      "source": [
        "#### challenge 0.2\n",
        "\n",
        "zajecia = [\n",
        "           [\"wf\"],\n",
        "           [\"informatyka\", \"nauka czytania\"],\n",
        "           [\"relax\", \"jedzenie\"],\n",
        "           [\"mispy\",\"mispy w domu\"],\n",
        "           [\"piateczek\", \"praca domowa z mispow\", \"Ilovemispy\", \"mispy w czasie snu\"]\n",
        "          ]\n",
        "\n",
        "dnityg= [\"Pon\",\"Wto\",\"Sro\",\"Czwar\",\"Pio\"]\n",
        "\n",
        "# zdefiniuj funkcje ktora poda ile jest zajec danego dnia\n",
        "\n",
        "def ile_zaj(x):  \n",
        "  if (x == \"Pon\"):\n",
        "    print(\"są {} zajecia w {}\".format(len(zajecia[0]),dnityg[0]))\n",
        "  elif (x == \"Wto\"):\n",
        "    print(\"są {} zajecia w {}\".format(len(zajecia[1]),dnityg[1]))\n",
        "  elif (x == \"Sro\"):\n",
        "    print(\"są {} zajecia w {}\".format(len(zajecia[2]),dnityg[2]))\n",
        "  elif (x == \"Czwar\"):\n",
        "    print(\"są {} zajecia w {}\".format(len(zajecia[3]),dnityg[3]))\n",
        "  else:\n",
        "    print(\"są {} zajecia w {}\".format(len(zajecia[4]),dnityg[4]))\n",
        "\n",
        "ile_zaj(\"Pio\")\n",
        "\n",
        "print('-'*20)\n",
        "\n",
        "# lista_zajec_z_dnia -> ile ich jest\n",
        "\n",
        "def co_zaj(y):  \n",
        "  if (y == \"Pon\"):\n",
        "    print(\"są {} zajecia {} w {}\".format(len(zajecia[0]),zajecia[0],dnityg[0]))\n",
        "  elif (y == \"Wto\"):\n",
        "    print(\"są {} zajecia {} w {}\".format(len(zajecia[1]),zajecia[1],dnityg[1]))\n",
        "  elif (y == \"Sro\"):\n",
        "    print(\"są {} zajecia {} w {}\".format(len(zajecia[2]),zajecia[2],dnityg[2]))\n",
        "  elif (y == \"Czwar\"):\n",
        "    print(\"są {} zajecia {} w {}\".format(len(zajecia[3]),zajecia[3],dnityg[3]))\n",
        "  else:\n",
        "    print(\"są {} zajecia {} w {}\".format(len(zajecia[4]),zajecia[4],dnityg[4]))\n",
        "\n",
        "co_zaj(\"Pon\")\n",
        "\n",
        "print('-'*20)\n",
        "\n",
        "# posortuj dni po najbardziej zajetych\n",
        "\n",
        "ile_zaj=[]\n",
        "for przedmiot in zajecia:\n",
        "    ile_zaj.append(ile_zajec(przedmiot))\n",
        "\n",
        "ile_zaj_cyfry=list(enumerate(ile_zaj))\n",
        "\n",
        "sort_ile_zaj= sorted(ile_zaj_cyfry, key= lambda krotka:krotka[1],reverse=True)\n",
        "\n",
        "cyfry, _  = zip(*sort_ile_zaj)\n",
        "sort_ile_zaj=[]\n",
        "for cyfra in cyfry:\n",
        "    sort_ile_zaj.append(dnityg[cyfra])\n",
        "\n",
        "ile_zaj= sorted(ile_zaj,reverse=True)\n",
        "\n",
        "sort_ile_zaj=[dnityg[cyfra] for cyfra in cyfry]\n",
        "\n",
        "print(\"{} jest zajec {}\".format(sort_ile_zaj,ile_zaj))\n",
        "    \n",
        "print('-'*20)\n",
        "\n",
        "\n",
        "\n",
        "\n",
        "\n",
        "\n",
        "#### challenge 0.3\n",
        "\n",
        "## napisz program ktory znajdzie dzien z najwieksza iloscia mispow\n",
        "Misp=[]\n",
        "ile_misp=[]\n",
        "for przedmioty in zajecia:\n",
        "    for przedmiot in przedmioty:\n",
        "        Misp.append(przedmiot.count(\"misp\"))\n",
        "    ile_misp.append(Misp.count(1))\n",
        "    Misp=[]\n",
        "\n",
        "ile_misp= sorted(ile_misp,reverse=True)\n",
        "\n",
        "print (ile_misp[0])\n",
        "\n",
        "\n",
        "\n",
        "    \n",
        "print('-'*20)\n",
        "\n"
      ],
      "execution_count": null,
      "outputs": [
        {
          "output_type": "stream",
          "text": [
            "są 4 zajecia w Pio\n",
            "--------------------\n",
            "są 1 zajecia ['wf'] w Pon\n",
            "--------------------\n",
            "['Pio', 'Wto', 'Sro', 'Czwar', 'Pon'] jest zajec [4, 2, 2, 2, 1]\n",
            "--------------------\n",
            "3\n",
            "--------------------\n"
          ],
          "name": "stdout"
        }
      ]
    },
    {
      "cell_type": "code",
      "metadata": {
        "id": "ptj-2h8CyuU1",
        "colab": {
          "base_uri": "https://localhost:8080/",
          "height": 34
        },
        "outputId": "f51ff02d-0577-4f75-e16b-c44fa556b18c"
      },
      "source": [
        "len(zajecia)\n",
        "\n",
        "zajecia[4][1]\n",
        "\n",
        "\"Ma\" in \"MojaMaMa\"\n",
        "\n",
        "liczby=[\"22\",\"11\",\"33\",\"100\"]\n",
        "liczby_i_nazwy= [(\"22\",\"dwadziescia dwa\"),\n",
        "                 (\"11\",\"jedenascie\"),\n",
        "        (\"33\",\"trzydziesci trzy\"),(\"100\",\"sto\")]\n",
        "sorted(liczby)\n",
        "\n",
        "sorted(liczby, key=int)\n",
        "\n",
        "liczby_kolejnosc= enumerate(liczby)\n",
        "\n",
        "def czy_jest_jeden(liczba):\n",
        "\n",
        "    if \"1\" in liczba:\n",
        "        return 1\n",
        "    else:\n",
        "        return 0\n",
        "def na_liczbe(krotka):\n",
        "         return int(krotka[0])\n",
        "def na_liczbe_index(krotka):\n",
        "         return int(krotka[1])    \n",
        "sorted(liczby, key=czy_jest_jeden)\n",
        "         \n",
        "sorted(liczby_i_nazwy,key=na_liczbe)\n",
        "\n",
        "sorted(liczby_kolejnosc,key=na_liczbe_index)"
      ],
      "execution_count": null,
      "outputs": [
        {
          "output_type": "execute_result",
          "data": {
            "text/plain": [
              "[(1, '11'), (0, '22'), (2, '33'), (3, '100')]"
            ]
          },
          "metadata": {
            "tags": []
          },
          "execution_count": 114
        }
      ]
    },
    {
      "cell_type": "code",
      "metadata": {
        "id": "eWH9zOV1yuU4",
        "outputId": "1d92788b-447a-48f5-c5dc-04720d710550"
      },
      "source": [
        "sorted(liczby_kolejnosc,key=)"
      ],
      "execution_count": null,
      "outputs": [
        {
          "output_type": "execute_result",
          "data": {
            "text/plain": [
              "<enumerate at 0x7f5efea012d0>"
            ]
          },
          "metadata": {
            "tags": []
          },
          "execution_count": 48
        }
      ]
    },
    {
      "cell_type": "code",
      "metadata": {
        "id": "WQExajv3yuU8"
      },
      "source": [
        ""
      ],
      "execution_count": null,
      "outputs": []
    }
  ]
}
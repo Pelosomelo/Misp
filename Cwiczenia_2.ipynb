{
  "nbformat": 4,
  "nbformat_minor": 0,
  "metadata": {
    "colab": {
      "name": "Cwiczenia_2.ipynb",
      "provenance": [],
      "collapsed_sections": [],
      "authorship_tag": "ABX9TyPED+lqJ5+z2HklKtdpWWfe",
      "include_colab_link": true
    },
    "kernelspec": {
      "name": "python3",
      "display_name": "Python 3"
    }
  },
  "cells": [
    {
      "cell_type": "markdown",
      "metadata": {
        "id": "view-in-github",
        "colab_type": "text"
      },
      "source": [
        "<a href=\"https://colab.research.google.com/github/Pelosomelo/Misp/blob/main/Cwiczenia_2.ipynb\" target=\"_parent\"><img src=\"https://colab.research.google.com/assets/colab-badge.svg\" alt=\"Open In Colab\"/></a>"
      ]
    },
    {
      "cell_type": "markdown",
      "metadata": {
        "id": "THQ4caZ441Ql"
      },
      "source": [
        "**Zadania z drugich zajęć**"
      ]
    },
    {
      "cell_type": "code",
      "metadata": {
        "id": "rVmPcIov4mq2"
      },
      "source": [
        "#challenge 1\r\n",
        "#Stworz typ NumerTelefonu\r\n",
        "\r\n",
        "#-- przy tworzeniu sprawdza czy właściwy numer (Polski) jeśli nie pisze, że error (ew. Exception)\r\n",
        "\r\n",
        "#-- gdy printuję to mi pisze polskimi słowami i.e. \"jeden, pięć, siedem, zero\"\r\n",
        "\r\n",
        "#-- gdy wywołuję właściwość wojewodzwtwo, podaje mi wojewodztwo ew. ze to komorkowy\r\n",
        "\r\n",
        "# ma na takie rzeczy być w stanie odpowiedzieć\r\n",
        "#typ i klasa numeru\r\n",
        "#>>> \"prawidlowy numer\"\r\n",
        "\r\n",
        "#print(\"*\"*20)\r\n",
        "\r\n",
        "#numer_lodz.wojewodztwo \r\n",
        "#>>> \"Lodz\"\r\n",
        "\r\n",
        "#print(\"*\"*20)\r\n",
        "\r\n",
        "#print(numer_lodz)\r\n",
        "#>>> \"cztery dwa sześć osiem siedem siedem osiem sześć osiem\"\r\n",
        "#----------------------------------------------------------------\r\n",
        "# Kod sprawdzania numeru\r\n",
        "class NumerTelefonu():\r\n",
        "\r\n",
        "    def __init__(self, lista_numeru): \r\n",
        "        self.numer= lista_numeru\r\n",
        "        \r\n",
        "\r\n",
        "    def czy_prawidlowy_nr(self):\r\n",
        "        if \"4\" in self.numer[0] !=0 and (len(self.numer))==9:\r\n",
        "          print(\"prawidlowy numer\")\r\n",
        "        else:\r\n",
        "          print(\"Błąd\")\r\n",
        "  \r\n",
        "    def __repr__(self):\r\n",
        "        a=[]\r\n",
        "        for cyfra in self.numer:\r\n",
        "          if cyfra == \"1\":\r\n",
        "            a.append(\"jeden\")\r\n",
        "          elif cyfra == \"2\":\r\n",
        "            a.append(\"dwa\")\r\n",
        "          elif cyfra == \"3\":\r\n",
        "            a.append(\"trzy\")\r\n",
        "          elif cyfra == \"4\":\r\n",
        "            a.append(\"cztery\")\r\n",
        "          elif cyfra == \"5\":\r\n",
        "            a.append(\"pięć\")\r\n",
        "          elif cyfra == \"6\":\r\n",
        "            a.append(\"sześć\")\r\n",
        "          elif cyfra == \"7\":\r\n",
        "            a.append(\"siedem\")\r\n",
        "          elif cyfra == \"8\":\r\n",
        "            a.append(\"osiem\")\r\n",
        "          elif cyfra == \"9\":\r\n",
        "            a.append(\"dziewięć\")\r\n",
        "          else:\r\n",
        "            a.append(\"zero\") \r\n",
        "        return \"{}\".format(a)\r\n",
        "\r\n",
        "    def wojewodztwo(self):\r\n",
        "        if \"4\" in self.numer[0] and \"2\" in self.numer[1]:\r\n",
        "          print(\"Łódź\")\r\n",
        "        else:\r\n",
        "          print(\"inne woj\")       "
      ],
      "execution_count": 3,
      "outputs": []
    },
    {
      "cell_type": "code",
      "metadata": {
        "colab": {
          "base_uri": "https://localhost:8080/"
        },
        "id": "jT4VaVMp5ykX",
        "outputId": "15cbb428-e4c8-4b26-fd7d-1dfff9e6a6b4"
      },
      "source": [
        "# zapytanie o numer\r\n",
        "numer_lodz = NumerTelefonu(\"426877868\")\r\n",
        "numer_lodz.czy_prawidlowy_nr()\r\n",
        "print(numer_lodz)\r\n",
        "numer_lodz.wojewodztwo() "
      ],
      "execution_count": 5,
      "outputs": [
        {
          "output_type": "stream",
          "text": [
            "prawidlowy numer\n",
            "['cztery', 'dwa', 'sześć', 'osiem', 'siedem', 'siedem', 'osiem', 'sześć', 'osiem']\n",
            "Łódź\n"
          ],
          "name": "stdout"
        }
      ]
    }
  ]
}
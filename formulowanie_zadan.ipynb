{
  "nbformat": 4,
  "nbformat_minor": 0,
  "metadata": {
    "kernelspec": {
      "display_name": "Python 3",
      "language": "python",
      "name": "python3"
    },
    "language_info": {
      "codemirror_mode": {
        "name": "ipython",
        "version": 3
      },
      "file_extension": ".py",
      "mimetype": "text/x-python",
      "name": "python",
      "nbconvert_exporter": "python",
      "pygments_lexer": "ipython3",
      "version": "3.7.3"
    },
    "colab": {
      "name": "formulowanie_zadan.ipynb",
      "provenance": [],
      "include_colab_link": true
    },
    "widgets": {
      "application/vnd.jupyter.widget-state+json": {
        "ac29ce39927c4e39b25f3da16bd70d26": {
          "model_module": "@jupyter-widgets/controls",
          "model_name": "VBoxModel",
          "state": {
            "_view_name": "VBoxView",
            "_dom_classes": [
              "widget-interact"
            ],
            "_model_name": "VBoxModel",
            "_view_module": "@jupyter-widgets/controls",
            "_model_module_version": "1.5.0",
            "_view_count": null,
            "_view_module_version": "1.5.0",
            "box_style": "",
            "layout": "IPY_MODEL_151f41daf88a43fa8b6b532393a66799",
            "_model_module": "@jupyter-widgets/controls",
            "children": [
              "IPY_MODEL_bc073e58b265408098a149482e6b6e9f",
              "IPY_MODEL_f979e4cd5e18422985a526cb935bf034",
              "IPY_MODEL_1f00cd7faa3746a6b2568751bb71398a",
              "IPY_MODEL_598fd88f70ed4e5fb7ca73aab9d241d4",
              "IPY_MODEL_d537a3d91e2c48f991f86e4714b314cc",
              "IPY_MODEL_dc774bf0347c4c4cae98c07b4c368db4",
              "IPY_MODEL_6bd3ca35a2c04ad99e9d8fa3e24b53be",
              "IPY_MODEL_46d0c69aed114b20a301483249171ad0",
              "IPY_MODEL_64a49751b3ee47899822d1f4e01e6599",
              "IPY_MODEL_5c373adb244a4e1b91e1800b83783198",
              "IPY_MODEL_32a5e536760c4ebf82c1406da213b871"
            ]
          }
        },
        "151f41daf88a43fa8b6b532393a66799": {
          "model_module": "@jupyter-widgets/base",
          "model_name": "LayoutModel",
          "state": {
            "_view_name": "LayoutView",
            "grid_template_rows": null,
            "right": null,
            "justify_content": null,
            "_view_module": "@jupyter-widgets/base",
            "overflow": null,
            "_model_module_version": "1.2.0",
            "_view_count": null,
            "flex_flow": null,
            "width": null,
            "min_width": null,
            "border": null,
            "align_items": null,
            "bottom": null,
            "_model_module": "@jupyter-widgets/base",
            "top": null,
            "grid_column": null,
            "overflow_y": null,
            "overflow_x": null,
            "grid_auto_flow": null,
            "grid_area": null,
            "grid_template_columns": null,
            "flex": null,
            "_model_name": "LayoutModel",
            "justify_items": null,
            "grid_row": null,
            "max_height": null,
            "align_content": null,
            "visibility": null,
            "align_self": null,
            "height": null,
            "min_height": null,
            "padding": null,
            "grid_auto_rows": null,
            "grid_gap": null,
            "max_width": null,
            "order": null,
            "_view_module_version": "1.2.0",
            "grid_template_areas": null,
            "object_position": null,
            "object_fit": null,
            "grid_auto_columns": null,
            "margin": null,
            "display": null,
            "left": null
          }
        },
        "bc073e58b265408098a149482e6b6e9f": {
          "model_module": "@jupyter-widgets/controls",
          "model_name": "FloatSliderModel",
          "state": {
            "_view_name": "FloatSliderView",
            "style": "IPY_MODEL_f4688313dcca42f59f0fcf9611318820",
            "_dom_classes": [],
            "description": "cena_jablek_slider",
            "step": 0.1,
            "_model_name": "FloatSliderModel",
            "orientation": "horizontal",
            "max": 1,
            "_view_module": "@jupyter-widgets/controls",
            "_model_module_version": "1.5.0",
            "value": 0.3,
            "_view_count": null,
            "disabled": false,
            "_view_module_version": "1.5.0",
            "min": 0,
            "continuous_update": true,
            "readout_format": ".2f",
            "description_tooltip": null,
            "readout": true,
            "_model_module": "@jupyter-widgets/controls",
            "layout": "IPY_MODEL_6dd11197564f4618a8b97dadea46126a"
          }
        },
        "f979e4cd5e18422985a526cb935bf034": {
          "model_module": "@jupyter-widgets/controls",
          "model_name": "FloatSliderModel",
          "state": {
            "_view_name": "FloatSliderView",
            "style": "IPY_MODEL_3103eb7bd8c44a57a6bc73ad4993fe5f",
            "_dom_classes": [],
            "description": "cena_miodu_slider",
            "step": 0.1,
            "_model_name": "FloatSliderModel",
            "orientation": "horizontal",
            "max": 1,
            "_view_module": "@jupyter-widgets/controls",
            "_model_module_version": "1.5.0",
            "value": 0.2,
            "_view_count": null,
            "disabled": false,
            "_view_module_version": "1.5.0",
            "min": 0,
            "continuous_update": true,
            "readout_format": ".2f",
            "description_tooltip": null,
            "readout": true,
            "_model_module": "@jupyter-widgets/controls",
            "layout": "IPY_MODEL_77af0542701e468d93c7bbd3956fa575"
          }
        },
        "1f00cd7faa3746a6b2568751bb71398a": {
          "model_module": "@jupyter-widgets/controls",
          "model_name": "FloatSliderModel",
          "state": {
            "_view_name": "FloatSliderView",
            "style": "IPY_MODEL_fae3e9f1afd940c7b144db2ba1e91ae8",
            "_dom_classes": [],
            "description": "zysk_z_dzemu_slider",
            "step": 0.1,
            "_model_name": "FloatSliderModel",
            "orientation": "horizontal",
            "max": 50,
            "_view_module": "@jupyter-widgets/controls",
            "_model_module_version": "1.5.0",
            "value": 16,
            "_view_count": null,
            "disabled": false,
            "_view_module_version": "1.5.0",
            "min": 0,
            "continuous_update": true,
            "readout_format": ".2f",
            "description_tooltip": null,
            "readout": true,
            "_model_module": "@jupyter-widgets/controls",
            "layout": "IPY_MODEL_b6ccaec02cb34cb898a510cdd55612c1"
          }
        },
        "598fd88f70ed4e5fb7ca73aab9d241d4": {
          "model_module": "@jupyter-widgets/controls",
          "model_name": "FloatSliderModel",
          "state": {
            "_view_name": "FloatSliderView",
            "style": "IPY_MODEL_be7e3ad33da043468e691c7e470a106d",
            "_dom_classes": [],
            "description": "zysk_z_musu_slider",
            "step": 0.1,
            "_model_name": "FloatSliderModel",
            "orientation": "horizontal",
            "max": 50,
            "_view_module": "@jupyter-widgets/controls",
            "_model_module_version": "1.5.0",
            "value": 11,
            "_view_count": null,
            "disabled": false,
            "_view_module_version": "1.5.0",
            "min": 0,
            "continuous_update": true,
            "readout_format": ".2f",
            "description_tooltip": null,
            "readout": true,
            "_model_module": "@jupyter-widgets/controls",
            "layout": "IPY_MODEL_c2356631df0244a6b47ee83056668a46"
          }
        },
        "d537a3d91e2c48f991f86e4714b314cc": {
          "model_module": "@jupyter-widgets/controls",
          "model_name": "FloatSliderModel",
          "state": {
            "_view_name": "FloatSliderView",
            "style": "IPY_MODEL_92d088fae6de41638336b686d5911cf9",
            "_dom_classes": [],
            "description": "zuzycie_jablek_dzem_slider",
            "step": 0.1,
            "_model_name": "FloatSliderModel",
            "orientation": "horizontal",
            "max": 20,
            "_view_module": "@jupyter-widgets/controls",
            "_model_module_version": "1.5.0",
            "value": 8,
            "_view_count": null,
            "disabled": false,
            "_view_module_version": "1.5.0",
            "min": 0,
            "continuous_update": true,
            "readout_format": ".2f",
            "description_tooltip": null,
            "readout": true,
            "_model_module": "@jupyter-widgets/controls",
            "layout": "IPY_MODEL_df4f7d93573e46648f205341f2dfb7d1"
          }
        },
        "dc774bf0347c4c4cae98c07b4c368db4": {
          "model_module": "@jupyter-widgets/controls",
          "model_name": "FloatSliderModel",
          "state": {
            "_view_name": "FloatSliderView",
            "style": "IPY_MODEL_33a1b7074abe4bc1b91d83756d73e6ab",
            "_dom_classes": [],
            "description": "zuzycie_jablek_mus_slider",
            "step": 0.1,
            "_model_name": "FloatSliderModel",
            "orientation": "horizontal",
            "max": 20,
            "_view_module": "@jupyter-widgets/controls",
            "_model_module_version": "1.5.0",
            "value": 2,
            "_view_count": null,
            "disabled": false,
            "_view_module_version": "1.5.0",
            "min": 0,
            "continuous_update": true,
            "readout_format": ".2f",
            "description_tooltip": null,
            "readout": true,
            "_model_module": "@jupyter-widgets/controls",
            "layout": "IPY_MODEL_3c82ba9deee5417d83aca107378d6806"
          }
        },
        "6bd3ca35a2c04ad99e9d8fa3e24b53be": {
          "model_module": "@jupyter-widgets/controls",
          "model_name": "FloatSliderModel",
          "state": {
            "_view_name": "FloatSliderView",
            "style": "IPY_MODEL_eb88ab515b124184929b832e619784d3",
            "_dom_classes": [],
            "description": "zuzycie_miodu_dzem_slider",
            "step": 0.1,
            "_model_name": "FloatSliderModel",
            "orientation": "horizontal",
            "max": 20,
            "_view_module": "@jupyter-widgets/controls",
            "_model_module_version": "1.5.0",
            "value": 5,
            "_view_count": null,
            "disabled": false,
            "_view_module_version": "1.5.0",
            "min": 0,
            "continuous_update": true,
            "readout_format": ".2f",
            "description_tooltip": null,
            "readout": true,
            "_model_module": "@jupyter-widgets/controls",
            "layout": "IPY_MODEL_a20730bb7aaf42959d056481b73765cd"
          }
        },
        "46d0c69aed114b20a301483249171ad0": {
          "model_module": "@jupyter-widgets/controls",
          "model_name": "FloatSliderModel",
          "state": {
            "_view_name": "FloatSliderView",
            "style": "IPY_MODEL_4a20410130ff475ebc604774d2fd4ee0",
            "_dom_classes": [],
            "description": "zuzycie_miodu_mus_slider",
            "step": 0.1,
            "_model_name": "FloatSliderModel",
            "orientation": "horizontal",
            "max": 20,
            "_view_module": "@jupyter-widgets/controls",
            "_model_module_version": "1.5.0",
            "value": 5,
            "_view_count": null,
            "disabled": false,
            "_view_module_version": "1.5.0",
            "min": 0,
            "continuous_update": true,
            "readout_format": ".2f",
            "description_tooltip": null,
            "readout": true,
            "_model_module": "@jupyter-widgets/controls",
            "layout": "IPY_MODEL_58775de5bb94451b8beb83a64dfd140a"
          }
        },
        "64a49751b3ee47899822d1f4e01e6599": {
          "model_module": "@jupyter-widgets/controls",
          "model_name": "IntSliderModel",
          "state": {
            "_view_name": "IntSliderView",
            "style": "IPY_MODEL_7bdd1bcd8643475aa3d09ffffe0058f4",
            "_dom_classes": [],
            "description": "maksimum_jablek_slider",
            "step": 1,
            "_model_name": "IntSliderModel",
            "orientation": "horizontal",
            "max": 200,
            "_view_module": "@jupyter-widgets/controls",
            "_model_module_version": "1.5.0",
            "value": 40,
            "_view_count": null,
            "disabled": false,
            "_view_module_version": "1.5.0",
            "min": 0,
            "continuous_update": true,
            "readout_format": "d",
            "description_tooltip": null,
            "readout": true,
            "_model_module": "@jupyter-widgets/controls",
            "layout": "IPY_MODEL_5e46396988344d02b61e37befafd3d89"
          }
        },
        "5c373adb244a4e1b91e1800b83783198": {
          "model_module": "@jupyter-widgets/controls",
          "model_name": "FloatSliderModel",
          "state": {
            "_view_name": "FloatSliderView",
            "style": "IPY_MODEL_53b29b9eced444b0bd75a158b9b4facc",
            "_dom_classes": [],
            "description": "maksimum_miodu_slider",
            "step": 0.1,
            "_model_name": "FloatSliderModel",
            "orientation": "horizontal",
            "max": 200,
            "_view_module": "@jupyter-widgets/controls",
            "_model_module_version": "1.5.0",
            "value": 25,
            "_view_count": null,
            "disabled": false,
            "_view_module_version": "1.5.0",
            "min": 0,
            "continuous_update": true,
            "readout_format": ".2f",
            "description_tooltip": null,
            "readout": true,
            "_model_module": "@jupyter-widgets/controls",
            "layout": "IPY_MODEL_d082ff9027da4e14b41e0e2698679cfc"
          }
        },
        "32a5e536760c4ebf82c1406da213b871": {
          "model_module": "@jupyter-widgets/output",
          "model_name": "OutputModel",
          "state": {
            "_view_name": "OutputView",
            "msg_id": "",
            "_dom_classes": [],
            "_model_name": "OutputModel",
            "outputs": [
              {
                "output_type": "pyerr",
                "metadata": {
                  "tags": []
                },
                "ename": "NameError",
                "evalue": "ignored",
                "traceback": [
                  "\u001b[0;31m---------------------------------------------------------------------------\u001b[0m",
                  "\u001b[0;31mNameError\u001b[0m                                 Traceback (most recent call last)",
                  "\u001b[0;32m/usr/local/lib/python3.6/dist-packages/ipywidgets/widgets/interaction.py\u001b[0m in \u001b[0;36mupdate\u001b[0;34m(self, *args)\u001b[0m\n\u001b[1;32m    254\u001b[0m                     \u001b[0mvalue\u001b[0m \u001b[0;34m=\u001b[0m \u001b[0mwidget\u001b[0m\u001b[0;34m.\u001b[0m\u001b[0mget_interact_value\u001b[0m\u001b[0;34m(\u001b[0m\u001b[0;34m)\u001b[0m\u001b[0;34m\u001b[0m\u001b[0;34m\u001b[0m\u001b[0m\n\u001b[1;32m    255\u001b[0m                     \u001b[0mself\u001b[0m\u001b[0;34m.\u001b[0m\u001b[0mkwargs\u001b[0m\u001b[0;34m[\u001b[0m\u001b[0mwidget\u001b[0m\u001b[0;34m.\u001b[0m\u001b[0m_kwarg\u001b[0m\u001b[0;34m]\u001b[0m \u001b[0;34m=\u001b[0m \u001b[0mvalue\u001b[0m\u001b[0;34m\u001b[0m\u001b[0;34m\u001b[0m\u001b[0m\n\u001b[0;32m--> 256\u001b[0;31m                 \u001b[0mself\u001b[0m\u001b[0;34m.\u001b[0m\u001b[0mresult\u001b[0m \u001b[0;34m=\u001b[0m \u001b[0mself\u001b[0m\u001b[0;34m.\u001b[0m\u001b[0mf\u001b[0m\u001b[0;34m(\u001b[0m\u001b[0;34m**\u001b[0m\u001b[0mself\u001b[0m\u001b[0;34m.\u001b[0m\u001b[0mkwargs\u001b[0m\u001b[0;34m)\u001b[0m\u001b[0;34m\u001b[0m\u001b[0;34m\u001b[0m\u001b[0m\n\u001b[0m\u001b[1;32m    257\u001b[0m                 \u001b[0mshow_inline_matplotlib_plots\u001b[0m\u001b[0;34m(\u001b[0m\u001b[0;34m)\u001b[0m\u001b[0;34m\u001b[0m\u001b[0;34m\u001b[0m\u001b[0m\n\u001b[1;32m    258\u001b[0m                 \u001b[0;32mif\u001b[0m \u001b[0mself\u001b[0m\u001b[0;34m.\u001b[0m\u001b[0mauto_display\u001b[0m \u001b[0;32mand\u001b[0m \u001b[0mself\u001b[0m\u001b[0;34m.\u001b[0m\u001b[0mresult\u001b[0m \u001b[0;32mis\u001b[0m \u001b[0;32mnot\u001b[0m \u001b[0;32mNone\u001b[0m\u001b[0;34m:\u001b[0m\u001b[0;34m\u001b[0m\u001b[0;34m\u001b[0m\u001b[0m\n",
                  "\u001b[0;32m<ipython-input-1-bfdf9eabd6ac>\u001b[0m in \u001b[0;36mhurt_produkcja\u001b[0;34m(cena_jablek, cena_miodu, zysk_z_dzemu, zysk_z_musu, zuzycie_jablek_dzem, zuzycie_jablek_mus, zuzycie_miodu_dzem, zuzycie_miodu_mus, maksimum_jablek, maksimum_miodu)\u001b[0m\n\u001b[1;32m     30\u001b[0m     maksimum_miodu = 25):\n\u001b[1;32m     31\u001b[0m \u001b[0;34m\u001b[0m\u001b[0m\n\u001b[0;32m---> 32\u001b[0;31m     \u001b[0mprob\u001b[0m \u001b[0;34m=\u001b[0m \u001b[0mLpProblem\u001b[0m\u001b[0;34m(\u001b[0m\u001b[0;34m\"Najlepsza produkcja HURT\"\u001b[0m\u001b[0;34m,\u001b[0m\u001b[0mLpMaximize\u001b[0m\u001b[0;34m)\u001b[0m\u001b[0;34m\u001b[0m\u001b[0;34m\u001b[0m\u001b[0m\n\u001b[0m\u001b[1;32m     33\u001b[0m \u001b[0;34m\u001b[0m\u001b[0m\n\u001b[1;32m     34\u001b[0m     \u001b[0;31m# 2 zmienne\u001b[0m\u001b[0;34m\u001b[0m\u001b[0;34m\u001b[0m\u001b[0;34m\u001b[0m\u001b[0m\n",
                  "\u001b[0;31mNameError\u001b[0m: name 'LpProblem' is not defined"
                ]
              }
            ],
            "_view_module": "@jupyter-widgets/output",
            "_model_module_version": "1.0.0",
            "_view_count": null,
            "_view_module_version": "1.0.0",
            "layout": "IPY_MODEL_e060b158b9d74ffd96a67090d2c2afbe",
            "_model_module": "@jupyter-widgets/output"
          }
        },
        "f4688313dcca42f59f0fcf9611318820": {
          "model_module": "@jupyter-widgets/controls",
          "model_name": "SliderStyleModel",
          "state": {
            "_view_name": "StyleView",
            "handle_color": null,
            "_model_name": "SliderStyleModel",
            "description_width": "initial",
            "_view_module": "@jupyter-widgets/base",
            "_model_module_version": "1.5.0",
            "_view_count": null,
            "_view_module_version": "1.2.0",
            "_model_module": "@jupyter-widgets/controls"
          }
        },
        "6dd11197564f4618a8b97dadea46126a": {
          "model_module": "@jupyter-widgets/base",
          "model_name": "LayoutModel",
          "state": {
            "_view_name": "LayoutView",
            "grid_template_rows": null,
            "right": null,
            "justify_content": null,
            "_view_module": "@jupyter-widgets/base",
            "overflow": null,
            "_model_module_version": "1.2.0",
            "_view_count": null,
            "flex_flow": null,
            "width": null,
            "min_width": null,
            "border": null,
            "align_items": null,
            "bottom": null,
            "_model_module": "@jupyter-widgets/base",
            "top": null,
            "grid_column": null,
            "overflow_y": null,
            "overflow_x": null,
            "grid_auto_flow": null,
            "grid_area": null,
            "grid_template_columns": null,
            "flex": null,
            "_model_name": "LayoutModel",
            "justify_items": null,
            "grid_row": null,
            "max_height": null,
            "align_content": null,
            "visibility": null,
            "align_self": null,
            "height": null,
            "min_height": null,
            "padding": null,
            "grid_auto_rows": null,
            "grid_gap": null,
            "max_width": null,
            "order": null,
            "_view_module_version": "1.2.0",
            "grid_template_areas": null,
            "object_position": null,
            "object_fit": null,
            "grid_auto_columns": null,
            "margin": null,
            "display": null,
            "left": null
          }
        },
        "3103eb7bd8c44a57a6bc73ad4993fe5f": {
          "model_module": "@jupyter-widgets/controls",
          "model_name": "SliderStyleModel",
          "state": {
            "_view_name": "StyleView",
            "handle_color": null,
            "_model_name": "SliderStyleModel",
            "description_width": "initial",
            "_view_module": "@jupyter-widgets/base",
            "_model_module_version": "1.5.0",
            "_view_count": null,
            "_view_module_version": "1.2.0",
            "_model_module": "@jupyter-widgets/controls"
          }
        },
        "77af0542701e468d93c7bbd3956fa575": {
          "model_module": "@jupyter-widgets/base",
          "model_name": "LayoutModel",
          "state": {
            "_view_name": "LayoutView",
            "grid_template_rows": null,
            "right": null,
            "justify_content": null,
            "_view_module": "@jupyter-widgets/base",
            "overflow": null,
            "_model_module_version": "1.2.0",
            "_view_count": null,
            "flex_flow": null,
            "width": null,
            "min_width": null,
            "border": null,
            "align_items": null,
            "bottom": null,
            "_model_module": "@jupyter-widgets/base",
            "top": null,
            "grid_column": null,
            "overflow_y": null,
            "overflow_x": null,
            "grid_auto_flow": null,
            "grid_area": null,
            "grid_template_columns": null,
            "flex": null,
            "_model_name": "LayoutModel",
            "justify_items": null,
            "grid_row": null,
            "max_height": null,
            "align_content": null,
            "visibility": null,
            "align_self": null,
            "height": null,
            "min_height": null,
            "padding": null,
            "grid_auto_rows": null,
            "grid_gap": null,
            "max_width": null,
            "order": null,
            "_view_module_version": "1.2.0",
            "grid_template_areas": null,
            "object_position": null,
            "object_fit": null,
            "grid_auto_columns": null,
            "margin": null,
            "display": null,
            "left": null
          }
        },
        "fae3e9f1afd940c7b144db2ba1e91ae8": {
          "model_module": "@jupyter-widgets/controls",
          "model_name": "SliderStyleModel",
          "state": {
            "_view_name": "StyleView",
            "handle_color": null,
            "_model_name": "SliderStyleModel",
            "description_width": "initial",
            "_view_module": "@jupyter-widgets/base",
            "_model_module_version": "1.5.0",
            "_view_count": null,
            "_view_module_version": "1.2.0",
            "_model_module": "@jupyter-widgets/controls"
          }
        },
        "b6ccaec02cb34cb898a510cdd55612c1": {
          "model_module": "@jupyter-widgets/base",
          "model_name": "LayoutModel",
          "state": {
            "_view_name": "LayoutView",
            "grid_template_rows": null,
            "right": null,
            "justify_content": null,
            "_view_module": "@jupyter-widgets/base",
            "overflow": null,
            "_model_module_version": "1.2.0",
            "_view_count": null,
            "flex_flow": null,
            "width": null,
            "min_width": null,
            "border": null,
            "align_items": null,
            "bottom": null,
            "_model_module": "@jupyter-widgets/base",
            "top": null,
            "grid_column": null,
            "overflow_y": null,
            "overflow_x": null,
            "grid_auto_flow": null,
            "grid_area": null,
            "grid_template_columns": null,
            "flex": null,
            "_model_name": "LayoutModel",
            "justify_items": null,
            "grid_row": null,
            "max_height": null,
            "align_content": null,
            "visibility": null,
            "align_self": null,
            "height": null,
            "min_height": null,
            "padding": null,
            "grid_auto_rows": null,
            "grid_gap": null,
            "max_width": null,
            "order": null,
            "_view_module_version": "1.2.0",
            "grid_template_areas": null,
            "object_position": null,
            "object_fit": null,
            "grid_auto_columns": null,
            "margin": null,
            "display": null,
            "left": null
          }
        },
        "be7e3ad33da043468e691c7e470a106d": {
          "model_module": "@jupyter-widgets/controls",
          "model_name": "SliderStyleModel",
          "state": {
            "_view_name": "StyleView",
            "handle_color": null,
            "_model_name": "SliderStyleModel",
            "description_width": "initial",
            "_view_module": "@jupyter-widgets/base",
            "_model_module_version": "1.5.0",
            "_view_count": null,
            "_view_module_version": "1.2.0",
            "_model_module": "@jupyter-widgets/controls"
          }
        },
        "c2356631df0244a6b47ee83056668a46": {
          "model_module": "@jupyter-widgets/base",
          "model_name": "LayoutModel",
          "state": {
            "_view_name": "LayoutView",
            "grid_template_rows": null,
            "right": null,
            "justify_content": null,
            "_view_module": "@jupyter-widgets/base",
            "overflow": null,
            "_model_module_version": "1.2.0",
            "_view_count": null,
            "flex_flow": null,
            "width": null,
            "min_width": null,
            "border": null,
            "align_items": null,
            "bottom": null,
            "_model_module": "@jupyter-widgets/base",
            "top": null,
            "grid_column": null,
            "overflow_y": null,
            "overflow_x": null,
            "grid_auto_flow": null,
            "grid_area": null,
            "grid_template_columns": null,
            "flex": null,
            "_model_name": "LayoutModel",
            "justify_items": null,
            "grid_row": null,
            "max_height": null,
            "align_content": null,
            "visibility": null,
            "align_self": null,
            "height": null,
            "min_height": null,
            "padding": null,
            "grid_auto_rows": null,
            "grid_gap": null,
            "max_width": null,
            "order": null,
            "_view_module_version": "1.2.0",
            "grid_template_areas": null,
            "object_position": null,
            "object_fit": null,
            "grid_auto_columns": null,
            "margin": null,
            "display": null,
            "left": null
          }
        },
        "92d088fae6de41638336b686d5911cf9": {
          "model_module": "@jupyter-widgets/controls",
          "model_name": "SliderStyleModel",
          "state": {
            "_view_name": "StyleView",
            "handle_color": null,
            "_model_name": "SliderStyleModel",
            "description_width": "initial",
            "_view_module": "@jupyter-widgets/base",
            "_model_module_version": "1.5.0",
            "_view_count": null,
            "_view_module_version": "1.2.0",
            "_model_module": "@jupyter-widgets/controls"
          }
        },
        "df4f7d93573e46648f205341f2dfb7d1": {
          "model_module": "@jupyter-widgets/base",
          "model_name": "LayoutModel",
          "state": {
            "_view_name": "LayoutView",
            "grid_template_rows": null,
            "right": null,
            "justify_content": null,
            "_view_module": "@jupyter-widgets/base",
            "overflow": null,
            "_model_module_version": "1.2.0",
            "_view_count": null,
            "flex_flow": null,
            "width": null,
            "min_width": null,
            "border": null,
            "align_items": null,
            "bottom": null,
            "_model_module": "@jupyter-widgets/base",
            "top": null,
            "grid_column": null,
            "overflow_y": null,
            "overflow_x": null,
            "grid_auto_flow": null,
            "grid_area": null,
            "grid_template_columns": null,
            "flex": null,
            "_model_name": "LayoutModel",
            "justify_items": null,
            "grid_row": null,
            "max_height": null,
            "align_content": null,
            "visibility": null,
            "align_self": null,
            "height": null,
            "min_height": null,
            "padding": null,
            "grid_auto_rows": null,
            "grid_gap": null,
            "max_width": null,
            "order": null,
            "_view_module_version": "1.2.0",
            "grid_template_areas": null,
            "object_position": null,
            "object_fit": null,
            "grid_auto_columns": null,
            "margin": null,
            "display": null,
            "left": null
          }
        },
        "33a1b7074abe4bc1b91d83756d73e6ab": {
          "model_module": "@jupyter-widgets/controls",
          "model_name": "SliderStyleModel",
          "state": {
            "_view_name": "StyleView",
            "handle_color": null,
            "_model_name": "SliderStyleModel",
            "description_width": "initial",
            "_view_module": "@jupyter-widgets/base",
            "_model_module_version": "1.5.0",
            "_view_count": null,
            "_view_module_version": "1.2.0",
            "_model_module": "@jupyter-widgets/controls"
          }
        },
        "3c82ba9deee5417d83aca107378d6806": {
          "model_module": "@jupyter-widgets/base",
          "model_name": "LayoutModel",
          "state": {
            "_view_name": "LayoutView",
            "grid_template_rows": null,
            "right": null,
            "justify_content": null,
            "_view_module": "@jupyter-widgets/base",
            "overflow": null,
            "_model_module_version": "1.2.0",
            "_view_count": null,
            "flex_flow": null,
            "width": null,
            "min_width": null,
            "border": null,
            "align_items": null,
            "bottom": null,
            "_model_module": "@jupyter-widgets/base",
            "top": null,
            "grid_column": null,
            "overflow_y": null,
            "overflow_x": null,
            "grid_auto_flow": null,
            "grid_area": null,
            "grid_template_columns": null,
            "flex": null,
            "_model_name": "LayoutModel",
            "justify_items": null,
            "grid_row": null,
            "max_height": null,
            "align_content": null,
            "visibility": null,
            "align_self": null,
            "height": null,
            "min_height": null,
            "padding": null,
            "grid_auto_rows": null,
            "grid_gap": null,
            "max_width": null,
            "order": null,
            "_view_module_version": "1.2.0",
            "grid_template_areas": null,
            "object_position": null,
            "object_fit": null,
            "grid_auto_columns": null,
            "margin": null,
            "display": null,
            "left": null
          }
        },
        "eb88ab515b124184929b832e619784d3": {
          "model_module": "@jupyter-widgets/controls",
          "model_name": "SliderStyleModel",
          "state": {
            "_view_name": "StyleView",
            "handle_color": null,
            "_model_name": "SliderStyleModel",
            "description_width": "initial",
            "_view_module": "@jupyter-widgets/base",
            "_model_module_version": "1.5.0",
            "_view_count": null,
            "_view_module_version": "1.2.0",
            "_model_module": "@jupyter-widgets/controls"
          }
        },
        "a20730bb7aaf42959d056481b73765cd": {
          "model_module": "@jupyter-widgets/base",
          "model_name": "LayoutModel",
          "state": {
            "_view_name": "LayoutView",
            "grid_template_rows": null,
            "right": null,
            "justify_content": null,
            "_view_module": "@jupyter-widgets/base",
            "overflow": null,
            "_model_module_version": "1.2.0",
            "_view_count": null,
            "flex_flow": null,
            "width": null,
            "min_width": null,
            "border": null,
            "align_items": null,
            "bottom": null,
            "_model_module": "@jupyter-widgets/base",
            "top": null,
            "grid_column": null,
            "overflow_y": null,
            "overflow_x": null,
            "grid_auto_flow": null,
            "grid_area": null,
            "grid_template_columns": null,
            "flex": null,
            "_model_name": "LayoutModel",
            "justify_items": null,
            "grid_row": null,
            "max_height": null,
            "align_content": null,
            "visibility": null,
            "align_self": null,
            "height": null,
            "min_height": null,
            "padding": null,
            "grid_auto_rows": null,
            "grid_gap": null,
            "max_width": null,
            "order": null,
            "_view_module_version": "1.2.0",
            "grid_template_areas": null,
            "object_position": null,
            "object_fit": null,
            "grid_auto_columns": null,
            "margin": null,
            "display": null,
            "left": null
          }
        },
        "4a20410130ff475ebc604774d2fd4ee0": {
          "model_module": "@jupyter-widgets/controls",
          "model_name": "SliderStyleModel",
          "state": {
            "_view_name": "StyleView",
            "handle_color": null,
            "_model_name": "SliderStyleModel",
            "description_width": "initial",
            "_view_module": "@jupyter-widgets/base",
            "_model_module_version": "1.5.0",
            "_view_count": null,
            "_view_module_version": "1.2.0",
            "_model_module": "@jupyter-widgets/controls"
          }
        },
        "58775de5bb94451b8beb83a64dfd140a": {
          "model_module": "@jupyter-widgets/base",
          "model_name": "LayoutModel",
          "state": {
            "_view_name": "LayoutView",
            "grid_template_rows": null,
            "right": null,
            "justify_content": null,
            "_view_module": "@jupyter-widgets/base",
            "overflow": null,
            "_model_module_version": "1.2.0",
            "_view_count": null,
            "flex_flow": null,
            "width": null,
            "min_width": null,
            "border": null,
            "align_items": null,
            "bottom": null,
            "_model_module": "@jupyter-widgets/base",
            "top": null,
            "grid_column": null,
            "overflow_y": null,
            "overflow_x": null,
            "grid_auto_flow": null,
            "grid_area": null,
            "grid_template_columns": null,
            "flex": null,
            "_model_name": "LayoutModel",
            "justify_items": null,
            "grid_row": null,
            "max_height": null,
            "align_content": null,
            "visibility": null,
            "align_self": null,
            "height": null,
            "min_height": null,
            "padding": null,
            "grid_auto_rows": null,
            "grid_gap": null,
            "max_width": null,
            "order": null,
            "_view_module_version": "1.2.0",
            "grid_template_areas": null,
            "object_position": null,
            "object_fit": null,
            "grid_auto_columns": null,
            "margin": null,
            "display": null,
            "left": null
          }
        },
        "7bdd1bcd8643475aa3d09ffffe0058f4": {
          "model_module": "@jupyter-widgets/controls",
          "model_name": "SliderStyleModel",
          "state": {
            "_view_name": "StyleView",
            "handle_color": null,
            "_model_name": "SliderStyleModel",
            "description_width": "initial",
            "_view_module": "@jupyter-widgets/base",
            "_model_module_version": "1.5.0",
            "_view_count": null,
            "_view_module_version": "1.2.0",
            "_model_module": "@jupyter-widgets/controls"
          }
        },
        "5e46396988344d02b61e37befafd3d89": {
          "model_module": "@jupyter-widgets/base",
          "model_name": "LayoutModel",
          "state": {
            "_view_name": "LayoutView",
            "grid_template_rows": null,
            "right": null,
            "justify_content": null,
            "_view_module": "@jupyter-widgets/base",
            "overflow": null,
            "_model_module_version": "1.2.0",
            "_view_count": null,
            "flex_flow": null,
            "width": null,
            "min_width": null,
            "border": null,
            "align_items": null,
            "bottom": null,
            "_model_module": "@jupyter-widgets/base",
            "top": null,
            "grid_column": null,
            "overflow_y": null,
            "overflow_x": null,
            "grid_auto_flow": null,
            "grid_area": null,
            "grid_template_columns": null,
            "flex": null,
            "_model_name": "LayoutModel",
            "justify_items": null,
            "grid_row": null,
            "max_height": null,
            "align_content": null,
            "visibility": null,
            "align_self": null,
            "height": null,
            "min_height": null,
            "padding": null,
            "grid_auto_rows": null,
            "grid_gap": null,
            "max_width": null,
            "order": null,
            "_view_module_version": "1.2.0",
            "grid_template_areas": null,
            "object_position": null,
            "object_fit": null,
            "grid_auto_columns": null,
            "margin": null,
            "display": null,
            "left": null
          }
        },
        "53b29b9eced444b0bd75a158b9b4facc": {
          "model_module": "@jupyter-widgets/controls",
          "model_name": "SliderStyleModel",
          "state": {
            "_view_name": "StyleView",
            "handle_color": null,
            "_model_name": "SliderStyleModel",
            "description_width": "initial",
            "_view_module": "@jupyter-widgets/base",
            "_model_module_version": "1.5.0",
            "_view_count": null,
            "_view_module_version": "1.2.0",
            "_model_module": "@jupyter-widgets/controls"
          }
        },
        "d082ff9027da4e14b41e0e2698679cfc": {
          "model_module": "@jupyter-widgets/base",
          "model_name": "LayoutModel",
          "state": {
            "_view_name": "LayoutView",
            "grid_template_rows": null,
            "right": null,
            "justify_content": null,
            "_view_module": "@jupyter-widgets/base",
            "overflow": null,
            "_model_module_version": "1.2.0",
            "_view_count": null,
            "flex_flow": null,
            "width": null,
            "min_width": null,
            "border": null,
            "align_items": null,
            "bottom": null,
            "_model_module": "@jupyter-widgets/base",
            "top": null,
            "grid_column": null,
            "overflow_y": null,
            "overflow_x": null,
            "grid_auto_flow": null,
            "grid_area": null,
            "grid_template_columns": null,
            "flex": null,
            "_model_name": "LayoutModel",
            "justify_items": null,
            "grid_row": null,
            "max_height": null,
            "align_content": null,
            "visibility": null,
            "align_self": null,
            "height": null,
            "min_height": null,
            "padding": null,
            "grid_auto_rows": null,
            "grid_gap": null,
            "max_width": null,
            "order": null,
            "_view_module_version": "1.2.0",
            "grid_template_areas": null,
            "object_position": null,
            "object_fit": null,
            "grid_auto_columns": null,
            "margin": null,
            "display": null,
            "left": null
          }
        },
        "e060b158b9d74ffd96a67090d2c2afbe": {
          "model_module": "@jupyter-widgets/base",
          "model_name": "LayoutModel",
          "state": {
            "_view_name": "LayoutView",
            "grid_template_rows": null,
            "right": null,
            "justify_content": null,
            "_view_module": "@jupyter-widgets/base",
            "overflow": null,
            "_model_module_version": "1.2.0",
            "_view_count": null,
            "flex_flow": null,
            "width": null,
            "min_width": null,
            "border": null,
            "align_items": null,
            "bottom": null,
            "_model_module": "@jupyter-widgets/base",
            "top": null,
            "grid_column": null,
            "overflow_y": null,
            "overflow_x": null,
            "grid_auto_flow": null,
            "grid_area": null,
            "grid_template_columns": null,
            "flex": null,
            "_model_name": "LayoutModel",
            "justify_items": null,
            "grid_row": null,
            "max_height": null,
            "align_content": null,
            "visibility": null,
            "align_self": null,
            "height": null,
            "min_height": null,
            "padding": null,
            "grid_auto_rows": null,
            "grid_gap": null,
            "max_width": null,
            "order": null,
            "_view_module_version": "1.2.0",
            "grid_template_areas": null,
            "object_position": null,
            "object_fit": null,
            "grid_auto_columns": null,
            "margin": null,
            "display": null,
            "left": null
          }
        }
      }
    }
  },
  "cells": [
    {
      "cell_type": "markdown",
      "metadata": {
        "id": "view-in-github",
        "colab_type": "text"
      },
      "source": [
        "<a href=\"https://colab.research.google.com/github/Pelosomelo/Misp/blob/main/formulowanie_zadan.ipynb\" target=\"_parent\"><img src=\"https://colab.research.google.com/assets/colab-badge.svg\" alt=\"Open In Colab\"/></a>"
      ]
    },
    {
      "cell_type": "markdown",
      "metadata": {
        "id": "jsgzipxfSK7j"
      },
      "source": [
        "W sklepie ze zdrową żywnością wytwarza się produkty dżem jabłkowy i mus jabłkowy. Wytworzenie jednostki produktu I wymaga zużycia 8 jabłek i 5 łyżek miodu, zaś jednostki musu - 2 jabłek i 5 łyżek miodu. Dostawy surowców w każdym dniu wynosza dla jabłek i miodu odpowiednio 40 i 25 jednostek. Dżem sprzedaje się po 12 zł a mus po 11 zł. Jabłko kosztuje 0.3 zł, łyżka miodu 0.2. \n",
        "\n",
        "Określ dzienną produkcję każdego produktu tak, aby otrzymać maksymalny zysk. Dla dwóch przypadków:\n",
        "\n",
        "- ( HURT) wielkość produkcji można wyrazić jako nieujemne liczby rzeczywiste ( np 1.2 kg dżemu)\n",
        "\n",
        "- (DETAL) wielkości produkcji mierzy się w jednostkach niepodzielnych ( 1 słoik dżemu). W tym przypadku do każdej wyprodukowanej jednostki trzeba doliczyć opakowanie za 0.5 zł\n"
      ]
    },
    {
      "cell_type": "markdown",
      "metadata": {
        "id": "I3RxIWNhSK7l"
      },
      "source": [
        "## Rozwiązanie\n",
        "\n",
        "Słownie:\n",
        "\n",
        "Zysk = Zarobek na dzemie + zarobek na musie - koszt dzemu - koszt musu - dodatkowy koszt\n",
        "\n",
        "Zmienne decyzyjne:\n",
        "\n",
        "Ilość ( masa lub ilosc sztuk) wyprodukowanych dzemow i musuw\n",
        "\n",
        "Ograniczenia:\n",
        "\n",
        "Ograniczone dostawy\n",
        "\n",
        "Znamy ile kosztuje mus i drzem\n",
        "\n"
      ]
    },
    {
      "cell_type": "code",
      "metadata": {
        "id": "rjTg6itASK7l"
      },
      "source": [
        "from pulp import *\n",
        "import pandas as pd"
      ],
      "execution_count": null,
      "outputs": []
    },
    {
      "cell_type": "code",
      "metadata": {
        "id": "KdNZKeFjSK7p"
      },
      "source": [
        "#w pulp\n",
        "\n",
        "\n",
        "\n",
        "prob = LpProblem(\"Najlepsza produkcja HURT\",LpMaximize)\n",
        "\n",
        "# 2 zmienne\n",
        "dzem=LpVariable(\"Dzem\",0) # juz tutaj podajemy ograniczenie ze sa nieujemne\n",
        "mus=LpVariable(\"Mus\",0)\n",
        "# pomocnicze zmienne\n",
        "zuzycie_jablek =LpVariable(\"Jablka\",0)\n",
        "zuzycie_miodu =LpVariable(\"Miod\",0)\n",
        "\n",
        "prob += 16* dzem + 11* mus - 0.3 * zuzycie_jablek - 0.2 * zuzycie_miodu\n",
        "prob += 8 * dzem+ 2 * mus == zuzycie_jablek, \"Zuzycie jablek\"\n",
        "prob += 5 * dzem + 5 * mus == zuzycie_miodu, \"Zuzycie miodu\"\n",
        "prob += zuzycie_jablek <= 40, \"Maksimum jablek\"\n",
        "prob += zuzycie_miodu <= 25, \"Maksimum miodu\"\n"
      ],
      "execution_count": null,
      "outputs": []
    },
    {
      "cell_type": "code",
      "metadata": {
        "id": "UdYItNwQSK7s",
        "outputId": "7ffb7df3-3688-4d6d-8224-a895efc144f1"
      },
      "source": [
        "prob.solve()\n",
        "# The status of the solution is printed to the screen\n",
        "print(\"Status:\", LpStatus[prob.status])\n",
        "# Each of the variables is printed with it's resolved optimum value\n",
        "for v in prob.variables():\n",
        "    print(v.name, \"=\", v.varValue)\n",
        "print(\"Zysk wyniesie {} zł  \".format( value(prob.objective)))\n"
      ],
      "execution_count": null,
      "outputs": [
        {
          "output_type": "stream",
          "text": [
            "Status: Optimal\n",
            "Dzem = 5.0\n",
            "Jablka = 40.0\n",
            "Miod = 25.0\n",
            "Mus = 0.0\n",
            "Zysk wyniesie 63.0 zł  \n"
          ],
          "name": "stdout"
        }
      ]
    },
    {
      "cell_type": "code",
      "metadata": {
        "id": "olCPsU6oSK7v"
      },
      "source": [
        "?? interact"
      ],
      "execution_count": null,
      "outputs": []
    },
    {
      "cell_type": "code",
      "metadata": {
        "id": "eV5zhSwVSK7z",
        "colab": {
          "base_uri": "https://localhost:8080/",
          "height": 704,
          "referenced_widgets": [
            "ac29ce39927c4e39b25f3da16bd70d26",
            "151f41daf88a43fa8b6b532393a66799",
            "bc073e58b265408098a149482e6b6e9f",
            "f979e4cd5e18422985a526cb935bf034",
            "1f00cd7faa3746a6b2568751bb71398a",
            "598fd88f70ed4e5fb7ca73aab9d241d4",
            "d537a3d91e2c48f991f86e4714b314cc",
            "dc774bf0347c4c4cae98c07b4c368db4",
            "6bd3ca35a2c04ad99e9d8fa3e24b53be",
            "46d0c69aed114b20a301483249171ad0",
            "64a49751b3ee47899822d1f4e01e6599",
            "5c373adb244a4e1b91e1800b83783198",
            "32a5e536760c4ebf82c1406da213b871",
            "f4688313dcca42f59f0fcf9611318820",
            "6dd11197564f4618a8b97dadea46126a",
            "3103eb7bd8c44a57a6bc73ad4993fe5f",
            "77af0542701e468d93c7bbd3956fa575",
            "fae3e9f1afd940c7b144db2ba1e91ae8",
            "b6ccaec02cb34cb898a510cdd55612c1",
            "be7e3ad33da043468e691c7e470a106d",
            "c2356631df0244a6b47ee83056668a46",
            "92d088fae6de41638336b686d5911cf9",
            "df4f7d93573e46648f205341f2dfb7d1",
            "33a1b7074abe4bc1b91d83756d73e6ab",
            "3c82ba9deee5417d83aca107378d6806",
            "eb88ab515b124184929b832e619784d3",
            "a20730bb7aaf42959d056481b73765cd",
            "4a20410130ff475ebc604774d2fd4ee0",
            "58775de5bb94451b8beb83a64dfd140a",
            "7bdd1bcd8643475aa3d09ffffe0058f4",
            "5e46396988344d02b61e37befafd3d89",
            "53b29b9eced444b0bd75a158b9b4facc",
            "d082ff9027da4e14b41e0e2698679cfc",
            "e060b158b9d74ffd96a67090d2c2afbe"
          ]
        },
        "outputId": "bdc901e2-2c21-48a0-bdf8-fad725d9e546"
      },
      "source": [
        "from __future__ import print_function\n",
        "from ipywidgets import interact, interactive, fixed, interact_manual, Layout, FloatSlider, IntSlider\n",
        "import ipywidgets as widgets\n",
        "import pandas as pd\n",
        "\n",
        "style = {'description_width': 'initial'}\n",
        "\n",
        "\n",
        "cena_jablek_slider = FloatSlider(min=0,max = 1, value= 0.3, description=\"cena_jablek_slider\", style= style )\n",
        "cena_miodu_slider = FloatSlider(min=0,max = 1,value= 0.2, description=\"cena_miodu_slider\", style= style )\n",
        "zysk_z_dzemu_slider = FloatSlider(min=0,max = 50, value= 16, description=\"zysk_z_dzemu_slider\", style= style )\n",
        "zysk_z_musu_slider = FloatSlider(min=0,max = 50, value= 11, description=\"zysk_z_musu_slider\", style= style )\n",
        "zuzycie_jablek_dzem_slider = FloatSlider(min=0,max = 20,value= 8, description=\"zuzycie_jablek_dzem_slider\", style= style )\n",
        "zuzycie_jablek_mus_slider = FloatSlider(min=0,max = 20,value= 2, description=\"zuzycie_jablek_mus_slider\", style= style )\n",
        "zuzycie_miodu_dzem_slider = FloatSlider(min=0,max = 20,value= 5, description=\"zuzycie_miodu_dzem_slider\", style= style )\n",
        "zuzycie_miodu_mus_slider = FloatSlider(min=0,max = 20,value= 5, description=\"zuzycie_miodu_mus_slider\", style= style )\n",
        "maksimum_jablek_slider = IntSlider(min=0,max = 200,value= 40, description=\"maksimum_jablek_slider\", style= style )\n",
        "maksimum_miodu_slider = FloatSlider(min=0,max = 200,value= 25, description=\"maksimum_miodu_slider\", style= style )\n",
        "\n",
        "\n",
        "def hurt_produkcja(cena_jablek = 0.3,\n",
        "    cena_miodu = 0.2,\n",
        "    zysk_z_dzemu = 16,\n",
        "    zysk_z_musu = 11,\n",
        "    zuzycie_jablek_dzem = 8,\n",
        "    zuzycie_jablek_mus = 2,\n",
        "    zuzycie_miodu_dzem = 5,\n",
        "    zuzycie_miodu_mus = 5,\n",
        "    maksimum_jablek = 40,\n",
        "    maksimum_miodu = 25):\n",
        "    \n",
        "    prob = LpProblem(\"Najlepsza produkcja HURT\",LpMaximize)\n",
        "\n",
        "    # 2 zmienne\n",
        "    dzem=LpVariable(\"Dzem\",0) # juz tutaj podajemy ograniczenie ze sa nieujemne\n",
        "    mus=LpVariable(\"Mus\",0)\n",
        "    # pomocnicze zmienne\n",
        "    zuzycie_jablek =LpVariable(\"Jablka\",0)\n",
        "    zuzycie_miodu =LpVariable(\"Miod\",0)\n",
        "\n",
        "    prob += zysk_z_dzemu * dzem + zysk_z_musu * mus - cena_jablek * zuzycie_jablek - cena_miodu * zuzycie_miodu\n",
        "    prob += zuzycie_jablek_dzem * dzem + zuzycie_jablek_mus * mus == zuzycie_jablek, \"Zuzycie jablek\"\n",
        "    prob += zuzycie_miodu_dzem * dzem + zuzycie_miodu_mus * mus == zuzycie_miodu, \"Zuzycie miodu\"\n",
        "    prob += zuzycie_jablek <= maksimum_jablek, \"Maksimum jablek\"\n",
        "    prob += zuzycie_miodu <= maksimum_miodu, \"Maksimum miodu\"\n",
        "\n",
        "    \n",
        "    prob.solve()\n",
        "    # The status of the solution is printed to the screen\n",
        "    print(\"Status:\", LpStatus[prob.status])\n",
        "    # Each of the variables is printed with it's resolved optimum value\n",
        "    for v in prob.variables():\n",
        "        print(v.name, \"=\", v.varValue)\n",
        "    print(\"Zysk wyniesie {} zł  \".format( value(prob.objective)))\n",
        "    \n",
        "    shadows = [{'name':name, 'shadow price': c.pi, \"slack\": c.slack} for name, c in prob.constraints.items()]\n",
        "    print(\"*\"*10+\"Shadow Prices\"+\"*\"*10)\n",
        "    print(pd.DataFrame(shadows))\n",
        "    \n",
        "    \n",
        "interact(hurt_produkcja,cena_jablek = cena_jablek_slider,\n",
        "    cena_miodu =    cena_miodu_slider,\n",
        "    zysk_z_dzemu =    zysk_z_dzemu_slider,\n",
        "    zysk_z_musu =zysk_z_musu_slider,\n",
        "    zuzycie_jablek_dzem =zuzycie_jablek_dzem_slider,\n",
        "    zuzycie_jablek_mus =zuzycie_jablek_mus_slider,\n",
        "    zuzycie_miodu_dzem =zuzycie_miodu_dzem_slider,\n",
        "    zuzycie_miodu_mus =zuzycie_miodu_mus_slider,\n",
        "    maksimum_jablek =maksimum_jablek_slider,\n",
        "    maksimum_miodu =maksimum_miodu_slider)\n"
      ],
      "execution_count": null,
      "outputs": [
        {
          "output_type": "display_data",
          "data": {
            "application/vnd.jupyter.widget-view+json": {
              "model_id": "ac29ce39927c4e39b25f3da16bd70d26",
              "version_minor": 0,
              "version_major": 2
            },
            "text/plain": [
              "interactive(children=(FloatSlider(value=0.3, description='cena_jablek_slider', max=1.0, style=SliderStyle(desc…"
            ]
          },
          "metadata": {
            "tags": []
          }
        },
        {
          "output_type": "execute_result",
          "data": {
            "text/plain": [
              "<function __main__.hurt_produkcja>"
            ]
          },
          "metadata": {
            "tags": []
          },
          "execution_count": 1
        }
      ]
    },
    {
      "cell_type": "code",
      "metadata": {
        "id": "Y7qR3_hhSK73",
        "colab": {
          "referenced_widgets": [
            "f34425dd36504b3ba86eecf8a6e8658d"
          ]
        },
        "outputId": "1c49216b-253e-4abd-e43e-d04555096939"
      },
      "source": [
        "from ipywidgets import IntSlider\n",
        "\n",
        "style = {'description_width': 'initial'}\n",
        "IntSlider(description='A too long description', style=style)"
      ],
      "execution_count": null,
      "outputs": [
        {
          "output_type": "display_data",
          "data": {
            "application/vnd.jupyter.widget-view+json": {
              "model_id": "f34425dd36504b3ba86eecf8a6e8658d",
              "version_major": 2,
              "version_minor": 0
            },
            "text/plain": [
              "IntSlider(value=0, description='A too long description', style=SliderStyle(description_width='initial'))"
            ]
          },
          "metadata": {
            "tags": []
          }
        }
      ]
    },
    {
      "cell_type": "code",
      "metadata": {
        "id": "8NvtIdgHSK76",
        "colab": {
          "referenced_widgets": [
            "16d0db017ade4fa193e248acc7de3211"
          ]
        },
        "outputId": "451e829b-52ba-4519-dcc8-c08fe593c6cf"
      },
      "source": [
        "\n",
        "x_widget = FloatSlider(min=0.0, max=10.0, step=0.05)\n",
        "y_widget = FloatSlider(min=0.5, max=10.0, step=0.05, value=5.0)\n",
        "\n",
        "def update_x_range(*args):\n",
        "    x_widget.max = 2.0 * y_widget.value\n",
        "y_widget.observe(update_x_range, 'value')\n",
        "\n",
        "def printer(x, y):\n",
        "    print(x, y)\n",
        "interact(printer,x=x_widget, y=y_widget)"
      ],
      "execution_count": null,
      "outputs": [
        {
          "output_type": "display_data",
          "data": {
            "application/vnd.jupyter.widget-view+json": {
              "model_id": "16d0db017ade4fa193e248acc7de3211",
              "version_major": 2,
              "version_minor": 0
            },
            "text/plain": [
              "interactive(children=(FloatSlider(value=0.0, description='x', max=10.0, step=0.05), FloatSlider(value=5.0, des…"
            ]
          },
          "metadata": {
            "tags": []
          }
        },
        {
          "output_type": "execute_result",
          "data": {
            "text/plain": [
              "<function __main__.printer(x, y)>"
            ]
          },
          "metadata": {
            "tags": []
          },
          "execution_count": 54
        }
      ]
    },
    {
      "cell_type": "code",
      "metadata": {
        "id": "52A_C7ihSK7_"
      },
      "source": [
        ""
      ],
      "execution_count": null,
      "outputs": []
    }
  ]
}
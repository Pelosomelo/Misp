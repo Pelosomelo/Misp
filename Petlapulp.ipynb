{
  "nbformat": 4,
  "nbformat_minor": 0,
  "metadata": {
    "colab": {
      "name": "Petlapulp.ipynb",
      "provenance": [],
      "collapsed_sections": [],
      "authorship_tag": "ABX9TyMhjWGDfdxm3tv7bGWf9A9g",
      "include_colab_link": true
    },
    "kernelspec": {
      "name": "python3",
      "display_name": "Python 3"
    }
  },
  "cells": [
    {
      "cell_type": "markdown",
      "metadata": {
        "id": "view-in-github",
        "colab_type": "text"
      },
      "source": [
        "<a href=\"https://colab.research.google.com/github/Pelosomelo/Misp/blob/main/Petlapulp.ipynb\" target=\"_parent\"><img src=\"https://colab.research.google.com/assets/colab-badge.svg\" alt=\"Open In Colab\"/></a>"
      ]
    },
    {
      "cell_type": "code",
      "metadata": {
        "id": "9MP9iNlNVHaB"
      },
      "source": [
        "!pip install pulp\n",
        "\n",
        "!sudo apt-get install coinor-cbc glpk-utils coinor-clp"
      ],
      "execution_count": null,
      "outputs": []
    },
    {
      "cell_type": "code",
      "metadata": {
        "id": "SoG-D36whQMj",
        "colab": {
          "base_uri": "https://localhost:8080/"
        },
        "outputId": "df0d1b31-6b17-49a5-c43f-95649fbb0728"
      },
      "source": [
        "from pulp import *\n",
        "\n",
        "prob = LpProblem(\"Harmonogram problem\",LpMinimize)\n",
        "\n",
        "A_p = LpVariable(\"Ania_pon\",0,None,LpBinary)\n",
        "A_w = LpVariable(\"Annia_wto\",0,None,LpBinary)\n",
        "A_s = LpVariable(\"Annia_sro\",0,None,LpBinary)\n",
        "A_c = LpVariable(\"Annia_czw\",0,None,LpBinary)\n",
        "A_pt = LpVariable(\"Annia_pt\",0,None,LpBinary)\n",
        "\n",
        "S_p = LpVariable(\"Stefan_pon\",0,None,LpBinary)\n",
        "S_w = LpVariable(\"Stefan_wto\",0,None,LpBinary)\n",
        "S_s = LpVariable(\"Stefan_sro\",0,None,LpBinary)\n",
        "S_c = LpVariable(\"Stefan_czw\",0,None,LpBinary)\n",
        "S_pt = LpVariable(\"Stefan_pt\",0,None,LpBinary)\n",
        "\n",
        "H_p = LpVariable(\"Hektor_pon\",0,None,LpBinary)\n",
        "H_w = LpVariable(\"Hektor_wto\",0,None,LpBinary)\n",
        "H_s = LpVariable(\"Hektor_sro\",0,None,LpBinary)\n",
        "H_c = LpVariable(\"Hektor_czw\",0,None,LpBinary)\n",
        "H_pt = LpVariable(\"Hektor_pt\",0,None,LpBinary)\n",
        "\n",
        "O_p = LpVariable(\"Olaf_pon\",0,None,LpBinary)\n",
        "O_w = LpVariable(\"Olaf_wto\",0,None,LpBinary)\n",
        "O_s = LpVariable(\"Olaf_sro\",0,None,LpBinary)\n",
        "O_c = LpVariable(\"Olaf_czw\",0,None,LpBinary)\n",
        "O_pt = LpVariable(\"Olaf_pt\",0,None,LpBinary)\n",
        "\n",
        "L_p = LpVariable(\"Lidia_pon\",0,None,LpBinary)\n",
        "L_w = LpVariable(\"Lidia_wto\",0,None,LpBinary)\n",
        "L_s = LpVariable(\"Lidia_sro\",0,None,LpBinary)\n",
        "L_c = LpVariable(\"Lidia_czw\",0,None,LpBinary)\n",
        "L_pt = LpVariable(\"Lidia_pt\",0,None,LpBinary)\n",
        "\n",
        "P_p = LpVariable(\"Piotr_pon\",0,None,LpBinary)\n",
        "P_w = LpVariable(\"Piotr_wto\",0,None,LpBinary)\n",
        "P_s = LpVariable(\"Piotr_sro\",0,None,LpBinary)\n",
        "P_c = LpVariable(\"Piotr_czw\",0,None,LpBinary)\n",
        "P_pt = LpVariable(\"Piotr_pt\",0,None,LpBinary)\n",
        "\n",
        "\n",
        "\n",
        "prob += 100 * (A_p + A_w + A_s + A_c + A_pt) + 50 * (S_p + S_w + S_s + S_c + S_pt) + 60 * (H_p + H_w + H_s + H_c + H_pt) + 40 * (O_p + O_w + O_s + O_c + O_pt) + 110 * (L_p + L_w + L_s + L_c + L_pt) + 70 * (P_p + P_w + P_s + P_c + P_pt) , \"Ile zaplacimy pracownikom\"\n",
        "\n",
        "prob += A_p + S_p + H_p + O_p + L_p + P_p == 2, \"zapotrzebowanie w pon\"\n",
        "prob += A_w + S_w + H_w + O_w + L_w + P_w == 1, \"zapotrzebowanie w wto\"\n",
        "prob += A_s + S_s + H_s + O_s + L_s + P_s == 1, \"zapotrzebowanie w śro\"\n",
        "prob += A_c + S_c + H_c + O_c + L_c + P_c == 1, \"zapotrzebowanie w czw\"\n",
        "prob += A_pt + S_pt + H_pt + O_pt + L_pt + P_pt == 3, \"zapotrzebowanie w pt\"\n",
        "\n",
        "prob += S_w + S_s + S_c + S_pt == 0 , \"Stefan pon\"\n",
        "prob += H_c + H_pt == 0 , \"Hektor pon, sr, wt\"\n",
        "prob += L_p + L_w + L_s == 0 , \"Lidia czw, pt\"\n",
        "prob += P_c + P_pt == 0 , \"Piotr pon, wto, sro\"\n",
        "\n",
        "prob += A_p + A_w + A_s + A_c + A_pt <= 3, \"ograniczenia w tygodniu Ania\"\n",
        "prob += S_p + S_w + S_s + S_c + S_pt <= 3, \"ograniczenia w tygodniu Stefan\"\n",
        "prob += H_p + H_w + H_s + H_c + H_pt <= 3, \"ograniczenia w tygodniu Hektor\"\n",
        "prob += O_p + O_w + O_s + O_c + O_pt <= 3, \"ograniczenia w tygodniu Olaf\"\n",
        "prob += L_p + L_w + L_s + L_c + L_pt <= 3, \"ograniczenia w tygodniu Lidia\"\n",
        "prob += P_p + P_w + P_s + P_c + P_pt <= 3, \"ograniczenia w tygodniu Piotr\"\n",
        "\n",
        "\n",
        "prob.solve()\n",
        "\n",
        "print(\"Koszt pracowników:\",  value(prob.objective))\n",
        "\n",
        "for v in prob.variables():\n",
        "    print(v.name, \"=\", v.varValue)"
      ],
      "execution_count": null,
      "outputs": [
        {
          "output_type": "stream",
          "text": [
            "Koszt pracowników: 500.0\n",
            "Ania_pon = 0.0\n",
            "Annia_czw = 0.0\n",
            "Annia_pt = 1.0\n",
            "Annia_sro = 0.0\n",
            "Annia_wto = 0.0\n",
            "Hektor_czw = 0.0\n",
            "Hektor_pon = 1.0\n",
            "Hektor_pt = 0.0\n",
            "Hektor_sro = 1.0\n",
            "Hektor_wto = 0.0\n",
            "Lidia_czw = 0.0\n",
            "Lidia_pon = 0.0\n",
            "Lidia_pt = 1.0\n",
            "Lidia_sro = 0.0\n",
            "Lidia_wto = 0.0\n",
            "Olaf_czw = 1.0\n",
            "Olaf_pon = 0.0\n",
            "Olaf_pt = 1.0\n",
            "Olaf_sro = 0.0\n",
            "Olaf_wto = 1.0\n",
            "Piotr_czw = 0.0\n",
            "Piotr_pon = 0.0\n",
            "Piotr_pt = 0.0\n",
            "Piotr_sro = 0.0\n",
            "Piotr_wto = 0.0\n",
            "Stefan_czw = 0.0\n",
            "Stefan_pon = 1.0\n",
            "Stefan_pt = 0.0\n",
            "Stefan_sro = 0.0\n",
            "Stefan_wto = 0.0\n"
          ],
          "name": "stdout"
        },
        {
          "output_type": "stream",
          "text": [
            "/usr/local/lib/python3.6/dist-packages/pulp/pulp.py:1198: UserWarning: Spaces are not permitted in the name. Converted to '_'\n",
            "  warnings.warn(\"Spaces are not permitted in the name. Converted to '_'\")\n"
          ],
          "name": "stderr"
        }
      ]
    }
  ]
}
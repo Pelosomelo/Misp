{
  "nbformat": 4,
  "nbformat_minor": 0,
  "metadata": {
    "colab": {
      "name": "Cwiczenia_5.ipynb",
      "provenance": [],
      "collapsed_sections": [],
      "authorship_tag": "ABX9TyOxVjZ8jL5YovGHEjFVLKJx",
      "include_colab_link": true
    },
    "kernelspec": {
      "name": "python3",
      "display_name": "Python 3"
    }
  },
  "cells": [
    {
      "cell_type": "markdown",
      "metadata": {
        "id": "view-in-github",
        "colab_type": "text"
      },
      "source": [
        "<a href=\"https://colab.research.google.com/github/Pelosomelo/Misp/blob/main/Cwiczenia_5.ipynb\" target=\"_parent\"><img src=\"https://colab.research.google.com/assets/colab-badge.svg\" alt=\"Open In Colab\"/></a>"
      ]
    },
    {
      "cell_type": "code",
      "metadata": {
        "id": "juh0OuYM_i5n"
      },
      "source": [
        "!pip install pulp\r\n",
        "\r\n",
        "!sudo apt-get install coinor-cbc glpk-utils coinor-clp"
      ],
      "execution_count": null,
      "outputs": []
    },
    {
      "cell_type": "code",
      "metadata": {
        "id": "3UCK9X3j_wP8"
      },
      "source": [
        "import pulp\r\n",
        "\r\n",
        "print(pulp.__version__)\r\n",
        "pulp.pulpTestAll()"
      ],
      "execution_count": null,
      "outputs": []
    },
    {
      "cell_type": "markdown",
      "metadata": {
        "id": "1wb1DQmS_7TL"
      },
      "source": [
        "**Zadanie:** praktyczne zastosowanie pulp w obwodach elektrycznych"
      ]
    },
    {
      "cell_type": "code",
      "metadata": {
        "colab": {
          "base_uri": "https://localhost:8080/"
        },
        "id": "yH1gaUJk_sc_",
        "outputId": "f67bf680-fe8e-4787-a9c0-b7485ec2a1e8"
      },
      "source": [
        "#zadanie prąd\r\n",
        "from pulp import *\r\n",
        "prob = LpProblem(\"Prad\",LpMaximize)\r\n",
        "I1=LpVariable(\"I1\",0,2)\r\n",
        "I2=LpVariable(\"I2\",0,3)\r\n",
        "I3=LpVariable(\"I3\",0,4)\r\n",
        "I4=LpVariable(\"I4\",0,2)\r\n",
        "I5=LpVariable(\"I5\",0,2)\r\n",
        "\r\n",
        "prob += I1 + I2, \"I wyj\"\r\n",
        "\r\n",
        "prob += I4 + I5 == I3, \"węzeł 1\"\r\n",
        "prob += I1 + I2 == I3, \"węzeł 2\"\r\n",
        "prob += I1 * 8 - I2 * 6 == 0, \"oczko1\"\r\n",
        "prob += I4 * 10 - I5 * 8 == 0, \"oczko2\"\r\n",
        "prob.writeLP(\"Prad.lp\")\r\n",
        "prob.solve()\r\n",
        "print(\"Status:\", LpStatus[prob.status])\r\n",
        "for v in prob.variables():\r\n",
        "    print(v.name, \"=\", v.varValue)\r\n",
        "print(\"Imax = \", value(prob.objective))\r\n"
      ],
      "execution_count": 3,
      "outputs": [
        {
          "output_type": "stream",
          "text": [
            "Status: Optimal\n",
            "I1 = 1.5428571\n",
            "I2 = 2.0571429\n",
            "I3 = 3.6\n",
            "I4 = 1.6\n",
            "I5 = 2.0\n",
            "Imax =  3.6\n"
          ],
          "name": "stdout"
        }
      ]
    },
    {
      "cell_type": "code",
      "metadata": {
        "colab": {
          "base_uri": "https://localhost:8080/"
        },
        "id": "8BFuc1Iv_zQJ",
        "outputId": "a88c4485-8f4d-4d2e-b71f-f7158eeb855c"
      },
      "source": [
        "#zadanie spadek mocy\r\n",
        "from pulp import *\r\n",
        "prob = LpProblem(\"Moc r\",LpMinimize)\r\n",
        "I1=LpVariable(\"I1\",3,5)\r\n",
        "I2=LpVariable(\"I2\",1,3)\r\n",
        "I3=LpVariable(\"I3\",1,3)\r\n",
        "I4=LpVariable(\"I4\",1,3)\r\n",
        "I5=LpVariable(\"I5\",3,5)\r\n",
        "U=[6, 10, 4, 7, 3]\r\n",
        "\r\n",
        "prob += U[0] * I1 + U[1] * I2 + U[2] * I3 + U[3] * I4 + U[4] * I5, \"moc rozproszona całkowita wyj\"\r\n",
        "\r\n",
        "prob += I1 - I4 - I3 == 0, \"węzeł 1\"\r\n",
        "prob += I2 + I3 - I5 == 0, \"węzeł 2\"\r\n",
        "\r\n",
        "prob.writeLP(\"Moc r.lp\")\r\n",
        "prob.solve()\r\n",
        "print(\"Status:\", LpStatus[prob.status])\r\n",
        "for v in prob.variables():\r\n",
        "    print(v.name, \"=\", v.varValue)\r\n"
      ],
      "execution_count": 4,
      "outputs": [
        {
          "output_type": "stream",
          "text": [
            "Status: Optimal\n",
            "I1 = 3.0\n",
            "I2 = 1.0\n",
            "I3 = 2.0\n",
            "I4 = 1.0\n",
            "I5 = 3.0\n"
          ],
          "name": "stdout"
        },
        {
          "output_type": "stream",
          "text": [
            "/usr/local/lib/python3.6/dist-packages/pulp/pulp.py:1198: UserWarning: Spaces are not permitted in the name. Converted to '_'\n",
            "  warnings.warn(\"Spaces are not permitted in the name. Converted to '_'\")\n"
          ],
          "name": "stderr"
        }
      ]
    }
  ]
}
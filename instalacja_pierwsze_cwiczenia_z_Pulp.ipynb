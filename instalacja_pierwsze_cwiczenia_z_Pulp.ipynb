{
  "nbformat": 4,
  "nbformat_minor": 0,
  "metadata": {
    "colab": {
      "name": "instalacja_pierwsze_cwiczenia_z_Pulp.ipynb",
      "provenance": [],
      "collapsed_sections": [],
      "include_colab_link": true
    },
    "kernelspec": {
      "name": "python3",
      "display_name": "Python 3"
    }
  },
  "cells": [
    {
      "cell_type": "markdown",
      "metadata": {
        "id": "view-in-github",
        "colab_type": "text"
      },
      "source": [
        "<a href=\"https://colab.research.google.com/github/Pelosomelo/Misp/blob/main/instalacja_pierwsze_cwiczenia_z_Pulp.ipynb\" target=\"_parent\"><img src=\"https://colab.research.google.com/assets/colab-badge.svg\" alt=\"Open In Colab\"/></a>"
      ]
    },
    {
      "cell_type": "code",
      "metadata": {
        "id": "BjX-mj9e8D5a",
        "colab": {
          "base_uri": "https://localhost:8080/",
          "height": 204
        },
        "outputId": "2f5550cc-fecb-4051-8cfd-2b5947a499c7"
      },
      "source": [
        "!pip install pulp\n",
        "\n",
        "!sudo apt-get install coinor-cbc glpk-utils coinor-clp\n"
      ],
      "execution_count": null,
      "outputs": [
        {
          "output_type": "stream",
          "text": [
            "Requirement already satisfied: pulp in /usr/local/lib/python3.6/dist-packages (2.3.1)\n",
            "Requirement already satisfied: amply>=0.1.2 in /usr/local/lib/python3.6/dist-packages (from pulp) (0.1.4)\n",
            "Requirement already satisfied: pyparsing in /usr/local/lib/python3.6/dist-packages (from amply>=0.1.2->pulp) (2.4.7)\n",
            "Requirement already satisfied: docutils>=0.3 in /usr/local/lib/python3.6/dist-packages (from amply>=0.1.2->pulp) (0.16)\n",
            "Reading package lists... Done\n",
            "Building dependency tree       \n",
            "Reading state information... Done\n",
            "coinor-cbc is already the newest version (2.9.9+repack1-1).\n",
            "coinor-clp is already the newest version (1.16.11+repack1-1).\n",
            "glpk-utils is already the newest version (4.65-1).\n",
            "0 upgraded, 0 newly installed, 0 to remove and 21 not upgraded.\n"
          ],
          "name": "stdout"
        }
      ]
    },
    {
      "cell_type": "code",
      "metadata": {
        "id": "HMGiufp89W-9",
        "colab": {
          "base_uri": "https://localhost:8080/",
          "height": 34
        },
        "outputId": "16e4e7f6-0eb7-4a4d-d3c8-89ec382ceae7"
      },
      "source": [
        "### kod sprawdza czy instalacja się udała\n",
        "import pulp\n",
        "\n",
        "print(pulp.__version__)"
      ],
      "execution_count": null,
      "outputs": [
        {
          "output_type": "stream",
          "text": [
            "2.3.1\n"
          ],
          "name": "stdout"
        }
      ]
    },
    {
      "cell_type": "code",
      "metadata": {
        "id": "05p9Frax-V2f"
      },
      "source": [
        "pulp.pulpTestAll()"
      ],
      "execution_count": null,
      "outputs": []
    },
    {
      "cell_type": "markdown",
      "metadata": {
        "id": "JHP3Y3Yh-stH"
      },
      "source": [
        "# Zadania:\n",
        "\n",
        "1. przeczytaj materiały dotyczące pulp ze strony internetowej https://coin-or.github.io/pulp/main/index.html oraz przejdź przez blending problem (przepisz do swojego notebooka)\n",
        "\n",
        "2. w blending problem dodaj zmienną decyzyjną. Stwórz zmienną która pojawi się w końcowym składzie produktu (tj. wartość zmiennej będzie miała niezerową postać)\n",
        "\n",
        "3. Dodaj ograniczenie co do zawartości witaminy B \n",
        "\n",
        "Zawartość:\n",
        "\n",
        "| Nazwa      | zawartość ug/100g |\n",
        "|------------|-------------------|\n",
        "| chicken    | 0.3               |\n",
        "| beef       | 2.6               |\n",
        "| mutton     | 2.6               |\n",
        "| rice       | 0                 |\n",
        "| wheat bran | 0                 |\n",
        "| gel        | 0                 |\n",
        "| sardines   | 8.9               |\n",
        "\n",
        "Kot ma zjeść minimum 0.24 ug na kilogram masy więc około\n",
        "0.8 ug dziennie\n",
        "\n",
        "4. Na końcu ma pojawiać się zdanie podsumowujące wynik, w stylu:\n",
        "Końcowy produkt będzie kosztować {}, będzie miał w składzie {nazwa}: {} %, {nastepna nazwa}: {} %\n",
        "\n",
        "Takie zdanie można skleić z części generowanych automatycznie:\n",
        "\n"
      ]
    },
    {
      "cell_type": "code",
      "metadata": {
        "id": "BhWf9b8IMJZ7",
        "colab": {
          "base_uri": "https://localhost:8080/",
          "height": 53
        },
        "outputId": "c4e437d7-32da-4e82-b320-cbbfe1a50941"
      },
      "source": [
        "sklejone_produkt_cena = [\":\".join((produkt, str(cena))) for produkt,cena in zip([\"jabłko\",\"banan\"],[5,10])]\n",
        "print(sklejone_produkt_cena)\n",
        "sklejona_calosc = \", \".join(sklejone_produkt_cena)\n",
        "\n",
        "print(sklejona_calosc)"
      ],
      "execution_count": null,
      "outputs": [
        {
          "output_type": "stream",
          "text": [
            "['jabłko:5', 'banan:10']\n",
            "jabłko:5, banan:10\n"
          ],
          "name": "stdout"
        }
      ]
    },
    {
      "cell_type": "code",
      "metadata": {
        "id": "Se_t7o8bTLdW",
        "colab": {
          "base_uri": "https://localhost:8080/",
          "height": 367
        },
        "outputId": "558c4504-4dc6-4402-b66f-d2aebcff01c8"
      },
      "source": [
        "from pulp import *\n",
        "prob = LpProblem(\"The Whiskas Problem\",LpMinimize)\n",
        "LpVariable(\"example\", None, 100)\n",
        "x1=LpVariable(\"ChickenPercent\",0,None,LpInteger)\n",
        "x2=LpVariable(\"BeefPercent\",0)\n",
        "x3=LpVariable(\"KanapkaPercent\",0)\n",
        "prob += 0.013*x1 + 0.008*x2 + 0.012*x3, \"Total Cost of Ingredients per can\"\n",
        "prob += x1 + x2 + x3 == 100, \"PercentagesSum\"\n",
        "prob += 0.100*x1 + 0.200*x2 +0.050*x3 >= 8.0, \"ProteinRequirement\"\n",
        "prob += 0.080*x1 + 0.100*x2 +0.100*x3>= 6.0, \"FatRequirement\"\n",
        "prob += 0.001*x1 + 0.005*x2 +0.0005*x3<= 2.0, \"FibreRequirement\"\n",
        "prob += 0.002*x1 + 0.005*x2 +0.004*x3<= 0.4, \"SaltRequirement\"\n",
        "prob += 0.300*x1 + 2.600*x2 +0.004*x3>= 0.8, \"Witamina B\"\n",
        "prob.writeLP(\"WhiskasModel.lp\")\n",
        "prob.solve()\n",
        "print(\"Status:\", LpStatus[prob.status])\n",
        "for v in prob.variables():\n",
        "    print(v.name, \"=\", v.varValue)\n",
        "print(\"Total Cost of Ingredients per can = \", value(prob.objective))\n",
        "print(\"Całkowity koszt = \", value(prob.objective),\", będzie miał w składzie:\",\"ChickenPercent:\",x1.varValue,\"% ,BeefPercent:\",x2.varValue,\"% ,KanapkaPercent:\",x3.varValue,\"%\")"
      ],
      "execution_count": null,
      "outputs": [
        {
          "output_type": "error",
          "ename": "ModuleNotFoundError",
          "evalue": "ignored",
          "traceback": [
            "\u001b[0;31m---------------------------------------------------------------------------\u001b[0m",
            "\u001b[0;31mModuleNotFoundError\u001b[0m                       Traceback (most recent call last)",
            "\u001b[0;32m<ipython-input-2-833babe9dccd>\u001b[0m in \u001b[0;36m<module>\u001b[0;34m()\u001b[0m\n\u001b[0;32m----> 1\u001b[0;31m \u001b[0;32mfrom\u001b[0m \u001b[0mpulp\u001b[0m \u001b[0;32mimport\u001b[0m \u001b[0;34m*\u001b[0m\u001b[0;34m\u001b[0m\u001b[0;34m\u001b[0m\u001b[0m\n\u001b[0m\u001b[1;32m      2\u001b[0m \u001b[0mprob\u001b[0m \u001b[0;34m=\u001b[0m \u001b[0mLpProblem\u001b[0m\u001b[0;34m(\u001b[0m\u001b[0;34m\"The Whiskas Problem\"\u001b[0m\u001b[0;34m,\u001b[0m\u001b[0mLpMinimize\u001b[0m\u001b[0;34m)\u001b[0m\u001b[0;34m\u001b[0m\u001b[0;34m\u001b[0m\u001b[0m\n\u001b[1;32m      3\u001b[0m \u001b[0mLpVariable\u001b[0m\u001b[0;34m(\u001b[0m\u001b[0;34m\"example\"\u001b[0m\u001b[0;34m,\u001b[0m \u001b[0;32mNone\u001b[0m\u001b[0;34m,\u001b[0m \u001b[0;36m100\u001b[0m\u001b[0;34m)\u001b[0m\u001b[0;34m\u001b[0m\u001b[0;34m\u001b[0m\u001b[0m\n\u001b[1;32m      4\u001b[0m \u001b[0mx1\u001b[0m\u001b[0;34m=\u001b[0m\u001b[0mLpVariable\u001b[0m\u001b[0;34m(\u001b[0m\u001b[0;34m\"ChickenPercent\"\u001b[0m\u001b[0;34m,\u001b[0m\u001b[0;36m0\u001b[0m\u001b[0;34m,\u001b[0m\u001b[0;32mNone\u001b[0m\u001b[0;34m,\u001b[0m\u001b[0mLpInteger\u001b[0m\u001b[0;34m)\u001b[0m\u001b[0;34m\u001b[0m\u001b[0;34m\u001b[0m\u001b[0m\n\u001b[1;32m      5\u001b[0m \u001b[0mx2\u001b[0m\u001b[0;34m=\u001b[0m\u001b[0mLpVariable\u001b[0m\u001b[0;34m(\u001b[0m\u001b[0;34m\"BeefPercent\"\u001b[0m\u001b[0;34m,\u001b[0m\u001b[0;36m0\u001b[0m\u001b[0;34m)\u001b[0m\u001b[0;34m\u001b[0m\u001b[0;34m\u001b[0m\u001b[0m\n",
            "\u001b[0;31mModuleNotFoundError\u001b[0m: No module named 'pulp'",
            "",
            "\u001b[0;31m---------------------------------------------------------------------------\u001b[0;32m\nNOTE: If your import is failing due to a missing package, you can\nmanually install dependencies using either !pip or !apt.\n\nTo view examples of installing some common dependencies, click the\n\"Open Examples\" button below.\n\u001b[0;31m---------------------------------------------------------------------------\u001b[0m\n"
          ]
        }
      ]
    },
    {
      "cell_type": "code",
      "metadata": {
        "id": "Fn5i-nc07x1j",
        "colab": {
          "base_uri": "https://localhost:8080/",
          "height": 187
        },
        "outputId": "2e646597-9d5e-4845-c838-24f70f0530ad"
      },
      "source": [
        "from pulp import *\n",
        "Ingredients = ['CHICKEN', 'BEEF', 'MUTTON', 'RICE', 'WHEAT', 'GEL','Kanapka']\n",
        "\n",
        "# A dictionary of the costs of each of the Ingredients is created\n",
        "costs = {'CHICKEN': 0.013, \n",
        "         'BEEF': 0.008, \n",
        "         'MUTTON': 0.010, \n",
        "         'RICE': 0.002, \n",
        "         'WHEAT': 0.005, \n",
        "         'GEL': 0.001,\n",
        "         'Kanapka':0.012}\n",
        "\n",
        "# A dictionary of the protein percent in each of the Ingredients is created\n",
        "proteinPercent = {'CHICKEN': 0.100, \n",
        "                  'BEEF': 0.200, \n",
        "                  'MUTTON': 0.150, \n",
        "                  'RICE': 0.000, \n",
        "                  'WHEAT': 0.040, \n",
        "                  'GEL': 0.000,\n",
        "                  'Kanapka':0.050}\n",
        "\n",
        "# A dictionary of the fat percent in each of the Ingredients is created\n",
        "fatPercent = {'CHICKEN': 0.080, \n",
        "              'BEEF': 0.100, \n",
        "              'MUTTON': 0.110, \n",
        "              'RICE': 0.010, \n",
        "              'WHEAT': 0.010, \n",
        "              'GEL': 0.000,\n",
        "              'Kanapka':0.200}\n",
        "\n",
        "# A dictionary of the fibre percent in each of the Ingredients is created\n",
        "fibrePercent = {'CHICKEN': 0.001, \n",
        "                'BEEF': 0.005, \n",
        "                'MUTTON': 0.003, \n",
        "                'RICE': 0.100, \n",
        "                'WHEAT': 0.150, \n",
        "                'GEL': 0.000,\n",
        "                'Kanapka':0.0005}\n",
        "\n",
        "# A dictionary of the salt percent in each of the Ingredients is created\n",
        "saltPercent = {'CHICKEN': 0.002, \n",
        "               'BEEF': 0.005, \n",
        "               'MUTTON': 0.007, \n",
        "               'RICE': 0.002, \n",
        "               'WHEAT': 0.008, \n",
        "               'GEL': 0.000,\n",
        "               'Kanapka':0.004}\n",
        "# A dictionary of the Kanapka percent in each of the Ingredients is created\n",
        "WitaminaBPercent = {'CHICKEN': 0.3, \n",
        "               'BEEF': 2.6, \n",
        "               'MUTTON': 2.6, \n",
        "               'RICE': 0.0, \n",
        "               'WHEAT': 0.00, \n",
        "               'GEL': 0.000,\n",
        "               'Kanapka':0.004}\n",
        "prob = LpProblem(\"The Whiskas Problem\", LpMinimize)\n",
        "ingredient_vars = LpVariable.dicts(\"Ingr\",Ingredients,0)\n",
        "prob += lpSum([costs[i]*ingredient_vars[i] for i in Ingredients]),\"Total Cost of Ingredients per can\"\n",
        "prob += lpSum([ingredient_vars[i] for i in Ingredients]) == 100, \"PercentagesSum\"\n",
        "prob += lpSum([proteinPercent[i] * ingredient_vars[i] for i in Ingredients]) >= 8.0, \"ProteinRequirement\"\n",
        "prob += lpSum([fatPercent[i] * ingredient_vars[i] for i in Ingredients]) >= 6.0, \"FatRequirement\"\n",
        "prob += lpSum([fibrePercent[i] * ingredient_vars[i] for i in Ingredients]) <= 2.0, \"FibreRequirement\"\n",
        "prob += lpSum([saltPercent[i] * ingredient_vars[i] for i in Ingredients]) <= 0.4, \"SaltRequirement\"\n",
        "prob += lpSum([WitaminaBPercent[i] * ingredient_vars[i] for i in Ingredients]) >= 0.8, \"WitaminaBRequirement\"\n",
        "\n",
        "prob.solve()\n",
        "print(\"Całkowity koszt = \", value(prob.objective),\", będzie miał w składzie:\")\n",
        "for v in prob.variables():\n",
        "    print(v.name, \"=\", v.varValue)\n",
        "\n",
        "\n"
      ],
      "execution_count": null,
      "outputs": [
        {
          "output_type": "stream",
          "text": [
            "Całkowity koszt =  0.48571427899999997 , będzie miał w składzie:\n",
            "Ingr_BEEF = 37.142857\n",
            "Ingr_CHICKEN = 0.0\n",
            "Ingr_GEL = 51.428571\n",
            "Ingr_Kanapka = 11.428571\n",
            "Ingr_MUTTON = 0.0\n",
            "Ingr_RICE = 0.0\n",
            "Ingr_WHEAT = 0.0\n"
          ],
          "name": "stdout"
        },
        {
          "output_type": "stream",
          "text": [
            "/usr/local/lib/python3.6/dist-packages/pulp/pulp.py:1198: UserWarning: Spaces are not permitted in the name. Converted to '_'\n",
            "  warnings.warn(\"Spaces are not permitted in the name. Converted to '_'\")\n"
          ],
          "name": "stderr"
        }
      ]
    }
  ]
}
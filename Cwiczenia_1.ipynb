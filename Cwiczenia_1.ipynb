{
  "nbformat": 4,
  "nbformat_minor": 0,
  "metadata": {
    "colab": {
      "name": "Cwiczenia_1.ipynb",
      "provenance": [],
      "collapsed_sections": [],
      "authorship_tag": "ABX9TyOLssfFH3wy5or7/4Q7/GIS",
      "include_colab_link": true
    },
    "kernelspec": {
      "name": "python3",
      "display_name": "Python 3"
    }
  },
  "cells": [
    {
      "cell_type": "markdown",
      "metadata": {
        "id": "view-in-github",
        "colab_type": "text"
      },
      "source": [
        "<a href=\"https://colab.research.google.com/github/Pelosomelo/Misp/blob/main/Cwiczenia_1.ipynb\" target=\"_parent\"><img src=\"https://colab.research.google.com/assets/colab-badge.svg\" alt=\"Open In Colab\"/></a>"
      ]
    },
    {
      "cell_type": "markdown",
      "metadata": {
        "id": "yyR4OrgW8Cvo"
      },
      "source": [
        " Zadania z pierwszych zajęć.\n",
        "\n",
        "\n"
      ]
    },
    {
      "cell_type": "code",
      "metadata": {
        "id": "GhYRUyqo7usK"
      },
      "source": [
        "# Dane do challenge\n",
        "\n",
        "zajecia = [\"wf\",\"informatyka\",\"relax\",\"mispy\",\"piateczek\"]\n",
        "\n",
        "dnityg = [\"Pon\",\"Wto\",\"Sro\",\"Czwar\",\"Pio\"]"
      ],
      "execution_count": 1,
      "outputs": []
    },
    {
      "cell_type": "code",
      "metadata": {
        "colab": {
          "base_uri": "https://localhost:8080/"
        },
        "id": "M3SrIZTx7-j5",
        "outputId": "1f9bfe1b-b5fa-4fcc-aa66-60471d2e4d91"
      },
      "source": [
        "#### challenge 0.1\n",
        "\n",
        "# wyprintuj zajecia od srody do piatku\n",
        "\n",
        "for (przedmiot, dni_tygodnia) in (zip(zajecia[2 :],dnityg[2 :])):\n",
        "    print(\"printuje {} w {}\".format(przedmiot,dni_tygodnia))\n",
        "\n",
        "print('-'*20)\n",
        "# wyprintuj oprocz srody\n",
        "\n",
        "for (przedmiot, dni_tygodnia) in (zip(zajecia,dnityg)):\n",
        "  if dni_tygodnia!=\"Sro\":\n",
        "    print(\"printuje {} w {}\".format(przedmiot,dni_tygodnia))"
      ],
      "execution_count": 2,
      "outputs": [
        {
          "output_type": "stream",
          "text": [
            "printuje relax w Sro\n",
            "printuje mispy w Czwar\n",
            "printuje piateczek w Pio\n",
            "--------------------\n",
            "printuje wf w Pon\n",
            "printuje informatyka w Wto\n",
            "printuje mispy w Czwar\n",
            "printuje piateczek w Pio\n"
          ],
          "name": "stdout"
        }
      ]
    },
    {
      "cell_type": "code",
      "metadata": {
        "colab": {
          "base_uri": "https://localhost:8080/"
        },
        "id": "rqdDWD2r8ptb",
        "outputId": "5a146fd4-e1e2-4577-d9a5-1a3df486e719"
      },
      "source": [
        "#### challenge 0.2\n",
        "\n",
        "zajecia = [\n",
        "           [\"wf\"],\n",
        "           [\"informatyka\", \"nauka czytania\"],\n",
        "           [\"relax\", \"jedzenie\"],\n",
        "           [\"mispy\",\"mispy w domu\"],\n",
        "           [\"piateczek\", \"praca domowa z mispow\", \"Ilovemispy\", \"mispy w czasie snu\"]\n",
        "          ]\n",
        "\n",
        "dnityg= [\"Pon\",\"Wto\",\"Sro\",\"Czwar\",\"Pio\"]\n",
        "\n",
        "# zdefiniuj funkcje ktora poda ile jest zajec danego dnia\n",
        "\n",
        "def ile_zaj(x):  \n",
        "  if (x == \"Pon\"):\n",
        "    print(\"są {} zajecia w {}\".format(len(zajecia[0]),dnityg[0]))\n",
        "  elif (x == \"Wto\"):\n",
        "    print(\"są {} zajecia w {}\".format(len(zajecia[1]),dnityg[1]))\n",
        "  elif (x == \"Sro\"):\n",
        "    print(\"są {} zajecia w {}\".format(len(zajecia[2]),dnityg[2]))\n",
        "  elif (x == \"Czwar\"):\n",
        "    print(\"są {} zajecia w {}\".format(len(zajecia[3]),dnityg[3]))\n",
        "  else:\n",
        "    print(\"są {} zajecia w {}\".format(len(zajecia[4]),dnityg[4]))\n",
        "\n",
        "ile_zaj(\"Pio\")\n",
        "\n",
        "print('-'*20)\n",
        "\n",
        "# lista_zajec_z_dnia -> ile ich jest\n",
        "\n",
        "def co_zaj(y):  \n",
        "  if (y == \"Pon\"):\n",
        "    print(\"są {} zajecia {} w {}\".format(len(zajecia[0]),zajecia[0],dnityg[0]))\n",
        "  elif (y == \"Wto\"):\n",
        "    print(\"są {} zajecia {} w {}\".format(len(zajecia[1]),zajecia[1],dnityg[1]))\n",
        "  elif (y == \"Sro\"):\n",
        "    print(\"są {} zajecia {} w {}\".format(len(zajecia[2]),zajecia[2],dnityg[2]))\n",
        "  elif (y == \"Czwar\"):\n",
        "    print(\"są {} zajecia {} w {}\".format(len(zajecia[3]),zajecia[3],dnityg[3]))\n",
        "  else:\n",
        "    print(\"są {} zajecia {} w {}\".format(len(zajecia[4]),zajecia[4],dnityg[4]))\n",
        "\n",
        "co_zaj(\"Pon\")\n",
        "\n",
        "print('-'*20)\n",
        "\n",
        "# posortuj dni po najbardziej zajetych\n",
        "\n",
        "ile_zaj=[]\n",
        "for przedmiot in zajecia:\n",
        "    ile_zaj.append(przedmiot)\n",
        "\n",
        "ile_zaj_cyfry=list(enumerate(ile_zaj))\n",
        "\n",
        "sort_ile_zaj= sorted(ile_zaj_cyfry, key= lambda krotka:krotka[1],reverse=True)\n",
        "\n",
        "cyfry, _  = zip(*sort_ile_zaj)\n",
        "sort_ile_zaj=[]\n",
        "for cyfra in cyfry:\n",
        "    sort_ile_zaj.append(dnityg[cyfra])\n",
        "\n",
        "ile_zaj= sorted(ile_zaj,reverse=True)\n",
        "\n",
        "sort_ile_zaj=[dnityg[cyfra] for cyfra in cyfry]\n",
        "\n",
        "print(\"{} jest zajec {}\".format(sort_ile_zaj,ile_zaj))\n",
        "    \n",
        "print('-'*20)\n",
        "\n"
      ],
      "execution_count": 3,
      "outputs": [
        {
          "output_type": "stream",
          "text": [
            "są 4 zajecia w Pio\n",
            "--------------------\n",
            "są 1 zajecia ['wf'] w Pon\n",
            "--------------------\n",
            "['Pon', 'Sro', 'Pio', 'Czwar', 'Wto'] jest zajec [['wf'], ['relax', 'jedzenie'], ['piateczek', 'praca domowa z mispow', 'Ilovemispy', 'mispy w czasie snu'], ['mispy', 'mispy w domu'], ['informatyka', 'nauka czytania']]\n",
            "--------------------\n"
          ],
          "name": "stdout"
        }
      ]
    },
    {
      "cell_type": "code",
      "metadata": {
        "colab": {
          "base_uri": "https://localhost:8080/"
        },
        "id": "OI9V8MOG8u1Y",
        "outputId": "720a69f4-efca-434a-e5e7-7852bcb52865"
      },
      "source": [
        "#### challenge 0.3\n",
        "\n",
        "## napisz program ktory znajdzie dzien z najwieksza iloscia mispow\n",
        "Misp=[]\n",
        "ile_misp=[]\n",
        "for przedmioty in zajecia:\n",
        "    for przedmiot in przedmioty:\n",
        "        Misp.append(przedmiot.count(\"misp\"))\n",
        "    ile_misp.append(Misp.count(1))\n",
        "    Misp=[]\n",
        "\n",
        "ile_misp= sorted(ile_misp,reverse=True)\n",
        "\n",
        "print (ile_misp[0])\n",
        "\n",
        "\n",
        "\n",
        "    \n",
        "print('-'*20)\n"
      ],
      "execution_count": 4,
      "outputs": [
        {
          "output_type": "stream",
          "text": [
            "3\n",
            "--------------------\n"
          ],
          "name": "stdout"
        }
      ]
    }
  ]
}
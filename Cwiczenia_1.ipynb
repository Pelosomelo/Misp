{
  "nbformat": 4,
  "nbformat_minor": 0,
  "metadata": {
    "colab": {
      "name": "Cwiczenia_1.ipynb",
      "provenance": [],
      "collapsed_sections": [],
      "authorship_tag": "ABX9TyOBVhuv4ne/UCIYywwIo7nt"
    },
    "kernelspec": {
      "name": "python3",
      "display_name": "Python 3"
    }
  },
  "cells": [
    {
      "cell_type": "markdown",
      "metadata": {
        "id": "yyR4OrgW8Cvo"
      },
      "source": [
        "** Zadania z pierwszych zajęć.**\n",
        "\n",
        "\n"
      ]
    },
    {
      "cell_type": "code",
      "metadata": {
        "id": "GhYRUyqo7usK"
      },
      "source": [
        "# Dane do challenge\n",
        "\n",
        "zajecia = [\"wf\",\"informatyka\",\"relax\",\"mispy\",\"piateczek\"]\n",
        "\n",
        "dnityg = [\"Pon\",\"Wto\",\"Sro\",\"Czwar\",\"Pio\"]"
      ],
      "execution_count": 1,
      "outputs": []
    },
    {
      "cell_type": "code",
      "metadata": {
        "colab": {
          "base_uri": "https://localhost:8080/"
        },
        "id": "M3SrIZTx7-j5",
        "outputId": "6788983c-551e-49a1-961a-2451be05b5fd"
      },
      "source": [
        "#### challenge 0.1\n",
        "\n",
        "# wyprintuj zajecia od srody do piatku\n",
        "\n",
        "for (przedmiot, dni_tygodnia) in (zip(zajecia[2 :],dnityg[2 :])):\n",
        "    print(\"printuje {} w {}\".format(przedmiot,dni_tygodnia))\n",
        "\n",
        "print('-'*20)\n",
        "# wyprintuj oprocz srody\n",
        "\n",
        "for (przedmiot, dni_tygodnia) in (zip(zajecia,dnityg)):\n",
        "  if dni_tygodnia!=\"Sro\":\n",
        "    print(\"printuje {} w {}\".format(przedmiot,dni_tygodnia))"
      ],
      "execution_count": 2,
      "outputs": [
        {
          "output_type": "stream",
          "text": [
            "printuje relax w Sro\n",
            "printuje mispy w Czwar\n",
            "printuje piateczek w Pio\n",
            "--------------------\n",
            "printuje wf w Pon\n",
            "printuje informatyka w Wto\n",
            "printuje mispy w Czwar\n",
            "printuje piateczek w Pio\n"
          ],
          "name": "stdout"
        }
      ]
    },
    {
      "cell_type": "code",
      "metadata": {
        "colab": {
          "base_uri": "https://localhost:8080/"
        },
        "id": "rqdDWD2r8ptb",
        "outputId": "15794299-5498-48fa-8fc4-7171e072e805"
      },
      "source": [
        "#### challenge 0.2\n",
        "\n",
        "zajecia = [\n",
        "           [\"wf\"],\n",
        "           [\"informatyka\", \"nauka czytania\"],\n",
        "           [\"relax\", \"jedzenie\", \"jedzenie2\"],\n",
        "           [\"mispy\",\"mispy w domu\"],\n",
        "           [\"piateczek\", \"praca domowa z mispow\", \"Ilovemispy\", \"mispy w czasie snu\"]\n",
        "          ]\n",
        "\n",
        "dnityg= [\"Pon\",\"Wto\",\"Sro\",\"Czwar\",\"Pio\"]\n",
        "\n",
        "# zdefiniuj funkcje ktora poda ile jest zajec danego dnia\n",
        "\n",
        "def ile_zaj(x):  \n",
        "  if (x == \"Pon\"):\n",
        "    print(\"są {} zajecia w {}\".format(len(zajecia[0]),dnityg[0]))\n",
        "  elif (x == \"Wto\"):\n",
        "    print(\"są {} zajecia w {}\".format(len(zajecia[1]),dnityg[1]))\n",
        "  elif (x == \"Sro\"):\n",
        "    print(\"są {} zajecia w {}\".format(len(zajecia[2]),dnityg[2]))\n",
        "  elif (x == \"Czwar\"):\n",
        "    print(\"są {} zajecia w {}\".format(len(zajecia[3]),dnityg[3]))\n",
        "  else:\n",
        "    print(\"są {} zajecia w {}\".format(len(zajecia[4]),dnityg[4]))\n",
        "\n",
        "ile_zaj(\"Pon\")\n",
        "ile_zaj(\"Wto\")\n",
        "ile_zaj(\"Sro\")\n",
        "ile_zaj(\"Czwar\")\n",
        "ile_zaj(\"Pio\")\n",
        "\n",
        "print('-'*20)\n",
        "\n",
        "# lista_zajec_z_dnia -> ile ich jest\n",
        "\n",
        "def co_zaj(y):  \n",
        "  if (y == \"Pon\"):\n",
        "    print(\"są {} zajecia {}\".format(len(zajecia[0]),zajecia[0]))\n",
        "  elif (y == \"Wto\"):\n",
        "    print(\"są {} zajecia {}\".format(len(zajecia[1]),zajecia[1]))\n",
        "  elif (y == \"Sro\"):\n",
        "    print(\"są {} zajecia {}\".format(len(zajecia[2]),zajecia[2]))\n",
        "  elif (y == \"Czwar\"):\n",
        "    print(\"są {} zajecia {}\".format(len(zajecia[3]),zajecia[3]))\n",
        "  else:\n",
        "    print(\"są {} zajecia {}\".format(len(zajecia[4]),zajecia[4]))\n",
        "\n",
        "co_zaj(\"Pon\")\n",
        "co_zaj(\"Wto\")\n",
        "co_zaj(\"Sro\")\n",
        "co_zaj(\"Czwar\")\n",
        "co_zaj(\"Pio\")\n",
        "\n",
        "print('-'*20)\n",
        "\n",
        "# posortuj dni po najbardziej zajetych\n",
        "\n",
        "ile_zaj_cyfry=[]\n",
        "for (przedmiot,dzientyg) in (zip(zajecia,dnityg)):\n",
        "    ile_zaj=[len(przedmiot),dzientyg]\n",
        "    ile_zaj_cyfry.append(ile_zaj)\n",
        "\n",
        "\n",
        "ile_zaj_cyfry.sort(reverse=True)\n",
        "\n",
        "print(\"{} \".format(ile_zaj_cyfry))\n",
        "    \n",
        "print('-'*20)\n",
        "\n"
      ],
      "execution_count": 69,
      "outputs": [
        {
          "output_type": "stream",
          "text": [
            "są 1 zajecia w Pon\n",
            "są 2 zajecia w Wto\n",
            "są 3 zajecia w Sro\n",
            "są 2 zajecia w Czwar\n",
            "są 4 zajecia w Pio\n",
            "--------------------\n",
            "są 1 zajecia ['wf']\n",
            "są 2 zajecia ['informatyka', 'nauka czytania']\n",
            "są 3 zajecia ['relax', 'jedzenie', 'jedzenie2']\n",
            "są 2 zajecia ['mispy', 'mispy w domu']\n",
            "są 4 zajecia ['piateczek', 'praca domowa z mispow', 'Ilovemispy', 'mispy w czasie snu']\n",
            "--------------------\n",
            "[[4, 'Pio'], [3, 'Sro'], [2, 'Wto'], [2, 'Czwar'], [1, 'Pon']] \n",
            "--------------------\n"
          ],
          "name": "stdout"
        }
      ]
    },
    {
      "cell_type": "code",
      "metadata": {
        "colab": {
          "base_uri": "https://localhost:8080/"
        },
        "id": "OI9V8MOG8u1Y",
        "outputId": "b93e9b22-1429-40a6-d330-d94e65186535"
      },
      "source": [
        "#### challenge 0.3\n",
        "\n",
        "## napisz program ktory znajdzie dzien z najwieksza iloscia mispow\n",
        "Misp=[]\n",
        "ile_misp=[]\n",
        "for (przedmioty,dzientyg) in (zip(zajecia,dnityg)):\n",
        "    for przedmiot in przedmioty:\n",
        "        Misp.append(przedmiot.count(\"misp\"))\n",
        "    ile_misp.append(Misp.count(1))\n",
        "    Misp=[]\n",
        "\n",
        "ile_misp= sorted(ile_misp,reverse=True)\n",
        "\n",
        "print (ile_misp[0],dzientyg)\n",
        "\n",
        "\n",
        "\n",
        "    \n",
        "print('-'*20)\n"
      ],
      "execution_count": 25,
      "outputs": [
        {
          "output_type": "stream",
          "text": [
            "3 Pio\n",
            "--------------------\n"
          ],
          "name": "stdout"
        }
      ]
    }
  ]
}
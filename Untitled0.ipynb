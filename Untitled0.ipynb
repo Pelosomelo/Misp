{
  "nbformat": 4,
  "nbformat_minor": 0,
  "metadata": {
    "colab": {
      "name": "Untitled0.ipynb",
      "provenance": [],
      "collapsed_sections": [],
      "authorship_tag": "ABX9TyNiaKCbyQmSqnpCUG5a5abS",
      "include_colab_link": true
    },
    "kernelspec": {
      "name": "python3",
      "display_name": "Python 3"
    },
    "widgets": {
      "application/vnd.jupyter.widget-state+json": {
        "fdc13fd3e41e48d19b55b244af3d86cb": {
          "model_module": "@jupyter-widgets/controls",
          "model_name": "VBoxModel",
          "state": {
            "_view_name": "VBoxView",
            "_dom_classes": [
              "widget-interact"
            ],
            "_model_name": "VBoxModel",
            "_view_module": "@jupyter-widgets/controls",
            "_model_module_version": "1.5.0",
            "_view_count": null,
            "_view_module_version": "1.5.0",
            "box_style": "",
            "layout": "IPY_MODEL_02a2018c1c9a49ada258c2489775664b",
            "_model_module": "@jupyter-widgets/controls",
            "children": [
              "IPY_MODEL_888232e687fa413593d908857e5faa14",
              "IPY_MODEL_fe49500434174c2ea863517b9b5eb73f",
              "IPY_MODEL_c992d9880e9843d0973e445e9d6d425e",
              "IPY_MODEL_f9bce41e0c054a688038803928f32dbd"
            ]
          }
        },
        "02a2018c1c9a49ada258c2489775664b": {
          "model_module": "@jupyter-widgets/base",
          "model_name": "LayoutModel",
          "state": {
            "_view_name": "LayoutView",
            "grid_template_rows": null,
            "right": null,
            "justify_content": null,
            "_view_module": "@jupyter-widgets/base",
            "overflow": null,
            "_model_module_version": "1.2.0",
            "_view_count": null,
            "flex_flow": null,
            "width": null,
            "min_width": null,
            "border": null,
            "align_items": null,
            "bottom": null,
            "_model_module": "@jupyter-widgets/base",
            "top": null,
            "grid_column": null,
            "overflow_y": null,
            "overflow_x": null,
            "grid_auto_flow": null,
            "grid_area": null,
            "grid_template_columns": null,
            "flex": null,
            "_model_name": "LayoutModel",
            "justify_items": null,
            "grid_row": null,
            "max_height": null,
            "align_content": null,
            "visibility": null,
            "align_self": null,
            "height": null,
            "min_height": null,
            "padding": null,
            "grid_auto_rows": null,
            "grid_gap": null,
            "max_width": null,
            "order": null,
            "_view_module_version": "1.2.0",
            "grid_template_areas": null,
            "object_position": null,
            "object_fit": null,
            "grid_auto_columns": null,
            "margin": null,
            "display": null,
            "left": null
          }
        },
        "888232e687fa413593d908857e5faa14": {
          "model_module": "@jupyter-widgets/controls",
          "model_name": "IntSliderModel",
          "state": {
            "_view_name": "IntSliderView",
            "style": "IPY_MODEL_14f217c4c26f4ec7a437902fc33f5bff",
            "_dom_classes": [],
            "description": "czas_F1_slider",
            "step": 1,
            "_model_name": "IntSliderModel",
            "orientation": "horizontal",
            "max": 100,
            "_view_module": "@jupyter-widgets/controls",
            "_model_module_version": "1.5.0",
            "value": 4,
            "_view_count": null,
            "disabled": false,
            "_view_module_version": "1.5.0",
            "min": 0,
            "continuous_update": true,
            "readout_format": "d",
            "description_tooltip": null,
            "readout": true,
            "_model_module": "@jupyter-widgets/controls",
            "layout": "IPY_MODEL_e1b53b781f97433aa443bdd9b5b08527"
          }
        },
        "fe49500434174c2ea863517b9b5eb73f": {
          "model_module": "@jupyter-widgets/controls",
          "model_name": "IntSliderModel",
          "state": {
            "_view_name": "IntSliderView",
            "style": "IPY_MODEL_f1828c2a4432407cb0f4ccbb1100f1c3",
            "_dom_classes": [],
            "description": "czas_F2_slider",
            "step": 1,
            "_model_name": "IntSliderModel",
            "orientation": "horizontal",
            "max": 100,
            "_view_module": "@jupyter-widgets/controls",
            "_model_module_version": "1.5.0",
            "value": 12,
            "_view_count": null,
            "disabled": false,
            "_view_module_version": "1.5.0",
            "min": 0,
            "continuous_update": true,
            "readout_format": "d",
            "description_tooltip": null,
            "readout": true,
            "_model_module": "@jupyter-widgets/controls",
            "layout": "IPY_MODEL_b4bceff2603e4dcfaba647a8f6625617"
          }
        },
        "c992d9880e9843d0973e445e9d6d425e": {
          "model_module": "@jupyter-widgets/controls",
          "model_name": "IntSliderModel",
          "state": {
            "_view_name": "IntSliderView",
            "style": "IPY_MODEL_c6c437e9bb9c4d82a87b59822bfd9eb6",
            "_dom_classes": [],
            "description": "czas_F3_slider",
            "step": 1,
            "_model_name": "IntSliderModel",
            "orientation": "horizontal",
            "max": 100,
            "_view_module": "@jupyter-widgets/controls",
            "_model_module_version": "1.5.0",
            "value": 18,
            "_view_count": null,
            "disabled": false,
            "_view_module_version": "1.5.0",
            "min": 0,
            "continuous_update": true,
            "readout_format": "d",
            "description_tooltip": null,
            "readout": true,
            "_model_module": "@jupyter-widgets/controls",
            "layout": "IPY_MODEL_aa518234022644fd88c00a246f947f8b"
          }
        },
        "f9bce41e0c054a688038803928f32dbd": {
          "model_module": "@jupyter-widgets/output",
          "model_name": "OutputModel",
          "state": {
            "_view_name": "OutputView",
            "msg_id": "",
            "_dom_classes": [],
            "_model_name": "OutputModel",
            "outputs": [
              {
                "output_type": "stream",
                "metadata": {
                  "tags": []
                },
                "text": "Status: Optimal\nalu = 2.0\ndrewno = 6.0\nTotal Cost  =  36000.0\n**********Shadow Prices**********\n              name  slack\n0  czas_fabryki_F1    2.0\n1  czas_fabryki_F2   -0.0\n2  czas_fabryki_F3   -0.0\n",
                "stream": "stdout"
              }
            ],
            "_view_module": "@jupyter-widgets/output",
            "_model_module_version": "1.0.0",
            "_view_count": null,
            "_view_module_version": "1.0.0",
            "layout": "IPY_MODEL_42ba88ddfa6b4d82865c29b9cd6d7df7",
            "_model_module": "@jupyter-widgets/output"
          }
        },
        "14f217c4c26f4ec7a437902fc33f5bff": {
          "model_module": "@jupyter-widgets/controls",
          "model_name": "SliderStyleModel",
          "state": {
            "_view_name": "StyleView",
            "handle_color": null,
            "_model_name": "SliderStyleModel",
            "description_width": "initial",
            "_view_module": "@jupyter-widgets/base",
            "_model_module_version": "1.5.0",
            "_view_count": null,
            "_view_module_version": "1.2.0",
            "_model_module": "@jupyter-widgets/controls"
          }
        },
        "e1b53b781f97433aa443bdd9b5b08527": {
          "model_module": "@jupyter-widgets/base",
          "model_name": "LayoutModel",
          "state": {
            "_view_name": "LayoutView",
            "grid_template_rows": null,
            "right": null,
            "justify_content": null,
            "_view_module": "@jupyter-widgets/base",
            "overflow": null,
            "_model_module_version": "1.2.0",
            "_view_count": null,
            "flex_flow": null,
            "width": null,
            "min_width": null,
            "border": null,
            "align_items": null,
            "bottom": null,
            "_model_module": "@jupyter-widgets/base",
            "top": null,
            "grid_column": null,
            "overflow_y": null,
            "overflow_x": null,
            "grid_auto_flow": null,
            "grid_area": null,
            "grid_template_columns": null,
            "flex": null,
            "_model_name": "LayoutModel",
            "justify_items": null,
            "grid_row": null,
            "max_height": null,
            "align_content": null,
            "visibility": null,
            "align_self": null,
            "height": null,
            "min_height": null,
            "padding": null,
            "grid_auto_rows": null,
            "grid_gap": null,
            "max_width": null,
            "order": null,
            "_view_module_version": "1.2.0",
            "grid_template_areas": null,
            "object_position": null,
            "object_fit": null,
            "grid_auto_columns": null,
            "margin": null,
            "display": null,
            "left": null
          }
        },
        "f1828c2a4432407cb0f4ccbb1100f1c3": {
          "model_module": "@jupyter-widgets/controls",
          "model_name": "SliderStyleModel",
          "state": {
            "_view_name": "StyleView",
            "handle_color": null,
            "_model_name": "SliderStyleModel",
            "description_width": "initial",
            "_view_module": "@jupyter-widgets/base",
            "_model_module_version": "1.5.0",
            "_view_count": null,
            "_view_module_version": "1.2.0",
            "_model_module": "@jupyter-widgets/controls"
          }
        },
        "b4bceff2603e4dcfaba647a8f6625617": {
          "model_module": "@jupyter-widgets/base",
          "model_name": "LayoutModel",
          "state": {
            "_view_name": "LayoutView",
            "grid_template_rows": null,
            "right": null,
            "justify_content": null,
            "_view_module": "@jupyter-widgets/base",
            "overflow": null,
            "_model_module_version": "1.2.0",
            "_view_count": null,
            "flex_flow": null,
            "width": null,
            "min_width": null,
            "border": null,
            "align_items": null,
            "bottom": null,
            "_model_module": "@jupyter-widgets/base",
            "top": null,
            "grid_column": null,
            "overflow_y": null,
            "overflow_x": null,
            "grid_auto_flow": null,
            "grid_area": null,
            "grid_template_columns": null,
            "flex": null,
            "_model_name": "LayoutModel",
            "justify_items": null,
            "grid_row": null,
            "max_height": null,
            "align_content": null,
            "visibility": null,
            "align_self": null,
            "height": null,
            "min_height": null,
            "padding": null,
            "grid_auto_rows": null,
            "grid_gap": null,
            "max_width": null,
            "order": null,
            "_view_module_version": "1.2.0",
            "grid_template_areas": null,
            "object_position": null,
            "object_fit": null,
            "grid_auto_columns": null,
            "margin": null,
            "display": null,
            "left": null
          }
        },
        "c6c437e9bb9c4d82a87b59822bfd9eb6": {
          "model_module": "@jupyter-widgets/controls",
          "model_name": "SliderStyleModel",
          "state": {
            "_view_name": "StyleView",
            "handle_color": null,
            "_model_name": "SliderStyleModel",
            "description_width": "initial",
            "_view_module": "@jupyter-widgets/base",
            "_model_module_version": "1.5.0",
            "_view_count": null,
            "_view_module_version": "1.2.0",
            "_model_module": "@jupyter-widgets/controls"
          }
        },
        "aa518234022644fd88c00a246f947f8b": {
          "model_module": "@jupyter-widgets/base",
          "model_name": "LayoutModel",
          "state": {
            "_view_name": "LayoutView",
            "grid_template_rows": null,
            "right": null,
            "justify_content": null,
            "_view_module": "@jupyter-widgets/base",
            "overflow": null,
            "_model_module_version": "1.2.0",
            "_view_count": null,
            "flex_flow": null,
            "width": null,
            "min_width": null,
            "border": null,
            "align_items": null,
            "bottom": null,
            "_model_module": "@jupyter-widgets/base",
            "top": null,
            "grid_column": null,
            "overflow_y": null,
            "overflow_x": null,
            "grid_auto_flow": null,
            "grid_area": null,
            "grid_template_columns": null,
            "flex": null,
            "_model_name": "LayoutModel",
            "justify_items": null,
            "grid_row": null,
            "max_height": null,
            "align_content": null,
            "visibility": null,
            "align_self": null,
            "height": null,
            "min_height": null,
            "padding": null,
            "grid_auto_rows": null,
            "grid_gap": null,
            "max_width": null,
            "order": null,
            "_view_module_version": "1.2.0",
            "grid_template_areas": null,
            "object_position": null,
            "object_fit": null,
            "grid_auto_columns": null,
            "margin": null,
            "display": null,
            "left": null
          }
        },
        "42ba88ddfa6b4d82865c29b9cd6d7df7": {
          "model_module": "@jupyter-widgets/base",
          "model_name": "LayoutModel",
          "state": {
            "_view_name": "LayoutView",
            "grid_template_rows": null,
            "right": null,
            "justify_content": null,
            "_view_module": "@jupyter-widgets/base",
            "overflow": null,
            "_model_module_version": "1.2.0",
            "_view_count": null,
            "flex_flow": null,
            "width": null,
            "min_width": null,
            "border": null,
            "align_items": null,
            "bottom": null,
            "_model_module": "@jupyter-widgets/base",
            "top": null,
            "grid_column": null,
            "overflow_y": null,
            "overflow_x": null,
            "grid_auto_flow": null,
            "grid_area": null,
            "grid_template_columns": null,
            "flex": null,
            "_model_name": "LayoutModel",
            "justify_items": null,
            "grid_row": null,
            "max_height": null,
            "align_content": null,
            "visibility": null,
            "align_self": null,
            "height": null,
            "min_height": null,
            "padding": null,
            "grid_auto_rows": null,
            "grid_gap": null,
            "max_width": null,
            "order": null,
            "_view_module_version": "1.2.0",
            "grid_template_areas": null,
            "object_position": null,
            "object_fit": null,
            "grid_auto_columns": null,
            "margin": null,
            "display": null,
            "left": null
          }
        }
      }
    }
  },
  "cells": [
    {
      "cell_type": "markdown",
      "metadata": {
        "id": "view-in-github",
        "colab_type": "text"
      },
      "source": [
        "<a href=\"https://colab.research.google.com/github/Pelosomelo/Misp/blob/main/Untitled0.ipynb\" target=\"_parent\"><img src=\"https://colab.research.google.com/assets/colab-badge.svg\" alt=\"Open In Colab\"/></a>"
      ]
    },
    {
      "cell_type": "code",
      "metadata": {
        "id": "FTqyjjIjEClR",
        "colab": {
          "base_uri": "https://localhost:8080/"
        },
        "outputId": "376e0a58-7ba4-41ce-c780-55fa0c863e57"
      },
      "source": [
        "!pip install pulp\n",
        "\n",
        "!sudo apt-get install coinor-cbc glpk-utils coinor-clp"
      ],
      "execution_count": null,
      "outputs": [
        {
          "output_type": "stream",
          "text": [
            "Collecting pulp\n",
            "\u001b[?25l  Downloading https://files.pythonhosted.org/packages/89/0c/6d80f5f81a92d1733cc5ca180491b8a3cd5839e335627a0046c81b7d3d3d/PuLP-2.3.1-py3-none-any.whl (40.6MB)\n",
            "\u001b[K     |████████████████████████████████| 40.6MB 101kB/s \n",
            "\u001b[?25hCollecting amply>=0.1.2\n",
            "  Downloading https://files.pythonhosted.org/packages/f3/c5/dfa09dd2595a2ab2ab4e6fa7bebef9565812722e1980d04b0edce5032066/amply-0.1.4-py3-none-any.whl\n",
            "Requirement already satisfied: pyparsing in /usr/local/lib/python3.6/dist-packages (from amply>=0.1.2->pulp) (2.4.7)\n",
            "Requirement already satisfied: docutils>=0.3 in /usr/local/lib/python3.6/dist-packages (from amply>=0.1.2->pulp) (0.16)\n",
            "Installing collected packages: amply, pulp\n",
            "Successfully installed amply-0.1.4 pulp-2.3.1\n",
            "Reading package lists... Done\n",
            "Building dependency tree       \n",
            "Reading state information... Done\n",
            "The following additional packages will be installed:\n",
            "  coinor-libcbc3 coinor-libcgl1 coinor-libclp1 coinor-libcoinutils3v5\n",
            "  coinor-libosi1v5 libamd2 libcolamd2 libglpk40 libsuitesparseconfig5\n",
            "Suggested packages:\n",
            "  libiodbc2-dev default-libmysqlclient-dev\n",
            "The following NEW packages will be installed:\n",
            "  coinor-cbc coinor-clp coinor-libcbc3 coinor-libcgl1 coinor-libclp1\n",
            "  coinor-libcoinutils3v5 coinor-libosi1v5 glpk-utils libamd2 libcolamd2\n",
            "  libglpk40 libsuitesparseconfig5\n",
            "0 upgraded, 12 newly installed, 0 to remove and 12 not upgraded.\n",
            "Need to get 3,439 kB of archives.\n",
            "After this operation, 9,832 kB of additional disk space will be used.\n",
            "Get:1 http://archive.ubuntu.com/ubuntu bionic/main amd64 libsuitesparseconfig5 amd64 1:5.1.2-2 [9,044 B]\n",
            "Get:2 http://archive.ubuntu.com/ubuntu bionic/main amd64 libamd2 amd64 1:5.1.2-2 [19.5 kB]\n",
            "Get:3 http://archive.ubuntu.com/ubuntu bionic/main amd64 libcolamd2 amd64 1:5.1.2-2 [16.2 kB]\n",
            "Get:4 http://archive.ubuntu.com/ubuntu bionic/universe amd64 libglpk40 amd64 4.65-1 [378 kB]\n",
            "Get:5 http://archive.ubuntu.com/ubuntu bionic/universe amd64 glpk-utils amd64 4.65-1 [269 kB]\n",
            "Get:6 http://archive.ubuntu.com/ubuntu bionic/universe amd64 coinor-libcoinutils3v5 amd64 2.10.14+repack1-1 [472 kB]\n",
            "Get:7 http://archive.ubuntu.com/ubuntu bionic/universe amd64 coinor-libosi1v5 amd64 0.107.9+repack1-1 [270 kB]\n",
            "Get:8 http://archive.ubuntu.com/ubuntu bionic/universe amd64 coinor-libclp1 amd64 1.16.11+repack1-1 [863 kB]\n",
            "Get:9 http://archive.ubuntu.com/ubuntu bionic/universe amd64 coinor-libcgl1 amd64 0.59.10+repack1-1 [433 kB]\n",
            "Get:10 http://archive.ubuntu.com/ubuntu bionic/universe amd64 coinor-libcbc3 amd64 2.9.9+repack1-1 [687 kB]\n",
            "Get:11 http://archive.ubuntu.com/ubuntu bionic/universe amd64 coinor-cbc amd64 2.9.9+repack1-1 [11.2 kB]\n",
            "Get:12 http://archive.ubuntu.com/ubuntu bionic/universe amd64 coinor-clp amd64 1.16.11+repack1-1 [9,646 B]\n",
            "Fetched 3,439 kB in 2s (1,429 kB/s)\n",
            "debconf: unable to initialize frontend: Dialog\n",
            "debconf: (No usable dialog-like program is installed, so the dialog based frontend cannot be used. at /usr/share/perl5/Debconf/FrontEnd/Dialog.pm line 76, <> line 12.)\n",
            "debconf: falling back to frontend: Readline\n",
            "debconf: unable to initialize frontend: Readline\n",
            "debconf: (This frontend requires a controlling tty.)\n",
            "debconf: falling back to frontend: Teletype\n",
            "dpkg-preconfigure: unable to re-open stdin: \n",
            "Selecting previously unselected package libsuitesparseconfig5:amd64.\n",
            "(Reading database ... 144786 files and directories currently installed.)\n",
            "Preparing to unpack .../00-libsuitesparseconfig5_1%3a5.1.2-2_amd64.deb ...\n",
            "Unpacking libsuitesparseconfig5:amd64 (1:5.1.2-2) ...\n",
            "Selecting previously unselected package libamd2:amd64.\n",
            "Preparing to unpack .../01-libamd2_1%3a5.1.2-2_amd64.deb ...\n",
            "Unpacking libamd2:amd64 (1:5.1.2-2) ...\n",
            "Selecting previously unselected package libcolamd2:amd64.\n",
            "Preparing to unpack .../02-libcolamd2_1%3a5.1.2-2_amd64.deb ...\n",
            "Unpacking libcolamd2:amd64 (1:5.1.2-2) ...\n",
            "Selecting previously unselected package libglpk40:amd64.\n",
            "Preparing to unpack .../03-libglpk40_4.65-1_amd64.deb ...\n",
            "Unpacking libglpk40:amd64 (4.65-1) ...\n",
            "Selecting previously unselected package glpk-utils.\n",
            "Preparing to unpack .../04-glpk-utils_4.65-1_amd64.deb ...\n",
            "Unpacking glpk-utils (4.65-1) ...\n",
            "Selecting previously unselected package coinor-libcoinutils3v5.\n",
            "Preparing to unpack .../05-coinor-libcoinutils3v5_2.10.14+repack1-1_amd64.deb ...\n",
            "Unpacking coinor-libcoinutils3v5 (2.10.14+repack1-1) ...\n",
            "Selecting previously unselected package coinor-libosi1v5.\n",
            "Preparing to unpack .../06-coinor-libosi1v5_0.107.9+repack1-1_amd64.deb ...\n",
            "Unpacking coinor-libosi1v5 (0.107.9+repack1-1) ...\n",
            "Selecting previously unselected package coinor-libclp1.\n",
            "Preparing to unpack .../07-coinor-libclp1_1.16.11+repack1-1_amd64.deb ...\n",
            "Unpacking coinor-libclp1 (1.16.11+repack1-1) ...\n",
            "Selecting previously unselected package coinor-libcgl1.\n",
            "Preparing to unpack .../08-coinor-libcgl1_0.59.10+repack1-1_amd64.deb ...\n",
            "Unpacking coinor-libcgl1 (0.59.10+repack1-1) ...\n",
            "Selecting previously unselected package coinor-libcbc3.\n",
            "Preparing to unpack .../09-coinor-libcbc3_2.9.9+repack1-1_amd64.deb ...\n",
            "Unpacking coinor-libcbc3 (2.9.9+repack1-1) ...\n",
            "Selecting previously unselected package coinor-cbc.\n",
            "Preparing to unpack .../10-coinor-cbc_2.9.9+repack1-1_amd64.deb ...\n",
            "Unpacking coinor-cbc (2.9.9+repack1-1) ...\n",
            "Selecting previously unselected package coinor-clp.\n",
            "Preparing to unpack .../11-coinor-clp_1.16.11+repack1-1_amd64.deb ...\n",
            "Unpacking coinor-clp (1.16.11+repack1-1) ...\n",
            "Setting up libsuitesparseconfig5:amd64 (1:5.1.2-2) ...\n",
            "Setting up libcolamd2:amd64 (1:5.1.2-2) ...\n",
            "Setting up coinor-libcoinutils3v5 (2.10.14+repack1-1) ...\n",
            "Setting up coinor-libosi1v5 (0.107.9+repack1-1) ...\n",
            "Setting up coinor-libclp1 (1.16.11+repack1-1) ...\n",
            "Setting up libamd2:amd64 (1:5.1.2-2) ...\n",
            "Setting up coinor-libcgl1 (0.59.10+repack1-1) ...\n",
            "Setting up libglpk40:amd64 (4.65-1) ...\n",
            "Setting up coinor-clp (1.16.11+repack1-1) ...\n",
            "Setting up coinor-libcbc3 (2.9.9+repack1-1) ...\n",
            "Setting up glpk-utils (4.65-1) ...\n",
            "Setting up coinor-cbc (2.9.9+repack1-1) ...\n",
            "Processing triggers for man-db (2.8.3-2ubuntu0.1) ...\n",
            "Processing triggers for libc-bin (2.27-3ubuntu1.2) ...\n",
            "/sbin/ldconfig.real: /usr/local/lib/python3.6/dist-packages/ideep4py/lib/libmkldnn.so.0 is not a symbolic link\n",
            "\n"
          ],
          "name": "stdout"
        }
      ]
    },
    {
      "cell_type": "code",
      "metadata": {
        "id": "IvpiKVTCET5y",
        "colab": {
          "base_uri": "https://localhost:8080/"
        },
        "outputId": "521c0c0d-ef33-4174-ebe5-1500aad33f71"
      },
      "source": [
        "import pulp\n",
        "\n",
        "print(pulp.__version__)\n",
        "pulp.pulpTestAll()\n"
      ],
      "execution_count": null,
      "outputs": [
        {
          "output_type": "stream",
          "text": [
            "................"
          ],
          "name": "stderr"
        },
        {
          "output_type": "stream",
          "text": [
            "2.3.1\n",
            "Solver <class 'pulp.apis.coin_api.PULP_CBC_CMD'> available\n",
            "Solver <class 'pulp.apis.cplex_api.CPLEX_DLL'> unavailable\n",
            "Solver <class 'pulp.apis.cplex_api.CPLEX_CMD'> unavailable\n",
            "Solver <class 'pulp.apis.cplex_api.CPLEX_PY'> unavailable\n",
            "Solver <class 'pulp.apis.coin_api.COIN_CMD'> available\n",
            "Solver <class 'pulp.apis.coin_api.COINMP_DLL'> unavailable\n",
            "Solver <class 'pulp.apis.glpk_api.GLPK_CMD'> available\n",
            "Solver <class 'pulp.apis.xpress_api.XPRESS'> unavailable\n",
            "Solver <class 'pulp.apis.gurobi_api.GUROBI'> unavailable\n",
            "Solver <class 'pulp.apis.gurobi_api.GUROBI_CMD'> unavailable\n",
            "Solver <class 'pulp.apis.glpk_api.PYGLPK'> unavailable\n",
            "Solver <class 'pulp.apis.coin_api.YAPOSIB'> unavailable\n",
            "Solver <class 'pulp.apis.choco_api.PULP_CHOCO_CMD'> available\n",
            "Solver <class 'pulp.apis.choco_api.CHOCO_CMD'> unavailable\n",
            "Solver <class 'pulp.apis.mipcl_api.MIPCL_CMD'> unavailable\n",
            "Solver <class 'pulp.apis.mosek_api.MOSEK'> unavailable\n",
            "Solver <class 'pulp.apis.scip_api.SCIP_CMD'> unavailable\n",
            "\t Testing invalid status\n",
            "\t Testing continuous LP solution - export dict\n",
            "\t Testing MIP solution\n",
            "\t Testing maximize continuous LP solution\n",
            "\t Testing continuous LP solution - export JSON\n",
            "\t Testing continuous LP solution - export solver dict\n",
            "\t Testing continuous LP solution - export solver JSON\n",
            "\t Testing makeDict general behavior\n",
            "\t Testing makeDict default value behavior\n",
            "\t Testing the availability of the function pulpTestAll\n",
            "\t Testing zero subtraction\n",
            "\t Testing inconsistent lp solution\n",
            "\t Testing continuous LP solution\n",
            "\t Testing maximize continuous LP solution\n",
            "\t Testing unbounded continuous LP solution\n",
            "\t Testing Long Names\n"
          ],
          "name": "stdout"
        },
        {
          "output_type": "stream",
          "text": [
            ".............."
          ],
          "name": "stderr"
        },
        {
          "output_type": "stream",
          "text": [
            "\t Testing repeated Names\n",
            "\t Testing zero constraint\n",
            "\t Testing zero objective\n",
            "\t Testing LpVariable (not LpAffineExpression) objective\n",
            "\t Testing Long lines in LP\n",
            "\t Testing LpAffineExpression divide\n",
            "\t Testing MIP solution\n",
            "\t Testing MIP solution with floats in objective\n",
            "\t Testing MIP solution\n",
            "\t Testing MIP solution\n",
            "\t Testing MIP relaxation\n",
            "\t Testing feasibility problem (no objective)\n",
            "\t Testing an infeasible problem\n",
            "\t Testing an integer infeasible problem\n"
          ],
          "name": "stdout"
        },
        {
          "output_type": "stream",
          "text": [
            "..............."
          ],
          "name": "stderr"
        },
        {
          "output_type": "stream",
          "text": [
            "\t Testing another integer infeasible problem\n",
            "\t Testing column based modelling\n",
            "\t Testing dual variables and slacks reporting\n",
            "\t Testing fractional constraints\n",
            "\t Testing elastic constraints (no change)\n",
            "\t Testing elastic constraints (freebound)\n",
            "\t Testing elastic constraints (penalty unchanged)\n",
            "\t Testing elastic constraints (penalty unbounded)\n",
            "\t Testing invalid status\n",
            "\t Testing continuous LP solution - export dict\n",
            "\t Testing MIP solution\n"
          ],
          "name": "stdout"
        },
        {
          "output_type": "stream",
          "text": [
            "................"
          ],
          "name": "stderr"
        },
        {
          "output_type": "stream",
          "text": [
            "\t Testing maximize continuous LP solution\n",
            "\t Testing continuous LP solution - export JSON\n",
            "\t Testing continuous LP solution - export solver dict\n",
            "\t Testing continuous LP solution - export solver JSON\n",
            "\t Testing makeDict general behavior\n",
            "\t Testing makeDict default value behavior\n",
            "\t Testing the availability of the function pulpTestAll\n",
            "\t Testing zero subtraction\n",
            "\t Testing inconsistent lp solution\n",
            "\t Testing continuous LP solution\n",
            "\t Testing maximize continuous LP solution\n",
            "\t Testing unbounded continuous LP solution\n",
            "\t Testing Long Names\n",
            "\t Testing repeated Names\n",
            "\t Testing zero constraint\n"
          ],
          "name": "stdout"
        },
        {
          "output_type": "stream",
          "text": [
            "..........."
          ],
          "name": "stderr"
        },
        {
          "output_type": "stream",
          "text": [
            "\t Testing zero objective\n",
            "\t Testing LpVariable (not LpAffineExpression) objective\n",
            "\t Testing Long lines in LP\n",
            "\t Testing LpAffineExpression divide\n",
            "\t Testing MIP solution\n",
            "\t Testing MIP solution with floats in objective\n",
            "\t Testing MIP solution\n",
            "\t Testing MIP solution\n",
            "\t Testing MIP relaxation\n",
            "\t Testing feasibility problem (no objective)\n",
            "\t Testing an infeasible problem\n"
          ],
          "name": "stdout"
        },
        {
          "output_type": "stream",
          "text": [
            "..............."
          ],
          "name": "stderr"
        },
        {
          "output_type": "stream",
          "text": [
            "\t Testing an integer infeasible problem\n",
            "\t Testing another integer infeasible problem\n",
            "\t Testing column based modelling\n",
            "\t Testing fractional constraints\n",
            "\t Testing elastic constraints (no change)\n",
            "\t Testing elastic constraints (freebound)\n",
            "\t Testing elastic constraints (penalty unchanged)\n",
            "\t Testing elastic constraints (penalty unbounded)\n",
            "\t Testing invalid status\n",
            "\t Testing continuous LP solution - export dict\n"
          ],
          "name": "stdout"
        },
        {
          "output_type": "stream",
          "text": [
            "......................"
          ],
          "name": "stderr"
        },
        {
          "output_type": "stream",
          "text": [
            "\t Testing MIP solution\n",
            "\t Testing maximize continuous LP solution\n",
            "\t Testing continuous LP solution - export JSON\n",
            "\t Testing continuous LP solution - export solver dict\n",
            "\t Testing continuous LP solution - export solver JSON\n",
            "\t Testing makeDict general behavior\n",
            "\t Testing makeDict default value behavior\n",
            "\t Testing the availability of the function pulpTestAll\n",
            "\t Testing zero subtraction\n",
            "\t Testing inconsistent lp solution\n",
            "\t Testing continuous LP solution\n",
            "\t Testing maximize continuous LP solution\n",
            "\t Testing unbounded continuous LP solution\n",
            "\t Testing Long Names\n",
            "\t Testing repeated Names\n",
            "\t Testing zero constraint\n",
            "\t Testing zero objective\n",
            "\t Testing LpVariable (not LpAffineExpression) objective\n",
            "\t Testing LpAffineExpression divide\n",
            "\t Testing MIP solution\n"
          ],
          "name": "stdout"
        },
        {
          "output_type": "stream",
          "text": [
            "..................."
          ],
          "name": "stderr"
        },
        {
          "output_type": "stream",
          "text": [
            "\t Testing MIP solution with floats in objective\n",
            "\t Testing MIP solution\n",
            "\t Testing MIP solution\n",
            "\t Testing MIP relaxation\n",
            "\t Testing feasibility problem (no objective)\n",
            "\t Testing an infeasible problem\n",
            "\t Testing an integer infeasible problem\n",
            "\t Testing another integer infeasible problem\n",
            "\t Testing column based modelling\n",
            "\t Testing fractional constraints\n",
            "\t Testing elastic constraints (no change)\n",
            "\t Testing elastic constraints (freebound)\n",
            "\t Testing elastic constraints (penalty unchanged)\n",
            "\t Testing elastic constraints (penalty unbounded)\n"
          ],
          "name": "stdout"
        },
        {
          "output_type": "stream",
          "text": [
            ".."
          ],
          "name": "stderr"
        },
        {
          "output_type": "stream",
          "text": [
            "\t Testing invalid status\n",
            "\t Testing continuous LP solution - export dict\n"
          ],
          "name": "stdout"
        },
        {
          "output_type": "stream",
          "text": [
            "."
          ],
          "name": "stderr"
        },
        {
          "output_type": "stream",
          "text": [
            "\t Testing MIP solution\n"
          ],
          "name": "stdout"
        },
        {
          "output_type": "stream",
          "text": [
            "."
          ],
          "name": "stderr"
        },
        {
          "output_type": "stream",
          "text": [
            "\t Testing maximize continuous LP solution\n"
          ],
          "name": "stdout"
        },
        {
          "output_type": "stream",
          "text": [
            "."
          ],
          "name": "stderr"
        },
        {
          "output_type": "stream",
          "text": [
            "\t Testing continuous LP solution - export JSON\n"
          ],
          "name": "stdout"
        },
        {
          "output_type": "stream",
          "text": [
            "."
          ],
          "name": "stderr"
        },
        {
          "output_type": "stream",
          "text": [
            "\t Testing continuous LP solution - export solver dict\n"
          ],
          "name": "stdout"
        },
        {
          "output_type": "stream",
          "text": [
            "."
          ],
          "name": "stderr"
        },
        {
          "output_type": "stream",
          "text": [
            "\t Testing continuous LP solution - export solver JSON\n"
          ],
          "name": "stdout"
        },
        {
          "output_type": "stream",
          "text": [
            "......."
          ],
          "name": "stderr"
        },
        {
          "output_type": "stream",
          "text": [
            "\t Testing makeDict general behavior\n",
            "\t Testing makeDict default value behavior\n",
            "\t Testing the availability of the function pulpTestAll\n",
            "\t Testing zero subtraction\n",
            "\t Testing inconsistent lp solution\n",
            "\t Testing continuous LP solution\n"
          ],
          "name": "stdout"
        },
        {
          "output_type": "stream",
          "text": [
            "."
          ],
          "name": "stderr"
        },
        {
          "output_type": "stream",
          "text": [
            "\t Testing maximize continuous LP solution\n"
          ],
          "name": "stdout"
        },
        {
          "output_type": "stream",
          "text": [
            ".."
          ],
          "name": "stderr"
        },
        {
          "output_type": "stream",
          "text": [
            "\t Testing unbounded continuous LP solution\n",
            "\t Testing Long Names\n"
          ],
          "name": "stdout"
        },
        {
          "output_type": "stream",
          "text": [
            ".."
          ],
          "name": "stderr"
        },
        {
          "output_type": "stream",
          "text": [
            "\t Testing repeated Names\n",
            "\t Testing zero constraint\n"
          ],
          "name": "stdout"
        },
        {
          "output_type": "stream",
          "text": [
            "."
          ],
          "name": "stderr"
        },
        {
          "output_type": "stream",
          "text": [
            "\t Testing zero objective\n"
          ],
          "name": "stdout"
        },
        {
          "output_type": "stream",
          "text": [
            "."
          ],
          "name": "stderr"
        },
        {
          "output_type": "stream",
          "text": [
            "\t Testing LpVariable (not LpAffineExpression) objective\n"
          ],
          "name": "stdout"
        },
        {
          "output_type": "stream",
          "text": [
            ".."
          ],
          "name": "stderr"
        },
        {
          "output_type": "stream",
          "text": [
            "\t Testing LpAffineExpression divide\n"
          ],
          "name": "stdout"
        },
        {
          "output_type": "stream",
          "text": [
            "."
          ],
          "name": "stderr"
        },
        {
          "output_type": "stream",
          "text": [
            "\t Testing MIP solution\n"
          ],
          "name": "stdout"
        },
        {
          "output_type": "stream",
          "text": [
            "."
          ],
          "name": "stderr"
        },
        {
          "output_type": "stream",
          "text": [
            "\t Testing MIP solution with floats in objective\n"
          ],
          "name": "stdout"
        },
        {
          "output_type": "stream",
          "text": [
            "."
          ],
          "name": "stderr"
        },
        {
          "output_type": "stream",
          "text": [
            "\t Testing MIP solution\n"
          ],
          "name": "stdout"
        },
        {
          "output_type": "stream",
          "text": [
            "."
          ],
          "name": "stderr"
        },
        {
          "output_type": "stream",
          "text": [
            "\t Testing MIP solution\n"
          ],
          "name": "stdout"
        },
        {
          "output_type": "stream",
          "text": [
            "./usr/local/lib/python3.6/dist-packages/pulp/apis/choco_api.py:83: UserWarning: CHOCO_CMD cannot solve the relaxation of a problem\n",
            "  warnings.warn(\"CHOCO_CMD cannot solve the relaxation of a problem\")\n"
          ],
          "name": "stderr"
        },
        {
          "output_type": "stream",
          "text": [
            "\t Testing MIP relaxation\n"
          ],
          "name": "stdout"
        },
        {
          "output_type": "stream",
          "text": [
            "."
          ],
          "name": "stderr"
        },
        {
          "output_type": "stream",
          "text": [
            "\t Testing feasibility problem (no objective)\n"
          ],
          "name": "stdout"
        },
        {
          "output_type": "stream",
          "text": [
            "."
          ],
          "name": "stderr"
        },
        {
          "output_type": "stream",
          "text": [
            "\t Testing an infeasible problem\n"
          ],
          "name": "stdout"
        },
        {
          "output_type": "stream",
          "text": [
            "."
          ],
          "name": "stderr"
        },
        {
          "output_type": "stream",
          "text": [
            "\t Testing an integer infeasible problem\n"
          ],
          "name": "stdout"
        },
        {
          "output_type": "stream",
          "text": [
            "."
          ],
          "name": "stderr"
        },
        {
          "output_type": "stream",
          "text": [
            "\t Testing another integer infeasible problem\n"
          ],
          "name": "stdout"
        },
        {
          "output_type": "stream",
          "text": [
            "."
          ],
          "name": "stderr"
        },
        {
          "output_type": "stream",
          "text": [
            "\t Testing column based modelling\n"
          ],
          "name": "stdout"
        },
        {
          "output_type": "stream",
          "text": [
            "....."
          ],
          "name": "stderr"
        },
        {
          "output_type": "stream",
          "text": [
            "\t Testing fractional constraints\n"
          ],
          "name": "stdout"
        },
        {
          "output_type": "stream",
          "text": [
            "."
          ],
          "name": "stderr"
        },
        {
          "output_type": "stream",
          "text": [
            "\t Testing elastic constraints (no change)\n"
          ],
          "name": "stdout"
        },
        {
          "output_type": "stream",
          "text": [
            "."
          ],
          "name": "stderr"
        },
        {
          "output_type": "stream",
          "text": [
            "\t Testing elastic constraints (freebound)\n"
          ],
          "name": "stdout"
        },
        {
          "output_type": "stream",
          "text": [
            "."
          ],
          "name": "stderr"
        },
        {
          "output_type": "stream",
          "text": [
            "\t Testing elastic constraints (penalty unchanged)\n"
          ],
          "name": "stdout"
        },
        {
          "output_type": "stream",
          "text": [
            "................."
          ],
          "name": "stderr"
        },
        {
          "output_type": "stream",
          "text": [
            "\t Testing elastic constraints (penalty unbounded)\n"
          ],
          "name": "stdout"
        },
        {
          "output_type": "stream",
          "text": [
            "........................"
          ],
          "name": "stderr"
        },
        {
          "output_type": "stream",
          "text": [
            "{'a': 53.0, 'b': 45.3, 'c': 459.2}\n"
          ],
          "name": "stdout"
        },
        {
          "output_type": "stream",
          "text": [
            ".....\n",
            "----------------------------------------------------------------------\n",
            "Ran 215 tests in 38.419s\n",
            "\n",
            "OK\n"
          ],
          "name": "stderr"
        }
      ]
    },
    {
      "cell_type": "code",
      "metadata": {
        "id": "FeQLfKbBEa8C",
        "colab": {
          "base_uri": "https://localhost:8080/"
        },
        "outputId": "2907e5f9-29c2-4b11-9abc-0a8baf3a46b3"
      },
      "source": [
        "from pulp import *\n",
        "prob = LpProblem(\"Okna\",LpMaximize)\n",
        "x4=LpVariable(\"alu\",0,None,LpInteger)\n",
        "x5=LpVariable(\"drewno\",0,None,LpInteger)\n",
        "prob += 3000*x4 + 5000*x5, \"Total Cost\"\n",
        "prob += x4*1<= 4, \"czas fabryki F1\"\n",
        "prob += x5*2<= 12, \"czas fabryki F2\"\n",
        "prob += x4*3+x5*2<= 18, \"czas fabryki F3\"\n",
        "prob.writeLP(\"Okna.lp\")\n",
        "prob.solve()\n",
        "print(\"Status:\", LpStatus[prob.status])\n",
        "for v in prob.variables():\n",
        "    print(v.name, \"=\", v.varValue)\n",
        "print(\"Total Cost of Ingredients per can = \", value(prob.objective))\n"
      ],
      "execution_count": null,
      "outputs": [
        {
          "output_type": "stream",
          "text": [
            "Status: Optimal\n",
            "alu = 2.0\n",
            "drewno = 6.0\n",
            "Total Cost of Ingredients per can =  36000.0\n"
          ],
          "name": "stdout"
        }
      ]
    },
    {
      "cell_type": "code",
      "metadata": {
        "id": "u3LFVN14SR0u",
        "colab": {
          "base_uri": "https://localhost:8080/",
          "height": 283,
          "referenced_widgets": [
            "fdc13fd3e41e48d19b55b244af3d86cb",
            "02a2018c1c9a49ada258c2489775664b",
            "888232e687fa413593d908857e5faa14",
            "fe49500434174c2ea863517b9b5eb73f",
            "c992d9880e9843d0973e445e9d6d425e",
            "f9bce41e0c054a688038803928f32dbd",
            "14f217c4c26f4ec7a437902fc33f5bff",
            "e1b53b781f97433aa443bdd9b5b08527",
            "f1828c2a4432407cb0f4ccbb1100f1c3",
            "b4bceff2603e4dcfaba647a8f6625617",
            "c6c437e9bb9c4d82a87b59822bfd9eb6",
            "aa518234022644fd88c00a246f947f8b",
            "42ba88ddfa6b4d82865c29b9cd6d7df7"
          ]
        },
        "outputId": "9f818c98-8d40-4511-9164-a79783e15812"
      },
      "source": [
        "from __future__ import print_function\n",
        "from ipywidgets import interact, interactive, fixed, interact_manual, Layout, FloatSlider, IntSlider\n",
        "import ipywidgets as widgets\n",
        "import pandas as pd\n",
        "\n",
        "style = {'description_width': 'initial'}\n",
        "\n",
        "czas_F1_slider = IntSlider(min=0,max = 100, value= 4, description=\"czas_F1_slider\", style= style )\n",
        "czas_F2_slider = IntSlider(min=0,max = 100,value= 12, description=\"czas_F2_slider\", style= style )\n",
        "czas_F3_slider = IntSlider(min=0,max = 100, value= 18, description=\"czas_F3_slider\", style= style )\n",
        "\n",
        "\n",
        "\n",
        "def produkcja(czas_F1 =4,\n",
        "    czas_F2 =12,\n",
        "    czas_F3 =18):\n",
        "  \n",
        "  \n",
        "    prob = LpProblem(\"Okna\",LpMaximize)\n",
        "\n",
        "    maksimum_okien_alu=LpVariable(\"alu\",0)\n",
        "    maksimum_okien_drewno=LpVariable(\"drewno\",0)\n",
        "\n",
        "    prob += 3000*maksimum_okien_alu + 5000*maksimum_okien_drewno, \"Total Cost\"\n",
        "    prob += maksimum_okien_alu*1<= czas_F1, \"czas fabryki F1\"\n",
        "    prob += maksimum_okien_drewno*2<= czas_F2, \"czas fabryki F2\"\n",
        "    prob += maksimum_okien_alu*3+maksimum_okien_drewno*2<= czas_F3, \"czas fabryki F3\"\n",
        "    \n",
        "    prob.solve()\n",
        "    print(\"Status:\", LpStatus[prob.status])\n",
        "\n",
        "    for v in prob.variables():\n",
        "        print(v.name, \"=\", v.varValue)\n",
        "    print(\"Total Cost  = \", value(prob.objective))\n",
        "\n",
        "    shadows = [{'name':name,  \"slack\": c.slack} for name, c in prob.constraints.items()]\n",
        "    print(\"*\"*10+\"Shadow Prices\"+\"*\"*10)\n",
        "    print(pd.DataFrame(shadows))\n",
        "\n",
        "interact(produkcja,czas_F1 =czas_F1_slider,\n",
        "    czas_F2 =czas_F2_slider,\n",
        "    czas_F3 =czas_F3_slider)\n",
        "    \n",
        "    \n"
      ],
      "execution_count": null,
      "outputs": [
        {
          "output_type": "display_data",
          "data": {
            "application/vnd.jupyter.widget-view+json": {
              "model_id": "fdc13fd3e41e48d19b55b244af3d86cb",
              "version_minor": 0,
              "version_major": 2
            },
            "text/plain": [
              "interactive(children=(IntSlider(value=4, description='czas_F1_slider', style=SliderStyle(description_width='in…"
            ]
          },
          "metadata": {
            "tags": []
          }
        },
        {
          "output_type": "execute_result",
          "data": {
            "text/plain": [
              "<function __main__.produkcja>"
            ]
          },
          "metadata": {
            "tags": []
          },
          "execution_count": 71
        }
      ]
    },
    {
      "cell_type": "code",
      "metadata": {
        "id": "3l_u63ZBMjoY",
        "colab": {
          "base_uri": "https://localhost:8080/"
        },
        "outputId": "c1cbc961-d2e3-4d34-c8d2-675c7d1e4f00"
      },
      "source": [
        "#zadanie prąd\n",
        "from pulp import *\n",
        "prob = LpProblem(\"Prad\",LpMaximize)\n",
        "I1=LpVariable(\"I1\",0,2)\n",
        "I2=LpVariable(\"I2\",0,3)\n",
        "I3=LpVariable(\"I3\",0,4)\n",
        "I4=LpVariable(\"I4\",0,2)\n",
        "I5=LpVariable(\"I5\",0,2)\n",
        "\n",
        "prob += I1 + I2, \"I wyj\"\n",
        "\n",
        "prob += I4 + I5 == I3, \"węzeł 1\"\n",
        "prob += I1 + I2 == I3, \"węzeł 2\"\n",
        "prob += I1 * 8 - I2 * 6 == 0, \"oczko1\"\n",
        "prob += I4 * 10 - I5 * 8 == 0, \"oczko2\"\n",
        "prob.writeLP(\"Prad.lp\")\n",
        "prob.solve()\n",
        "print(\"Status:\", LpStatus[prob.status])\n",
        "for v in prob.variables():\n",
        "    print(v.name, \"=\", v.varValue)\n",
        "print(\"Imax = \", value(prob.objective))\n"
      ],
      "execution_count": null,
      "outputs": [
        {
          "output_type": "stream",
          "text": [
            "Status: Optimal\n",
            "I1 = 1.5428571\n",
            "I2 = 2.0571429\n",
            "I3 = 3.6\n",
            "I4 = 1.6\n",
            "I5 = 2.0\n",
            "Imax =  3.6\n"
          ],
          "name": "stdout"
        }
      ]
    },
    {
      "cell_type": "code",
      "metadata": {
        "id": "Vyt_qE98cjYe",
        "colab": {
          "base_uri": "https://localhost:8080/"
        },
        "outputId": "47b7eecc-a437-4af8-c605-3aef8691c073"
      },
      "source": [
        "#zadanie spadek mocy\n",
        "from pulp import *\n",
        "prob = LpProblem(\"Moc r\",LpMinimize)\n",
        "I1=LpVariable(\"I1\",3,5)\n",
        "I2=LpVariable(\"I2\",1,3)\n",
        "I3=LpVariable(\"I3\",1,3)\n",
        "I4=LpVariable(\"I4\",1,3)\n",
        "I5=LpVariable(\"I5\",3,5)\n",
        "U=[6, 10, 4, 7, 3]\n",
        "\n",
        "prob += U[0] * I1 + U[1] * I2 + U[2] * I3 + U[3] * I4 + U[4] * I5, \"moc rozproszona całkowita wyj\"\n",
        "\n",
        "prob += I1 - I4 - I3 == 0, \"węzeł 1\"\n",
        "prob += I2 + I3 - I5 == 0, \"węzeł 2\"\n",
        "\n",
        "prob.writeLP(\"Moc r.lp\")\n",
        "prob.solve()\n",
        "print(\"Status:\", LpStatus[prob.status])\n",
        "for v in prob.variables():\n",
        "    print(v.name, \"=\", v.varValue)\n",
        "\n",
        "\n"
      ],
      "execution_count": null,
      "outputs": [
        {
          "output_type": "stream",
          "text": [
            "Status: Optimal\n",
            "I1 = 3.0\n",
            "I2 = 1.0\n",
            "I3 = 2.0\n",
            "I4 = 1.0\n",
            "I5 = 3.0\n"
          ],
          "name": "stdout"
        },
        {
          "output_type": "stream",
          "text": [
            "/usr/local/lib/python3.6/dist-packages/pulp/pulp.py:1198: UserWarning: Spaces are not permitted in the name. Converted to '_'\n",
            "  warnings.warn(\"Spaces are not permitted in the name. Converted to '_'\")\n"
          ],
          "name": "stderr"
        }
      ]
    }
  ]
}
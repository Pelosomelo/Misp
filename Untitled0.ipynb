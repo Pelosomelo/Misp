{
  "nbformat": 4,
  "nbformat_minor": 0,
  "metadata": {
    "colab": {
      "name": "Untitled0.ipynb",
      "provenance": [],
      "collapsed_sections": [],
      "include_colab_link": true
    },
    "kernelspec": {
      "display_name": "Python 3",
      "name": "python3"
    }
  },
  "cells": [
    {
      "cell_type": "markdown",
      "metadata": {
        "id": "view-in-github",
        "colab_type": "text"
      },
      "source": [
        "<a href=\"https://colab.research.google.com/github/Pelosomelo/Misp/blob/main/Untitled0.ipynb\" target=\"_parent\"><img src=\"https://colab.research.google.com/assets/colab-badge.svg\" alt=\"Open In Colab\"/></a>"
      ]
    },
    {
      "cell_type": "code",
      "metadata": {
        "id": "u2vTm7ytNMmV"
      },
      "source": [
        "\n",
        "!pip install pulp\n",
        "\n",
        "!sudo apt-get install coinor-cbc glpk-utils coinor-clp"
      ],
      "execution_count": null,
      "outputs": []
    },
    {
      "cell_type": "code",
      "metadata": {
        "id": "w9vi4SkCNQBN"
      },
      "source": [
        "from pulp import *\n",
        "import math\n",
        "import pandas as pd"
      ],
      "execution_count": null,
      "outputs": []
    },
    {
      "cell_type": "code",
      "metadata": {
        "id": "vG8v-XQVN8NP",
        "colab": {
          "base_uri": "https://localhost:8080/",
          "height": 231
        },
        "outputId": "38f1ec30-72cf-43dc-da19-31db276cd55e"
      },
      "source": [
        "#dzien=[['Pracownicy','1_PN', '2_WT', '3_SR', '4_CW', '5_PT'],['Ania',1,1,1,1,1],['Stefan',1,0,0,0,0],['Hektor',1,1,1,0,0],['Olaf',1,1,1,1,1],['Lidia',0,0,0,1,1],['Piotr',1,1,1,0,0]]\n",
        "dzien={\" \":['1_PN', '2_WT', '3_SR', '4_CW', '5_PT'],\"Ania\":[1,1,1,1,1],\"Stefan\":[1,0,0,0,0],\"Hektor\":[1,1,1,0,0],\"Olaf\":[1,1,1,1,1],\"Lidia\":[0,0,0,1,1],\"Piotr\":[1,1,1,0,0]}\n",
        "\n",
        "pon = dzien['1_PN']\n",
        "Pracownicy=list(pon.keys())\n",
        "Pracownicy.sort()\n",
        "\n",
        "# Pracownicy = [\"Ania\", \"Stefan\", \"Hektor\", \"Olaf\", \"Lidia\", \"Piotr\"]\n",
        "Dni = [\"1_PN\", \"2_WT\", \"3_SR\", \"4_CW\", \"5_PT\"]\n",
        "\n",
        "\n",
        "wiersz=len(Pracownicy)\n",
        "kolumna=len(Dni)\n",
        "\n",
        "max=[2,1,1,1,3]\n",
        "place=[100,50,60,40,110,70]\n",
        "\n",
        "czas = [[0 for col in range(kolumna)] for row in range(wiersz)]\n",
        "wynik = [[0 for col in range(kolumna)] for row in range(wiersz)]\n",
        "for x in range(wiersz):\n",
        "    for y in range(kolumna):\n",
        "        czas[x][y]=dzien[Dni[y]][Pracownicy[x]]\n",
        "\n",
        "czas = makeDict([Pracownicy,Dni],czas,0)\n",
        "prob = LpProblem(\"Grafik\",LpMinimize)\n",
        "vars = LpVariable.dicts(\"Grafik\",(Pracownicy,Dni),0,None,lp)\n",
        "\n",
        "rozklad= [[0 for col in range(kolumna)] for row in range(wiersz)]\n",
        "\n",
        "\n",
        "\n",
        "for w in range(wiersz):\n",
        "    prob += [vars[w][k] for k in range(kolumna)]<=3, \"dni pracy\"\n",
        "\n",
        "for k in range(kolumna):\n",
        "    prob += [vars[w][k] for w in range(wiersz)]==max[k], \"max osob\"\n",
        "\n",
        "\n",
        "prob.writeLP(\"Grafik_Pracownikow.lp\")\n",
        "prob.solve()\n",
        "print(\"Status:\", LpStatus[prob.status])\n",
        "\n",
        "for v in range(wiersz*5):\n",
        "    rozklad[math.floor(v/5)][v%5] = prob.variables()[v].varValue\n",
        "\n",
        "print(Dni)\n",
        "for i in range(wiersz):\n",
        "    print(Pracownicy[i],rozklad[i])"
      ],
      "execution_count": null,
      "outputs": [
        {
          "output_type": "error",
          "ename": "KeyError",
          "evalue": "ignored",
          "traceback": [
            "\u001b[0;31m---------------------------------------------------------------------------\u001b[0m",
            "\u001b[0;31mKeyError\u001b[0m                                  Traceback (most recent call last)",
            "\u001b[0;32m<ipython-input-55-31c90d4fe59f>\u001b[0m in \u001b[0;36m<module>\u001b[0;34m()\u001b[0m\n\u001b[1;32m      2\u001b[0m \u001b[0mdzien\u001b[0m\u001b[0;34m=\u001b[0m\u001b[0;34m{\u001b[0m\u001b[0;34m\" \"\u001b[0m\u001b[0;34m:\u001b[0m\u001b[0;34m[\u001b[0m\u001b[0;34m'1_PN'\u001b[0m\u001b[0;34m,\u001b[0m \u001b[0;34m'2_WT'\u001b[0m\u001b[0;34m,\u001b[0m \u001b[0;34m'3_SR'\u001b[0m\u001b[0;34m,\u001b[0m \u001b[0;34m'4_CW'\u001b[0m\u001b[0;34m,\u001b[0m \u001b[0;34m'5_PT'\u001b[0m\u001b[0;34m]\u001b[0m\u001b[0;34m,\u001b[0m\u001b[0;34m\"Ania\"\u001b[0m\u001b[0;34m:\u001b[0m\u001b[0;34m[\u001b[0m\u001b[0;36m1\u001b[0m\u001b[0;34m,\u001b[0m\u001b[0;36m1\u001b[0m\u001b[0;34m,\u001b[0m\u001b[0;36m1\u001b[0m\u001b[0;34m,\u001b[0m\u001b[0;36m1\u001b[0m\u001b[0;34m,\u001b[0m\u001b[0;36m1\u001b[0m\u001b[0;34m]\u001b[0m\u001b[0;34m,\u001b[0m\u001b[0;34m\"Stefan\"\u001b[0m\u001b[0;34m:\u001b[0m\u001b[0;34m[\u001b[0m\u001b[0;36m1\u001b[0m\u001b[0;34m,\u001b[0m\u001b[0;36m0\u001b[0m\u001b[0;34m,\u001b[0m\u001b[0;36m0\u001b[0m\u001b[0;34m,\u001b[0m\u001b[0;36m0\u001b[0m\u001b[0;34m,\u001b[0m\u001b[0;36m0\u001b[0m\u001b[0;34m]\u001b[0m\u001b[0;34m,\u001b[0m\u001b[0;34m\"Hektor\"\u001b[0m\u001b[0;34m:\u001b[0m\u001b[0;34m[\u001b[0m\u001b[0;36m1\u001b[0m\u001b[0;34m,\u001b[0m\u001b[0;36m1\u001b[0m\u001b[0;34m,\u001b[0m\u001b[0;36m1\u001b[0m\u001b[0;34m,\u001b[0m\u001b[0;36m0\u001b[0m\u001b[0;34m,\u001b[0m\u001b[0;36m0\u001b[0m\u001b[0;34m]\u001b[0m\u001b[0;34m,\u001b[0m\u001b[0;34m\"Olaf\"\u001b[0m\u001b[0;34m:\u001b[0m\u001b[0;34m[\u001b[0m\u001b[0;36m1\u001b[0m\u001b[0;34m,\u001b[0m\u001b[0;36m1\u001b[0m\u001b[0;34m,\u001b[0m\u001b[0;36m1\u001b[0m\u001b[0;34m,\u001b[0m\u001b[0;36m1\u001b[0m\u001b[0;34m,\u001b[0m\u001b[0;36m1\u001b[0m\u001b[0;34m]\u001b[0m\u001b[0;34m,\u001b[0m\u001b[0;34m\"Lidia\"\u001b[0m\u001b[0;34m:\u001b[0m\u001b[0;34m[\u001b[0m\u001b[0;36m0\u001b[0m\u001b[0;34m,\u001b[0m\u001b[0;36m0\u001b[0m\u001b[0;34m,\u001b[0m\u001b[0;36m0\u001b[0m\u001b[0;34m,\u001b[0m\u001b[0;36m1\u001b[0m\u001b[0;34m,\u001b[0m\u001b[0;36m1\u001b[0m\u001b[0;34m]\u001b[0m\u001b[0;34m,\u001b[0m\u001b[0;34m\"Piotr\"\u001b[0m\u001b[0;34m:\u001b[0m\u001b[0;34m[\u001b[0m\u001b[0;36m1\u001b[0m\u001b[0;34m,\u001b[0m\u001b[0;36m1\u001b[0m\u001b[0;34m,\u001b[0m\u001b[0;36m1\u001b[0m\u001b[0;34m,\u001b[0m\u001b[0;36m0\u001b[0m\u001b[0;34m,\u001b[0m\u001b[0;36m0\u001b[0m\u001b[0;34m]\u001b[0m\u001b[0;34m}\u001b[0m\u001b[0;34m\u001b[0m\u001b[0;34m\u001b[0m\u001b[0m\n\u001b[1;32m      3\u001b[0m \u001b[0;34m\u001b[0m\u001b[0m\n\u001b[0;32m----> 4\u001b[0;31m \u001b[0mpon\u001b[0m \u001b[0;34m=\u001b[0m \u001b[0mdzien\u001b[0m\u001b[0;34m[\u001b[0m\u001b[0;34m'1_PN'\u001b[0m\u001b[0;34m]\u001b[0m\u001b[0;34m\u001b[0m\u001b[0;34m\u001b[0m\u001b[0m\n\u001b[0m\u001b[1;32m      5\u001b[0m \u001b[0mPracownicy\u001b[0m\u001b[0;34m=\u001b[0m\u001b[0mlist\u001b[0m\u001b[0;34m(\u001b[0m\u001b[0mpon\u001b[0m\u001b[0;34m.\u001b[0m\u001b[0mkeys\u001b[0m\u001b[0;34m(\u001b[0m\u001b[0;34m)\u001b[0m\u001b[0;34m)\u001b[0m\u001b[0;34m\u001b[0m\u001b[0;34m\u001b[0m\u001b[0m\n\u001b[1;32m      6\u001b[0m \u001b[0mPracownicy\u001b[0m\u001b[0;34m.\u001b[0m\u001b[0msort\u001b[0m\u001b[0;34m(\u001b[0m\u001b[0;34m)\u001b[0m\u001b[0;34m\u001b[0m\u001b[0;34m\u001b[0m\u001b[0m\n",
            "\u001b[0;31mKeyError\u001b[0m: '1_PN'"
          ]
        }
      ]
    },
    {
      "cell_type": "code",
      "metadata": {
        "id": "CtNSNxHHfb-A"
      },
      "source": [
        ""
      ],
      "execution_count": null,
      "outputs": []
    }
  ]
}
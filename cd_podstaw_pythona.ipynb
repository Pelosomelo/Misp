{
  "nbformat": 4,
  "nbformat_minor": 0,
  "metadata": {
    "kernelspec": {
      "display_name": "Python 3",
      "language": "python",
      "name": "python3"
    },
    "language_info": {
      "codemirror_mode": {
        "name": "ipython",
        "version": 3
      },
      "file_extension": ".py",
      "mimetype": "text/x-python",
      "name": "python",
      "nbconvert_exporter": "python",
      "pygments_lexer": "ipython3",
      "version": "3.7.3"
    },
    "colab": {
      "name": "cd_podstaw_pythona.ipynb",
      "provenance": [],
      "collapsed_sections": [],
      "include_colab_link": true
    }
  },
  "cells": [
    {
      "cell_type": "markdown",
      "metadata": {
        "id": "view-in-github",
        "colab_type": "text"
      },
      "source": [
        "<a href=\"https://colab.research.google.com/github/Pelosomelo/Misp/blob/main/cd_podstaw_pythona.ipynb\" target=\"_parent\"><img src=\"https://colab.research.google.com/assets/colab-badge.svg\" alt=\"Open In Colab\"/></a>"
      ]
    },
    {
      "cell_type": "code",
      "metadata": {
        "id": "dIH4HkVbzSQK"
      },
      "source": [
        "#importowanie, numpy daje funkcje matlaba\n",
        "import numpy as np"
      ],
      "execution_count": null,
      "outputs": []
    },
    {
      "cell_type": "code",
      "metadata": {
        "id": "CioZ1RLKzSQN"
      },
      "source": [
        "a_list= [1,2,3,4,5, [1,2,3], \"temat\"] # nie idealna lista\n",
        "k_krotka = (1,2,3,4,5, [1,2,3], \"temat\") #krotka nie można dorzucać więcej elementów \n",
        "b_list = [1,2,3,4,5]\n",
        "n_array = np.array(b_list) # wektor numpy\n"
      ],
      "execution_count": null,
      "outputs": []
    },
    {
      "cell_type": "code",
      "metadata": {
        "id": "xvZr6gaHzSQQ",
        "colab": {
          "base_uri": "https://localhost:8080/",
          "height": 51
        },
        "outputId": "3295dc86-58d1-4ae9-9767-c908419f3653"
      },
      "source": [
        "print(a_list+b_list)#połączenie list\n",
        "print(n_array+n_array)# sómójemy wektory więc się dodadzą"
      ],
      "execution_count": null,
      "outputs": [
        {
          "output_type": "stream",
          "text": [
            "[1, 2, 3, 4, 5, [1, 2, 3], 'temat', 1, 2, 3, 4, 5]\n",
            "[ 2  4  6  8 10]\n"
          ],
          "name": "stdout"
        }
      ]
    },
    {
      "cell_type": "code",
      "metadata": {
        "id": "vGD2NWWdzSQU",
        "colab": {
          "base_uri": "https://localhost:8080/",
          "height": 34
        },
        "outputId": "87ba7855-9933-498f-88ae-57364505c77f"
      },
      "source": [
        "a_list[3]"
      ],
      "execution_count": null,
      "outputs": [
        {
          "output_type": "execute_result",
          "data": {
            "text/plain": [
              "4"
            ]
          },
          "metadata": {
            "tags": []
          },
          "execution_count": 23
        }
      ]
    },
    {
      "cell_type": "code",
      "metadata": {
        "id": "kbfb1LTszSQX",
        "colab": {
          "base_uri": "https://localhost:8080/",
          "height": 34
        },
        "outputId": "d51e096f-d045-4abd-b7a5-caaa26af9d23"
      },
      "source": [
        "a_list.append(100)\n",
        "print(a_list)"
      ],
      "execution_count": null,
      "outputs": [
        {
          "output_type": "stream",
          "text": [
            "[1, 2, 3, 4, 5, [1, 2, 3], 'temat', 100]\n"
          ],
          "name": "stdout"
        }
      ]
    },
    {
      "cell_type": "code",
      "metadata": {
        "id": "TgVUEARWzSQa",
        "colab": {
          "base_uri": "https://localhost:8080/",
          "height": 34
        },
        "outputId": "49b1753f-f50a-47eb-c2f5-205e89f622d1"
      },
      "source": [
        "k_krotka[4]"
      ],
      "execution_count": null,
      "outputs": [
        {
          "output_type": "execute_result",
          "data": {
            "text/plain": [
              "5"
            ]
          },
          "metadata": {
            "tags": []
          },
          "execution_count": 25
        }
      ]
    },
    {
      "cell_type": "code",
      "metadata": {
        "id": "eWvs5yH3zSQd",
        "colab": {
          "base_uri": "https://localhost:8080/",
          "height": 163
        },
        "outputId": "1c42d816-383e-42e3-b9bc-d1030aa6771b"
      },
      "source": [
        "k_krotka.append(100)"
      ],
      "execution_count": null,
      "outputs": [
        {
          "output_type": "error",
          "ename": "AttributeError",
          "evalue": "ignored",
          "traceback": [
            "\u001b[0;31m---------------------------------------------------------------------------\u001b[0m",
            "\u001b[0;31mAttributeError\u001b[0m                            Traceback (most recent call last)",
            "\u001b[0;32m<ipython-input-26-4da2f0146474>\u001b[0m in \u001b[0;36m<module>\u001b[0;34m()\u001b[0m\n\u001b[0;32m----> 1\u001b[0;31m \u001b[0mk_krotka\u001b[0m\u001b[0;34m.\u001b[0m\u001b[0mappend\u001b[0m\u001b[0;34m(\u001b[0m\u001b[0;36m100\u001b[0m\u001b[0;34m)\u001b[0m\u001b[0;34m\u001b[0m\u001b[0;34m\u001b[0m\u001b[0m\n\u001b[0m",
            "\u001b[0;31mAttributeError\u001b[0m: 'tuple' object has no attribute 'append'"
          ]
        }
      ]
    },
    {
      "cell_type": "code",
      "metadata": {
        "id": "rjsYL8z3zSQg",
        "outputId": "445fdd99-d5bc-474f-9b18-4e7341352b7c"
      },
      "source": [
        "np.array(b_list)+np.array(b_list)"
      ],
      "execution_count": null,
      "outputs": [
        {
          "output_type": "execute_result",
          "data": {
            "text/plain": [
              "array([ 2,  4,  6,  8, 10])"
            ]
          },
          "metadata": {
            "tags": []
          },
          "execution_count": 8
        }
      ]
    },
    {
      "cell_type": "code",
      "metadata": {
        "id": "To_NNDL8zSQm"
      },
      "source": [
        "n_array = np.array(a_list) # wektor numpy"
      ],
      "execution_count": null,
      "outputs": []
    },
    {
      "cell_type": "code",
      "metadata": {
        "id": "0f6Vv0hQzSQo",
        "outputId": "4ba7de98-f45f-4fd1-a2f2-1a29832a60e6"
      },
      "source": [
        "n_array"
      ],
      "execution_count": null,
      "outputs": [
        {
          "output_type": "execute_result",
          "data": {
            "text/plain": [
              "array([1, 2, 3, 4, 5, list([1, 2, 3]), 'temat'], dtype=object)"
            ]
          },
          "metadata": {
            "tags": []
          },
          "execution_count": 10
        }
      ]
    },
    {
      "cell_type": "code",
      "metadata": {
        "id": "U2iYr4FfzSQr"
      },
      "source": [
        "#### Nowosci\n",
        "\n",
        "studenci_slownik = {123: 123,\"Igor\":3, \"Frankek\":5, \"Zosia\":22,\"Julia\":[2,21], (1,2):\"Krotka\"}#nie wolno wstawić listy tu"
      ],
      "execution_count": null,
      "outputs": []
    },
    {
      "cell_type": "code",
      "metadata": {
        "id": "iM903drmzSQt",
        "outputId": "edcc6af0-5172-4b6b-b8f3-ed2a1902d652"
      },
      "source": [
        "print(studenci_slownik)"
      ],
      "execution_count": null,
      "outputs": [
        {
          "output_type": "stream",
          "text": [
            "{123: 123, 'Igor': 3, 'Frankek': 5, 'Zosia': 22, 'Julia': [2, 21], (1, 2): 'Krotka'}\n"
          ],
          "name": "stdout"
        }
      ]
    },
    {
      "cell_type": "code",
      "metadata": {
        "id": "H2bYWAn8zSQw",
        "colab": {
          "base_uri": "https://localhost:8080/",
          "height": 34
        },
        "outputId": "afd0436d-7c49-42ea-f182-f6ecb6972edb"
      },
      "source": [
        "studenci_slownik[\"Zosia\"]# pobieranie z slownika"
      ],
      "execution_count": null,
      "outputs": [
        {
          "output_type": "execute_result",
          "data": {
            "text/plain": [
              "22"
            ]
          },
          "metadata": {
            "tags": []
          },
          "execution_count": 28
        }
      ]
    },
    {
      "cell_type": "code",
      "metadata": {
        "id": "3XQ3befL4iuC",
        "colab": {
          "base_uri": "https://localhost:8080/",
          "height": 34
        },
        "outputId": "39ccc70c-1acd-48a8-876c-c4140a7c630a"
      },
      "source": [
        "studenci_slownik[\"Drugi Franek\"]= 3 #dopisywanie do slownika\n",
        "print(studenci_slownik)"
      ],
      "execution_count": null,
      "outputs": [
        {
          "output_type": "stream",
          "text": [
            "{123: 123, 'Igor': 3, 'Frankek': 5, 'Zosia': 22, 'Julia': [2, 21], (1, 2): 'Krotka', 'Drugi Franek': 3}\n"
          ],
          "name": "stdout"
        }
      ]
    },
    {
      "cell_type": "code",
      "metadata": {
        "id": "aTd6psoizSQz",
        "colab": {
          "base_uri": "https://localhost:8080/",
          "height": 272
        },
        "outputId": "6ba13b28-d18d-44b0-ea7b-628b4960c4d5"
      },
      "source": [
        "# wyciąganie danych hurtem z slownika klucze\n",
        "for elementy in studenci_slownik: \n",
        "    print(elementy)\n",
        "\n",
        "# wyciąganie danych hurtem z slownika klucze\n",
        "print(\"*\"*20)\n",
        "for elementy in studenci_slownik.keys():\n",
        "    print(elementy)"
      ],
      "execution_count": null,
      "outputs": [
        {
          "output_type": "stream",
          "text": [
            "123\n",
            "Igor\n",
            "Frankek\n",
            "Zosia\n",
            "Julia\n",
            "(1, 2)\n",
            "Drugi Franek\n",
            "********************\n",
            "123\n",
            "Igor\n",
            "Frankek\n",
            "Zosia\n",
            "Julia\n",
            "(1, 2)\n",
            "Drugi Franek\n"
          ],
          "name": "stdout"
        }
      ]
    },
    {
      "cell_type": "code",
      "metadata": {
        "id": "wak1kokHzSQ2",
        "colab": {
          "base_uri": "https://localhost:8080/",
          "height": 272
        },
        "outputId": "269db0a1-4c76-494b-c9d3-be0b0ed674b4"
      },
      "source": [
        "# wyciąganie danych hurtem z slownika i klucze i wartości\n",
        "for elementy in studenci_slownik.items():\n",
        "    print(elementy)\n",
        "\n",
        "# wyciąganie danych hurtem z slownika i klucze i wartości ale oddzielnie\n",
        "print(\"*\"*20)\n",
        "for imie, ocena in studenci_slownik.items():\n",
        "    print(\"{}ma ocene{}\".format(imie,ocena))"
      ],
      "execution_count": null,
      "outputs": [
        {
          "output_type": "stream",
          "text": [
            "(123, 123)\n",
            "('Igor', 3)\n",
            "('Frankek', 5)\n",
            "('Zosia', 22)\n",
            "('Julia', [2, 21])\n",
            "((1, 2), 'Krotka')\n",
            "('Drugi Franek', 3)\n",
            "********************\n",
            "123ma ocene123\n",
            "Igorma ocene3\n",
            "Frankekma ocene5\n",
            "Zosiama ocene22\n",
            "Juliama ocene[2, 21]\n",
            "(1, 2)ma oceneKrotka\n",
            "Drugi Franekma ocene3\n"
          ],
          "name": "stdout"
        }
      ]
    },
    {
      "cell_type": "code",
      "metadata": {
        "id": "x05hg7fYzSQ5",
        "colab": {
          "base_uri": "https://localhost:8080/",
          "height": 136
        },
        "outputId": "ef116ced-983d-4909-e3e7-bebaa72e49bf"
      },
      "source": [
        "# wyciąganie danych hurtem z slownika wartości\n",
        "for elementy in studenci_slownik.values():\n",
        "    print(elementy)"
      ],
      "execution_count": null,
      "outputs": [
        {
          "output_type": "stream",
          "text": [
            "123\n",
            "3\n",
            "5\n",
            "22\n",
            "[2, 21]\n",
            "Krotka\n",
            "3\n"
          ],
          "name": "stdout"
        }
      ]
    },
    {
      "cell_type": "code",
      "metadata": {
        "id": "OFEG2wLJzSQ7",
        "colab": {
          "base_uri": "https://localhost:8080/",
          "height": 163
        },
        "outputId": "3b98bedc-aeef-41c3-b70c-2204ab0afa2f"
      },
      "source": [
        "studenci_slownik[\"Cuthulu\"]= -1000000"
      ],
      "execution_count": null,
      "outputs": [
        {
          "output_type": "error",
          "ename": "NameError",
          "evalue": "ignored",
          "traceback": [
            "\u001b[0;31m---------------------------------------------------------------------------\u001b[0m",
            "\u001b[0;31mNameError\u001b[0m                                 Traceback (most recent call last)",
            "\u001b[0;32m<ipython-input-1-793bc4d4c1ef>\u001b[0m in \u001b[0;36m<module>\u001b[0;34m()\u001b[0m\n\u001b[0;32m----> 1\u001b[0;31m \u001b[0mstudenci_slownik\u001b[0m\u001b[0;34m[\u001b[0m\u001b[0;34m\"Cuthulu\"\u001b[0m\u001b[0;34m]\u001b[0m\u001b[0;34m=\u001b[0m \u001b[0;34m-\u001b[0m\u001b[0;36m1000000\u001b[0m\u001b[0;34m\u001b[0m\u001b[0;34m\u001b[0m\u001b[0m\n\u001b[0m",
            "\u001b[0;31mNameError\u001b[0m: name 'studenci_slownik' is not defined"
          ]
        }
      ]
    },
    {
      "cell_type": "code",
      "metadata": {
        "id": "PKHq_2uZzSQ-",
        "colab": {
          "base_uri": "https://localhost:8080/",
          "height": 153
        },
        "outputId": "24f03796-bd1d-4a2d-ec62-66a4a77ae23f"
      },
      "source": [
        "studenci_slownik"
      ],
      "execution_count": null,
      "outputs": [
        {
          "output_type": "execute_result",
          "data": {
            "text/plain": [
              "{(1, 2): 'Krotka',\n",
              " 123: 123,\n",
              " 'Cuthulu': -1000000,\n",
              " 'Drugi Franek': 3,\n",
              " 'Frankek': 5,\n",
              " 'Igor': 3,\n",
              " 'Julia': [2, 21],\n",
              " 'Zosia': 22}"
            ]
          },
          "metadata": {
            "tags": []
          },
          "execution_count": 35
        }
      ]
    },
    {
      "cell_type": "code",
      "metadata": {
        "id": "aNcxSQvLzSRB",
        "colab": {
          "base_uri": "https://localhost:8080/",
          "height": 71
        },
        "outputId": "4ba881dd-83a0-4c89-e017-48dbd62eb385"
      },
      "source": [
        "automatyczna_lista=[liczba**2 for liczba in range(100) if liczba%4==0]\n",
        "print(automatyczna_lista)\n",
        "\n",
        "automatyczna_lista_pary=[(liczba,liczba**2) for liczba in range(100) if liczba%4==0]\n",
        "print(automatyczna_lista_pary)"
      ],
      "execution_count": null,
      "outputs": [
        {
          "output_type": "stream",
          "text": [
            "[0, 16, 64, 144, 256, 400, 576, 784, 1024, 1296, 1600, 1936, 2304, 2704, 3136, 3600, 4096, 4624, 5184, 5776, 6400, 7056, 7744, 8464, 9216]\n",
            "[(0, 0), (4, 16), (8, 64), (12, 144), (16, 256), (20, 400), (24, 576), (28, 784), (32, 1024), (36, 1296), (40, 1600), (44, 1936), (48, 2304), (52, 2704), (56, 3136), (60, 3600), (64, 4096), (68, 4624), (72, 5184), (76, 5776), (80, 6400), (84, 7056), (88, 7744), (92, 8464), (96, 9216)]\n"
          ],
          "name": "stdout"
        }
      ]
    },
    {
      "cell_type": "code",
      "metadata": {
        "id": "98vM8L8aAZht",
        "colab": {
          "base_uri": "https://localhost:8080/",
          "height": 34
        },
        "outputId": "b6f715a7-24d5-496b-a2a1-afc221b0b212"
      },
      "source": [
        "stara_lista=[\"Igor\",\"Pawel\",\"nie_imie\",\"Ania\"]\n",
        "#rospoznawanie imienia po durzych literach na początku \n",
        "nowa_lista=[imie for imie in stara_lista if imie[0].isupper()]\n",
        "# można and dać przed ostatnim nawiasem ] i kolejny warunek \n",
        "print(nowa_lista)"
      ],
      "execution_count": null,
      "outputs": [
        {
          "output_type": "stream",
          "text": [
            "['Igor', 'Pawel', 'Ania']\n"
          ],
          "name": "stdout"
        }
      ]
    },
    {
      "cell_type": "code",
      "metadata": {
        "id": "egafj1GnzSRF",
        "colab": {
          "base_uri": "https://localhost:8080/",
          "height": 34
        },
        "outputId": "65a922d2-74d2-4c85-daff-0213d209750f"
      },
      "source": [
        "#automattyczne tworzenie słownika z kluczy starego słownika\n",
        "studenci = studenci_slownik.keys()\n",
        "automatyczny_slownik=dict(para for para in enumerate(studenci))\n",
        "print(automatyczny_slownik)"
      ],
      "execution_count": null,
      "outputs": [
        {
          "output_type": "stream",
          "text": [
            "{0: 123, 1: 'Igor', 2: 'Frankek', 3: 'Zosia', 4: 'Julia', 5: (1, 2), 6: 'Drugi Franek', 7: 'Cuthulu'}\n"
          ],
          "name": "stdout"
        }
      ]
    },
    {
      "cell_type": "code",
      "metadata": {
        "id": "B2l13R1QGtGc",
        "colab": {
          "base_uri": "https://localhost:8080/",
          "height": 51
        },
        "outputId": "2775f449-b6de-43a4-eae5-2e549617dc2e"
      },
      "source": [
        "# słowniki i zbiory durzo szybciej wyszukują informację niż tablice\n",
        "print(studenci_slownik)\n",
        "\n",
        "print(\"Igor\" in studenci_slownik)"
      ],
      "execution_count": null,
      "outputs": [
        {
          "output_type": "stream",
          "text": [
            "{123: 123, 'Igor': 3, 'Frankek': 5, 'Zosia': 22, 'Julia': [2, 21], (1, 2): 'Krotka', 'Drugi Franek': 3, 'Cuthulu': -1000000}\n",
            "True\n"
          ],
          "name": "stdout"
        }
      ]
    },
    {
      "cell_type": "code",
      "metadata": {
        "id": "EoDCqWGszSRI"
      },
      "source": [
        "##### zbiory są w stanie bardzo szybko powiedzieć czy cos jest w czymś innym\n",
        "\n",
        "a={1,2,3,\"Franek\"}\n",
        "b={2,3,4,\"Franek\"}\n"
      ],
      "execution_count": null,
      "outputs": []
    },
    {
      "cell_type": "code",
      "metadata": {
        "id": "JSuu-pZVzSRL",
        "colab": {
          "base_uri": "https://localhost:8080/",
          "height": 34
        },
        "outputId": "f9ee09c6-f330-4e6b-a55d-cef9958baccb"
      },
      "source": [
        "a|b #suma zbiorów, sum of sets"
      ],
      "execution_count": null,
      "outputs": [
        {
          "output_type": "execute_result",
          "data": {
            "text/plain": [
              "{1, 2, 3, 4, 'Franek'}"
            ]
          },
          "metadata": {
            "tags": []
          },
          "execution_count": 54
        }
      ]
    },
    {
      "cell_type": "code",
      "metadata": {
        "id": "aLz8940pzSRP",
        "colab": {
          "base_uri": "https://localhost:8080/",
          "height": 34
        },
        "outputId": "a5bbf909-73ff-4a7c-867e-17675c640e1e"
      },
      "source": [
        "a.add(\"Franek\")# dodawanie do zbioru \n",
        "print(a)"
      ],
      "execution_count": null,
      "outputs": [
        {
          "output_type": "stream",
          "text": [
            "{1, 2, 3, 'Franek'}\n"
          ],
          "name": "stdout"
        }
      ]
    },
    {
      "cell_type": "code",
      "metadata": {
        "id": "XVnUi7EgzSRS",
        "colab": {
          "base_uri": "https://localhost:8080/",
          "height": 34
        },
        "outputId": "92e40613-ba51-439c-d4d1-8c1a4e23f689"
      },
      "source": [
        "1 in a\n",
        "\"Igor\" in studenci_slownik"
      ],
      "execution_count": null,
      "outputs": [
        {
          "output_type": "execute_result",
          "data": {
            "text/plain": [
              "True"
            ]
          },
          "metadata": {
            "tags": []
          },
          "execution_count": 58
        }
      ]
    },
    {
      "cell_type": "code",
      "metadata": {
        "id": "pRNNJnBCIge0",
        "colab": {
          "base_uri": "https://localhost:8080/",
          "height": 105
        },
        "outputId": "24e692b8-6ab6-463c-be07-3fa0d1c548e4"
      },
      "source": [
        "studenci_lista = [\"Igor_model\"+str(nr) for nr in range(1000)]\n",
        "print(studenci_lista)\n",
        "studenci_set= set(studenci_lista)\n",
        "print(studenci_set)\n",
        "\n",
        "#kasowanie powturzeń\n",
        "powtarzajaca_lista=[\"Igor\" for el in range(1000)]\n",
        "print(powtarzajaca_lista)\n",
        "print(set(powtarzajaca_lista))"
      ],
      "execution_count": null,
      "outputs": [
        {
          "output_type": "stream",
          "text": [
            "['Igor_model0', 'Igor_model1', 'Igor_model2', 'Igor_model3', 'Igor_model4', 'Igor_model5', 'Igor_model6', 'Igor_model7', 'Igor_model8', 'Igor_model9', 'Igor_model10', 'Igor_model11', 'Igor_model12', 'Igor_model13', 'Igor_model14', 'Igor_model15', 'Igor_model16', 'Igor_model17', 'Igor_model18', 'Igor_model19', 'Igor_model20', 'Igor_model21', 'Igor_model22', 'Igor_model23', 'Igor_model24', 'Igor_model25', 'Igor_model26', 'Igor_model27', 'Igor_model28', 'Igor_model29', 'Igor_model30', 'Igor_model31', 'Igor_model32', 'Igor_model33', 'Igor_model34', 'Igor_model35', 'Igor_model36', 'Igor_model37', 'Igor_model38', 'Igor_model39', 'Igor_model40', 'Igor_model41', 'Igor_model42', 'Igor_model43', 'Igor_model44', 'Igor_model45', 'Igor_model46', 'Igor_model47', 'Igor_model48', 'Igor_model49', 'Igor_model50', 'Igor_model51', 'Igor_model52', 'Igor_model53', 'Igor_model54', 'Igor_model55', 'Igor_model56', 'Igor_model57', 'Igor_model58', 'Igor_model59', 'Igor_model60', 'Igor_model61', 'Igor_model62', 'Igor_model63', 'Igor_model64', 'Igor_model65', 'Igor_model66', 'Igor_model67', 'Igor_model68', 'Igor_model69', 'Igor_model70', 'Igor_model71', 'Igor_model72', 'Igor_model73', 'Igor_model74', 'Igor_model75', 'Igor_model76', 'Igor_model77', 'Igor_model78', 'Igor_model79', 'Igor_model80', 'Igor_model81', 'Igor_model82', 'Igor_model83', 'Igor_model84', 'Igor_model85', 'Igor_model86', 'Igor_model87', 'Igor_model88', 'Igor_model89', 'Igor_model90', 'Igor_model91', 'Igor_model92', 'Igor_model93', 'Igor_model94', 'Igor_model95', 'Igor_model96', 'Igor_model97', 'Igor_model98', 'Igor_model99', 'Igor_model100', 'Igor_model101', 'Igor_model102', 'Igor_model103', 'Igor_model104', 'Igor_model105', 'Igor_model106', 'Igor_model107', 'Igor_model108', 'Igor_model109', 'Igor_model110', 'Igor_model111', 'Igor_model112', 'Igor_model113', 'Igor_model114', 'Igor_model115', 'Igor_model116', 'Igor_model117', 'Igor_model118', 'Igor_model119', 'Igor_model120', 'Igor_model121', 'Igor_model122', 'Igor_model123', 'Igor_model124', 'Igor_model125', 'Igor_model126', 'Igor_model127', 'Igor_model128', 'Igor_model129', 'Igor_model130', 'Igor_model131', 'Igor_model132', 'Igor_model133', 'Igor_model134', 'Igor_model135', 'Igor_model136', 'Igor_model137', 'Igor_model138', 'Igor_model139', 'Igor_model140', 'Igor_model141', 'Igor_model142', 'Igor_model143', 'Igor_model144', 'Igor_model145', 'Igor_model146', 'Igor_model147', 'Igor_model148', 'Igor_model149', 'Igor_model150', 'Igor_model151', 'Igor_model152', 'Igor_model153', 'Igor_model154', 'Igor_model155', 'Igor_model156', 'Igor_model157', 'Igor_model158', 'Igor_model159', 'Igor_model160', 'Igor_model161', 'Igor_model162', 'Igor_model163', 'Igor_model164', 'Igor_model165', 'Igor_model166', 'Igor_model167', 'Igor_model168', 'Igor_model169', 'Igor_model170', 'Igor_model171', 'Igor_model172', 'Igor_model173', 'Igor_model174', 'Igor_model175', 'Igor_model176', 'Igor_model177', 'Igor_model178', 'Igor_model179', 'Igor_model180', 'Igor_model181', 'Igor_model182', 'Igor_model183', 'Igor_model184', 'Igor_model185', 'Igor_model186', 'Igor_model187', 'Igor_model188', 'Igor_model189', 'Igor_model190', 'Igor_model191', 'Igor_model192', 'Igor_model193', 'Igor_model194', 'Igor_model195', 'Igor_model196', 'Igor_model197', 'Igor_model198', 'Igor_model199', 'Igor_model200', 'Igor_model201', 'Igor_model202', 'Igor_model203', 'Igor_model204', 'Igor_model205', 'Igor_model206', 'Igor_model207', 'Igor_model208', 'Igor_model209', 'Igor_model210', 'Igor_model211', 'Igor_model212', 'Igor_model213', 'Igor_model214', 'Igor_model215', 'Igor_model216', 'Igor_model217', 'Igor_model218', 'Igor_model219', 'Igor_model220', 'Igor_model221', 'Igor_model222', 'Igor_model223', 'Igor_model224', 'Igor_model225', 'Igor_model226', 'Igor_model227', 'Igor_model228', 'Igor_model229', 'Igor_model230', 'Igor_model231', 'Igor_model232', 'Igor_model233', 'Igor_model234', 'Igor_model235', 'Igor_model236', 'Igor_model237', 'Igor_model238', 'Igor_model239', 'Igor_model240', 'Igor_model241', 'Igor_model242', 'Igor_model243', 'Igor_model244', 'Igor_model245', 'Igor_model246', 'Igor_model247', 'Igor_model248', 'Igor_model249', 'Igor_model250', 'Igor_model251', 'Igor_model252', 'Igor_model253', 'Igor_model254', 'Igor_model255', 'Igor_model256', 'Igor_model257', 'Igor_model258', 'Igor_model259', 'Igor_model260', 'Igor_model261', 'Igor_model262', 'Igor_model263', 'Igor_model264', 'Igor_model265', 'Igor_model266', 'Igor_model267', 'Igor_model268', 'Igor_model269', 'Igor_model270', 'Igor_model271', 'Igor_model272', 'Igor_model273', 'Igor_model274', 'Igor_model275', 'Igor_model276', 'Igor_model277', 'Igor_model278', 'Igor_model279', 'Igor_model280', 'Igor_model281', 'Igor_model282', 'Igor_model283', 'Igor_model284', 'Igor_model285', 'Igor_model286', 'Igor_model287', 'Igor_model288', 'Igor_model289', 'Igor_model290', 'Igor_model291', 'Igor_model292', 'Igor_model293', 'Igor_model294', 'Igor_model295', 'Igor_model296', 'Igor_model297', 'Igor_model298', 'Igor_model299', 'Igor_model300', 'Igor_model301', 'Igor_model302', 'Igor_model303', 'Igor_model304', 'Igor_model305', 'Igor_model306', 'Igor_model307', 'Igor_model308', 'Igor_model309', 'Igor_model310', 'Igor_model311', 'Igor_model312', 'Igor_model313', 'Igor_model314', 'Igor_model315', 'Igor_model316', 'Igor_model317', 'Igor_model318', 'Igor_model319', 'Igor_model320', 'Igor_model321', 'Igor_model322', 'Igor_model323', 'Igor_model324', 'Igor_model325', 'Igor_model326', 'Igor_model327', 'Igor_model328', 'Igor_model329', 'Igor_model330', 'Igor_model331', 'Igor_model332', 'Igor_model333', 'Igor_model334', 'Igor_model335', 'Igor_model336', 'Igor_model337', 'Igor_model338', 'Igor_model339', 'Igor_model340', 'Igor_model341', 'Igor_model342', 'Igor_model343', 'Igor_model344', 'Igor_model345', 'Igor_model346', 'Igor_model347', 'Igor_model348', 'Igor_model349', 'Igor_model350', 'Igor_model351', 'Igor_model352', 'Igor_model353', 'Igor_model354', 'Igor_model355', 'Igor_model356', 'Igor_model357', 'Igor_model358', 'Igor_model359', 'Igor_model360', 'Igor_model361', 'Igor_model362', 'Igor_model363', 'Igor_model364', 'Igor_model365', 'Igor_model366', 'Igor_model367', 'Igor_model368', 'Igor_model369', 'Igor_model370', 'Igor_model371', 'Igor_model372', 'Igor_model373', 'Igor_model374', 'Igor_model375', 'Igor_model376', 'Igor_model377', 'Igor_model378', 'Igor_model379', 'Igor_model380', 'Igor_model381', 'Igor_model382', 'Igor_model383', 'Igor_model384', 'Igor_model385', 'Igor_model386', 'Igor_model387', 'Igor_model388', 'Igor_model389', 'Igor_model390', 'Igor_model391', 'Igor_model392', 'Igor_model393', 'Igor_model394', 'Igor_model395', 'Igor_model396', 'Igor_model397', 'Igor_model398', 'Igor_model399', 'Igor_model400', 'Igor_model401', 'Igor_model402', 'Igor_model403', 'Igor_model404', 'Igor_model405', 'Igor_model406', 'Igor_model407', 'Igor_model408', 'Igor_model409', 'Igor_model410', 'Igor_model411', 'Igor_model412', 'Igor_model413', 'Igor_model414', 'Igor_model415', 'Igor_model416', 'Igor_model417', 'Igor_model418', 'Igor_model419', 'Igor_model420', 'Igor_model421', 'Igor_model422', 'Igor_model423', 'Igor_model424', 'Igor_model425', 'Igor_model426', 'Igor_model427', 'Igor_model428', 'Igor_model429', 'Igor_model430', 'Igor_model431', 'Igor_model432', 'Igor_model433', 'Igor_model434', 'Igor_model435', 'Igor_model436', 'Igor_model437', 'Igor_model438', 'Igor_model439', 'Igor_model440', 'Igor_model441', 'Igor_model442', 'Igor_model443', 'Igor_model444', 'Igor_model445', 'Igor_model446', 'Igor_model447', 'Igor_model448', 'Igor_model449', 'Igor_model450', 'Igor_model451', 'Igor_model452', 'Igor_model453', 'Igor_model454', 'Igor_model455', 'Igor_model456', 'Igor_model457', 'Igor_model458', 'Igor_model459', 'Igor_model460', 'Igor_model461', 'Igor_model462', 'Igor_model463', 'Igor_model464', 'Igor_model465', 'Igor_model466', 'Igor_model467', 'Igor_model468', 'Igor_model469', 'Igor_model470', 'Igor_model471', 'Igor_model472', 'Igor_model473', 'Igor_model474', 'Igor_model475', 'Igor_model476', 'Igor_model477', 'Igor_model478', 'Igor_model479', 'Igor_model480', 'Igor_model481', 'Igor_model482', 'Igor_model483', 'Igor_model484', 'Igor_model485', 'Igor_model486', 'Igor_model487', 'Igor_model488', 'Igor_model489', 'Igor_model490', 'Igor_model491', 'Igor_model492', 'Igor_model493', 'Igor_model494', 'Igor_model495', 'Igor_model496', 'Igor_model497', 'Igor_model498', 'Igor_model499', 'Igor_model500', 'Igor_model501', 'Igor_model502', 'Igor_model503', 'Igor_model504', 'Igor_model505', 'Igor_model506', 'Igor_model507', 'Igor_model508', 'Igor_model509', 'Igor_model510', 'Igor_model511', 'Igor_model512', 'Igor_model513', 'Igor_model514', 'Igor_model515', 'Igor_model516', 'Igor_model517', 'Igor_model518', 'Igor_model519', 'Igor_model520', 'Igor_model521', 'Igor_model522', 'Igor_model523', 'Igor_model524', 'Igor_model525', 'Igor_model526', 'Igor_model527', 'Igor_model528', 'Igor_model529', 'Igor_model530', 'Igor_model531', 'Igor_model532', 'Igor_model533', 'Igor_model534', 'Igor_model535', 'Igor_model536', 'Igor_model537', 'Igor_model538', 'Igor_model539', 'Igor_model540', 'Igor_model541', 'Igor_model542', 'Igor_model543', 'Igor_model544', 'Igor_model545', 'Igor_model546', 'Igor_model547', 'Igor_model548', 'Igor_model549', 'Igor_model550', 'Igor_model551', 'Igor_model552', 'Igor_model553', 'Igor_model554', 'Igor_model555', 'Igor_model556', 'Igor_model557', 'Igor_model558', 'Igor_model559', 'Igor_model560', 'Igor_model561', 'Igor_model562', 'Igor_model563', 'Igor_model564', 'Igor_model565', 'Igor_model566', 'Igor_model567', 'Igor_model568', 'Igor_model569', 'Igor_model570', 'Igor_model571', 'Igor_model572', 'Igor_model573', 'Igor_model574', 'Igor_model575', 'Igor_model576', 'Igor_model577', 'Igor_model578', 'Igor_model579', 'Igor_model580', 'Igor_model581', 'Igor_model582', 'Igor_model583', 'Igor_model584', 'Igor_model585', 'Igor_model586', 'Igor_model587', 'Igor_model588', 'Igor_model589', 'Igor_model590', 'Igor_model591', 'Igor_model592', 'Igor_model593', 'Igor_model594', 'Igor_model595', 'Igor_model596', 'Igor_model597', 'Igor_model598', 'Igor_model599', 'Igor_model600', 'Igor_model601', 'Igor_model602', 'Igor_model603', 'Igor_model604', 'Igor_model605', 'Igor_model606', 'Igor_model607', 'Igor_model608', 'Igor_model609', 'Igor_model610', 'Igor_model611', 'Igor_model612', 'Igor_model613', 'Igor_model614', 'Igor_model615', 'Igor_model616', 'Igor_model617', 'Igor_model618', 'Igor_model619', 'Igor_model620', 'Igor_model621', 'Igor_model622', 'Igor_model623', 'Igor_model624', 'Igor_model625', 'Igor_model626', 'Igor_model627', 'Igor_model628', 'Igor_model629', 'Igor_model630', 'Igor_model631', 'Igor_model632', 'Igor_model633', 'Igor_model634', 'Igor_model635', 'Igor_model636', 'Igor_model637', 'Igor_model638', 'Igor_model639', 'Igor_model640', 'Igor_model641', 'Igor_model642', 'Igor_model643', 'Igor_model644', 'Igor_model645', 'Igor_model646', 'Igor_model647', 'Igor_model648', 'Igor_model649', 'Igor_model650', 'Igor_model651', 'Igor_model652', 'Igor_model653', 'Igor_model654', 'Igor_model655', 'Igor_model656', 'Igor_model657', 'Igor_model658', 'Igor_model659', 'Igor_model660', 'Igor_model661', 'Igor_model662', 'Igor_model663', 'Igor_model664', 'Igor_model665', 'Igor_model666', 'Igor_model667', 'Igor_model668', 'Igor_model669', 'Igor_model670', 'Igor_model671', 'Igor_model672', 'Igor_model673', 'Igor_model674', 'Igor_model675', 'Igor_model676', 'Igor_model677', 'Igor_model678', 'Igor_model679', 'Igor_model680', 'Igor_model681', 'Igor_model682', 'Igor_model683', 'Igor_model684', 'Igor_model685', 'Igor_model686', 'Igor_model687', 'Igor_model688', 'Igor_model689', 'Igor_model690', 'Igor_model691', 'Igor_model692', 'Igor_model693', 'Igor_model694', 'Igor_model695', 'Igor_model696', 'Igor_model697', 'Igor_model698', 'Igor_model699', 'Igor_model700', 'Igor_model701', 'Igor_model702', 'Igor_model703', 'Igor_model704', 'Igor_model705', 'Igor_model706', 'Igor_model707', 'Igor_model708', 'Igor_model709', 'Igor_model710', 'Igor_model711', 'Igor_model712', 'Igor_model713', 'Igor_model714', 'Igor_model715', 'Igor_model716', 'Igor_model717', 'Igor_model718', 'Igor_model719', 'Igor_model720', 'Igor_model721', 'Igor_model722', 'Igor_model723', 'Igor_model724', 'Igor_model725', 'Igor_model726', 'Igor_model727', 'Igor_model728', 'Igor_model729', 'Igor_model730', 'Igor_model731', 'Igor_model732', 'Igor_model733', 'Igor_model734', 'Igor_model735', 'Igor_model736', 'Igor_model737', 'Igor_model738', 'Igor_model739', 'Igor_model740', 'Igor_model741', 'Igor_model742', 'Igor_model743', 'Igor_model744', 'Igor_model745', 'Igor_model746', 'Igor_model747', 'Igor_model748', 'Igor_model749', 'Igor_model750', 'Igor_model751', 'Igor_model752', 'Igor_model753', 'Igor_model754', 'Igor_model755', 'Igor_model756', 'Igor_model757', 'Igor_model758', 'Igor_model759', 'Igor_model760', 'Igor_model761', 'Igor_model762', 'Igor_model763', 'Igor_model764', 'Igor_model765', 'Igor_model766', 'Igor_model767', 'Igor_model768', 'Igor_model769', 'Igor_model770', 'Igor_model771', 'Igor_model772', 'Igor_model773', 'Igor_model774', 'Igor_model775', 'Igor_model776', 'Igor_model777', 'Igor_model778', 'Igor_model779', 'Igor_model780', 'Igor_model781', 'Igor_model782', 'Igor_model783', 'Igor_model784', 'Igor_model785', 'Igor_model786', 'Igor_model787', 'Igor_model788', 'Igor_model789', 'Igor_model790', 'Igor_model791', 'Igor_model792', 'Igor_model793', 'Igor_model794', 'Igor_model795', 'Igor_model796', 'Igor_model797', 'Igor_model798', 'Igor_model799', 'Igor_model800', 'Igor_model801', 'Igor_model802', 'Igor_model803', 'Igor_model804', 'Igor_model805', 'Igor_model806', 'Igor_model807', 'Igor_model808', 'Igor_model809', 'Igor_model810', 'Igor_model811', 'Igor_model812', 'Igor_model813', 'Igor_model814', 'Igor_model815', 'Igor_model816', 'Igor_model817', 'Igor_model818', 'Igor_model819', 'Igor_model820', 'Igor_model821', 'Igor_model822', 'Igor_model823', 'Igor_model824', 'Igor_model825', 'Igor_model826', 'Igor_model827', 'Igor_model828', 'Igor_model829', 'Igor_model830', 'Igor_model831', 'Igor_model832', 'Igor_model833', 'Igor_model834', 'Igor_model835', 'Igor_model836', 'Igor_model837', 'Igor_model838', 'Igor_model839', 'Igor_model840', 'Igor_model841', 'Igor_model842', 'Igor_model843', 'Igor_model844', 'Igor_model845', 'Igor_model846', 'Igor_model847', 'Igor_model848', 'Igor_model849', 'Igor_model850', 'Igor_model851', 'Igor_model852', 'Igor_model853', 'Igor_model854', 'Igor_model855', 'Igor_model856', 'Igor_model857', 'Igor_model858', 'Igor_model859', 'Igor_model860', 'Igor_model861', 'Igor_model862', 'Igor_model863', 'Igor_model864', 'Igor_model865', 'Igor_model866', 'Igor_model867', 'Igor_model868', 'Igor_model869', 'Igor_model870', 'Igor_model871', 'Igor_model872', 'Igor_model873', 'Igor_model874', 'Igor_model875', 'Igor_model876', 'Igor_model877', 'Igor_model878', 'Igor_model879', 'Igor_model880', 'Igor_model881', 'Igor_model882', 'Igor_model883', 'Igor_model884', 'Igor_model885', 'Igor_model886', 'Igor_model887', 'Igor_model888', 'Igor_model889', 'Igor_model890', 'Igor_model891', 'Igor_model892', 'Igor_model893', 'Igor_model894', 'Igor_model895', 'Igor_model896', 'Igor_model897', 'Igor_model898', 'Igor_model899', 'Igor_model900', 'Igor_model901', 'Igor_model902', 'Igor_model903', 'Igor_model904', 'Igor_model905', 'Igor_model906', 'Igor_model907', 'Igor_model908', 'Igor_model909', 'Igor_model910', 'Igor_model911', 'Igor_model912', 'Igor_model913', 'Igor_model914', 'Igor_model915', 'Igor_model916', 'Igor_model917', 'Igor_model918', 'Igor_model919', 'Igor_model920', 'Igor_model921', 'Igor_model922', 'Igor_model923', 'Igor_model924', 'Igor_model925', 'Igor_model926', 'Igor_model927', 'Igor_model928', 'Igor_model929', 'Igor_model930', 'Igor_model931', 'Igor_model932', 'Igor_model933', 'Igor_model934', 'Igor_model935', 'Igor_model936', 'Igor_model937', 'Igor_model938', 'Igor_model939', 'Igor_model940', 'Igor_model941', 'Igor_model942', 'Igor_model943', 'Igor_model944', 'Igor_model945', 'Igor_model946', 'Igor_model947', 'Igor_model948', 'Igor_model949', 'Igor_model950', 'Igor_model951', 'Igor_model952', 'Igor_model953', 'Igor_model954', 'Igor_model955', 'Igor_model956', 'Igor_model957', 'Igor_model958', 'Igor_model959', 'Igor_model960', 'Igor_model961', 'Igor_model962', 'Igor_model963', 'Igor_model964', 'Igor_model965', 'Igor_model966', 'Igor_model967', 'Igor_model968', 'Igor_model969', 'Igor_model970', 'Igor_model971', 'Igor_model972', 'Igor_model973', 'Igor_model974', 'Igor_model975', 'Igor_model976', 'Igor_model977', 'Igor_model978', 'Igor_model979', 'Igor_model980', 'Igor_model981', 'Igor_model982', 'Igor_model983', 'Igor_model984', 'Igor_model985', 'Igor_model986', 'Igor_model987', 'Igor_model988', 'Igor_model989', 'Igor_model990', 'Igor_model991', 'Igor_model992', 'Igor_model993', 'Igor_model994', 'Igor_model995', 'Igor_model996', 'Igor_model997', 'Igor_model998', 'Igor_model999']\n",
            "{'Igor_model963', 'Igor_model553', 'Igor_model252', 'Igor_model319', 'Igor_model761', 'Igor_model547', 'Igor_model345', 'Igor_model858', 'Igor_model341', 'Igor_model352', 'Igor_model527', 'Igor_model49', 'Igor_model504', 'Igor_model740', 'Igor_model931', 'Igor_model188', 'Igor_model919', 'Igor_model83', 'Igor_model316', 'Igor_model50', 'Igor_model68', 'Igor_model524', 'Igor_model644', 'Igor_model756', 'Igor_model900', 'Igor_model422', 'Igor_model916', 'Igor_model405', 'Igor_model769', 'Igor_model960', 'Igor_model471', 'Igor_model538', 'Igor_model791', 'Igor_model384', 'Igor_model884', 'Igor_model296', 'Igor_model466', 'Igor_model365', 'Igor_model690', 'Igor_model217', 'Igor_model493', 'Igor_model672', 'Igor_model750', 'Igor_model243', 'Igor_model841', 'Igor_model936', 'Igor_model831', 'Igor_model732', 'Igor_model454', 'Igor_model278', 'Igor_model453', 'Igor_model659', 'Igor_model344', 'Igor_model715', 'Igor_model821', 'Igor_model71', 'Igor_model40', 'Igor_model362', 'Igor_model30', 'Igor_model879', 'Igor_model411', 'Igor_model211', 'Igor_model343', 'Igor_model465', 'Igor_model220', 'Igor_model124', 'Igor_model631', 'Igor_model574', 'Igor_model439', 'Igor_model24', 'Igor_model81', 'Igor_model89', 'Igor_model95', 'Igor_model673', 'Igor_model410', 'Igor_model731', 'Igor_model751', 'Igor_model91', 'Igor_model317', 'Igor_model324', 'Igor_model476', 'Igor_model711', 'Igor_model799', 'Igor_model823', 'Igor_model824', 'Igor_model251', 'Igor_model474', 'Igor_model828', 'Igor_model419', 'Igor_model896', 'Igor_model289', 'Igor_model9', 'Igor_model245', 'Igor_model314', 'Igor_model590', 'Igor_model810', 'Igor_model887', 'Igor_model194', 'Igor_model635', 'Igor_model749', 'Igor_model173', 'Igor_model789', 'Igor_model576', 'Igor_model354', 'Igor_model895', 'Igor_model856', 'Igor_model899', 'Igor_model154', 'Igor_model969', 'Igor_model693', 'Igor_model76', 'Igor_model477', 'Igor_model376', 'Igor_model680', 'Igor_model73', 'Igor_model100', 'Igor_model260', 'Igor_model233', 'Igor_model483', 'Igor_model351', 'Igor_model700', 'Igor_model817', 'Igor_model647', 'Igor_model981', 'Igor_model923', 'Igor_model1', 'Igor_model536', 'Igor_model992', 'Igor_model451', 'Igor_model717', 'Igor_model457', 'Igor_model248', 'Igor_model176', 'Igor_model637', 'Igor_model35', 'Igor_model170', 'Igor_model264', 'Igor_model386', 'Igor_model438', 'Igor_model935', 'Igor_model598', 'Igor_model991', 'Igor_model268', 'Igor_model780', 'Igor_model487', 'Igor_model586', 'Igor_model195', 'Igor_model877', 'Igor_model869', 'Igor_model973', 'Igor_model910', 'Igor_model685', 'Igor_model300', 'Igor_model357', 'Igor_model464', 'Igor_model720', 'Igor_model346', 'Igor_model633', 'Igor_model958', 'Igor_model39', 'Igor_model139', 'Igor_model147', 'Igor_model369', 'Igor_model687', 'Igor_model775', 'Igor_model133', 'Igor_model387', 'Igor_model201', 'Igor_model171', 'Igor_model857', 'Igor_model7', 'Igor_model116', 'Igor_model380', 'Igor_model209', 'Igor_model861', 'Igor_model406', 'Igor_model830', 'Igor_model115', 'Igor_model281', 'Igor_model705', 'Igor_model267', 'Igor_model611', 'Igor_model628', 'Igor_model683', 'Igor_model19', 'Igor_model247', 'Igor_model382', 'Igor_model144', 'Igor_model678', 'Igor_model495', 'Igor_model549', 'Igor_model210', 'Igor_model331', 'Igor_model205', 'Igor_model584', 'Igor_model667', 'Igor_model409', 'Igor_model321', 'Igor_model773', 'Igor_model165', 'Igor_model835', 'Igor_model10', 'Igor_model273', 'Igor_model851', 'Igor_model60', 'Igor_model859', 'Igor_model573', 'Igor_model985', 'Igor_model310', 'Igor_model389', 'Igor_model445', 'Igor_model622', 'Igor_model105', 'Igor_model297', 'Igor_model101', 'Igor_model241', 'Igor_model494', 'Igor_model596', 'Igor_model148', 'Igor_model23', 'Igor_model621', 'Igor_model110', 'Igor_model653', 'Igor_model953', 'Igor_model282', 'Igor_model684', 'Igor_model118', 'Igor_model51', 'Igor_model348', 'Igor_model972', 'Igor_model86', 'Igor_model784', 'Igor_model368', 'Igor_model48', 'Igor_model578', 'Igor_model181', 'Igor_model166', 'Igor_model160', 'Igor_model615', 'Igor_model661', 'Igor_model966', 'Igor_model565', 'Igor_model242', 'Igor_model676', 'Igor_model870', 'Igor_model5', 'Igor_model825', 'Igor_model558', 'Igor_model820', 'Igor_model759', 'Igor_model668', 'Igor_model909', 'Igor_model449', 'Igor_model90', 'Igor_model597', 'Igor_model54', 'Igor_model616', 'Igor_model782', 'Igor_model430', 'Igor_model132', 'Igor_model155', 'Igor_model41', 'Igor_model311', 'Igor_model723', 'Igor_model433', 'Igor_model648', 'Igor_model328', 'Igor_model84', 'Igor_model111', 'Igor_model726', 'Igor_model566', 'Igor_model505', 'Igor_model32', 'Igor_model152', 'Igor_model812', 'Igor_model367', 'Igor_model158', 'Igor_model843', 'Igor_model686', 'Igor_model984', 'Igor_model461', 'Igor_model520', 'Igor_model670', 'Igor_model117', 'Igor_model280', 'Igor_model215', 'Igor_model492', 'Igor_model560', 'Igor_model866', 'Igor_model739', 'Igor_model747', 'Igor_model394', 'Igor_model589', 'Igor_model244', 'Igor_model178', 'Igor_model460', 'Igor_model575', 'Igor_model905', 'Igor_model44', 'Igor_model131', 'Igor_model708', 'Igor_model499', 'Igor_model141', 'Igor_model649', 'Igor_model651', 'Igor_model16', 'Igor_model361', 'Igor_model436', 'Igor_model364', 'Igor_model548', 'Igor_model585', 'Igor_model734', 'Igor_model206', 'Igor_model697', 'Igor_model639', 'Igor_model892', 'Igor_model373', 'Igor_model729', 'Igor_model239', 'Igor_model468', 'Igor_model507', 'Igor_model423', 'Igor_model813', 'Igor_model691', 'Igor_model704', 'Igor_model347', 'Igor_model265', 'Igor_model785', 'Igor_model539', 'Igor_model640', 'Igor_model912', 'Igor_model135', 'Igor_model531', 'Igor_model467', 'Igor_model827', 'Igor_model666', 'Igor_model26', 'Igor_model425', 'Igor_model804', 'Igor_model811', 'Igor_model261', 'Igor_model263', 'Igor_model463', 'Igor_model231', 'Igor_model559', 'Igor_model204', 'Igor_model523', 'Igor_model681', 'Igor_model522', 'Igor_model765', 'Igor_model109', 'Igor_model873', 'Igor_model414', 'Igor_model429', 'Igor_model766', 'Igor_model871', 'Igor_model920', 'Igor_model358', 'Igor_model937', 'Igor_model228', 'Igor_model97', 'Igor_model227', 'Igor_model431', 'Igor_model360', 'Igor_model134', 'Igor_model397', 'Igor_model472', 'Igor_model107', 'Igor_model783', 'Igor_model74', 'Igor_model814', 'Igor_model318', 'Igor_model323', 'Igor_model745', 'Igor_model235', 'Igor_model366', 'Igor_model175', 'Igor_model863', 'Igor_model930', 'Igor_model982', 'Igor_model519', 'Igor_model807', 'Igor_model185', 'Igor_model67', 'Igor_model59', 'Igor_model432', 'Igor_model542', 'Igor_model554', 'Igor_model381', 'Igor_model658', 'Igor_model779', 'Igor_model102', 'Igor_model712', 'Igor_model641', 'Igor_model932', 'Igor_model801', 'Igor_model315', 'Igor_model893', 'Igor_model93', 'Igor_model764', 'Igor_model426', 'Igor_model790', 'Igor_model901', 'Igor_model929', 'Igor_model271', 'Igor_model959', 'Igor_model860', 'Igor_model443', 'Igor_model674', 'Igor_model475', 'Igor_model99', 'Igor_model862', 'Igor_model58', 'Igor_model126', 'Igor_model162', 'Igor_model403', 'Igor_model145', 'Igor_model847', 'Igor_model940', 'Igor_model632', 'Igor_model62', 'Igor_model322', 'Igor_model192', 'Igor_model182', 'Igor_model203', 'Igor_model510', 'Igor_model4', 'Igor_model864', 'Igor_model497', 'Igor_model190', 'Igor_model340', 'Igor_model975', 'Igor_model530', 'Igor_model250', 'Igor_model556', 'Igor_model448', 'Igor_model752', 'Igor_model202', 'Igor_model180', 'Igor_model234', 'Igor_model325', 'Igor_model735', 'Igor_model274', 'Igor_model459', 'Igor_model786', 'Igor_model845', 'Igor_model911', 'Igor_model933', 'Igor_model776', 'Igor_model294', 'Igor_model212', 'Igor_model142', 'Igor_model996', 'Igor_model555', 'Igor_model613', 'Igor_model662', 'Igor_model486', 'Igor_model604', 'Igor_model286', 'Igor_model702', 'Igor_model450', 'Igor_model304', 'Igor_model532', 'Igor_model581', 'Igor_model618', 'Igor_model602', 'Igor_model948', 'Igor_model427', 'Igor_model219', 'Igor_model842', 'Igor_model208', 'Igor_model630', 'Igor_model816', 'Igor_model485', 'Igor_model718', 'Igor_model772', 'Igor_model913', 'Igor_model552', 'Igor_model161', 'Igor_model872', 'Igor_model915', 'Igor_model943', 'Igor_model500', 'Igor_model591', 'Igor_model515', 'Igor_model921', 'Igor_model43', 'Igor_model677', 'Igor_model253', 'Igor_model502', 'Igor_model634', 'Igor_model312', 'Igor_model511', 'Igor_model763', 'Igor_model971', 'Igor_model444', 'Igor_model94', 'Igor_model214', 'Igor_model594', 'Igor_model646', 'Igor_model550', 'Igor_model722', 'Igor_model69', 'Igor_model226', 'Igor_model777', 'Igor_model291', 'Igor_model437', 'Igor_model719', 'Igor_model663', 'Igor_model727', 'Igor_model200', 'Igor_model894', 'Igor_model42', 'Igor_model191', 'Igor_model927', 'Igor_model138', 'Igor_model207', 'Igor_model484', 'Igor_model27', 'Igor_model642', 'Igor_model11', 'Igor_model797', 'Igor_model577', 'Igor_model882', 'Igor_model197', 'Igor_model293', 'Igor_model557', 'Igor_model660', 'Igor_model143', 'Igor_model580', 'Igor_model518', 'Igor_model609', 'Igor_model950', 'Igor_model18', 'Igor_model174', 'Igor_model130', 'Igor_model302', 'Igor_model270', 'Igor_model413', 'Igor_model320', 'Igor_model955', 'Igor_model885', 'Igor_model355', 'Igor_model375', 'Igor_model990', 'Igor_model593', 'Igor_model12', 'Igor_model997', 'Igor_model222', 'Igor_model229', 'Igor_model404', 'Igor_model407', 'Igor_model412', 'Igor_model878', 'Igor_model934', 'Igor_model939', 'Igor_model56', 'Igor_model788', 'Igor_model961', 'Igor_model664', 'Igor_model902', 'Igor_model87', 'Igor_model359', 'Igor_model643', 'Igor_model623', 'Igor_model21', 'Igor_model792', 'Igor_model906', 'Igor_model535', 'Igor_model128', 'Igor_model213', 'Igor_model891', 'Igor_model482', 'Igor_model334', 'Igor_model962', 'Igor_model721', 'Igor_model832', 'Igor_model619', 'Igor_model122', 'Igor_model838', 'Igor_model883', 'Igor_model46', 'Igor_model998', 'Igor_model14', 'Igor_model258', 'Igor_model172', 'Igor_model421', 'Igor_model595', 'Igor_model588', 'Igor_model679', 'Igor_model743', 'Igor_model350', 'Igor_model808', 'Igor_model157', 'Igor_model713', 'Igor_model528', 'Igor_model417', 'Igor_model947', 'Igor_model907', 'Igor_model836', 'Igor_model709', 'Igor_model478', 'Igor_model529', 'Igor_model829', 'Igor_model724', 'Igor_model221', 'Igor_model22', 'Igor_model508', 'Igor_model904', 'Igor_model988', 'Igor_model512', 'Igor_model840', 'Igor_model781', 'Igor_model168', 'Igor_model805', 'Igor_model571', 'Igor_model164', 'Igor_model924', 'Igor_model949', 'Igor_model694', 'Igor_model993', 'Igor_model881', 'Igor_model121', 'Igor_model96', 'Igor_model541', 'Igor_model941', 'Igor_model561', 'Igor_model246', 'Igor_model440', 'Igor_model104', 'Igor_model442', 'Igor_model28', 'Igor_model957', 'Igor_model815', 'Igor_model36', 'Igor_model113', 'Igor_model489', 'Igor_model452', 'Igor_model728', 'Igor_model123', 'Igor_model696', 'Igor_model733', 'Igor_model257', 'Igor_model517', 'Igor_model689', 'Igor_model183', 'Igor_model98', 'Igor_model434', 'Igor_model850', 'Igor_model388', 'Igor_model125', 'Igor_model342', 'Igor_model572', 'Igor_model363', 'Igor_model951', 'Igor_model698', 'Igor_model748', 'Igor_model967', 'Igor_model186', 'Igor_model710', 'Igor_model456', 'Igor_model236', 'Igor_model925', 'Igor_model15', 'Igor_model187', 'Igor_model956', 'Igor_model606', 'Igor_model629', 'Igor_model356', 'Igor_model564', 'Igor_model600', 'Igor_model288', 'Igor_model112', 'Igor_model285', 'Igor_model944', 'Igor_model928', 'Igor_model525', 'Igor_model903', 'Igor_model169', 'Igor_model420', 'Igor_model974', 'Igor_model626', 'Igor_model480', 'Igor_model462', 'Igor_model305', 'Igor_model995', 'Igor_model275', 'Igor_model545', 'Igor_model579', 'Igor_model85', 'Igor_model627', 'Igor_model47', 'Igor_model146', 'Igor_model447', 'Igor_model292', 'Igor_model537', 'Igor_model435', 'Igor_model741', 'Igor_model336', 'Igor_model307', 'Igor_model159', 'Igor_model762', 'Igor_model77', 'Igor_model230', 'Igor_model153', 'Igor_model199', 'Igor_model699', 'Igor_model546', 'Igor_model778', 'Igor_model137', 'Igor_model309', 'Igor_model730', 'Igor_model865', 'Igor_model272', 'Igor_model770', 'Igor_model498', 'Igor_model88', 'Igor_model533', 'Igor_model562', 'Igor_model617', 'Igor_model259', 'Igor_model926', 'Igor_model652', 'Igor_model620', 'Igor_model455', 'Igor_model400', 'Igor_model655', 'Igor_model874', 'Igor_model796', 'Igor_model216', 'Igor_model470', 'Igor_model607', 'Igor_model283', 'Igor_model398', 'Igor_model738', 'Igor_model129', 'Igor_model544', 'Igor_model45', 'Igor_model279', 'Igor_model127', 'Igor_model256', 'Igor_model383', 'Igor_model868', 'Igor_model193', 'Igor_model379', 'Igor_model303', 'Igor_model563', 'Igor_model514', 'Igor_model3', 'Igor_model78', 'Igor_model120', 'Igor_model669', 'Igor_model156', 'Igor_model809', 'Igor_model889', 'Igor_model401', 'Igor_model908', 'Igor_model65', 'Igor_model441', 'Igor_model418', 'Igor_model238', 'Igor_model491', 'Igor_model583', 'Igor_model2', 'Igor_model707', 'Igor_model833', 'Igor_model327', 'Igor_model326', 'Igor_model196', 'Igor_model306', 'Igor_model393', 'Igor_model999', 'Igor_model867', 'Igor_model888', 'Igor_model402', 'Igor_model395', 'Igor_model582', 'Igor_model377', 'Igor_model675', 'Igor_model986', 'Igor_model333', 'Igor_model965', 'Igor_model701', 'Igor_model755', 'Igor_model313', 'Igor_model624', 'Igor_model898', 'Igor_model372', 'Igor_model25', 'Igor_model254', 'Igor_model353', 'Igor_model277', 'Igor_model746', 'Igor_model38', 'Igor_model976', 'Igor_model848', 'Igor_model983', 'Igor_model385', 'Igor_model569', 'Igor_model876', 'Igor_model337', 'Igor_model736', 'Igor_model645', 'Igor_model837', 'Igor_model855', 'Igor_model92', 'Igor_model989', 'Igor_model737', 'Igor_model308', 'Igor_model592', 'Igor_model150', 'Igor_model853', 'Igor_model819', 'Igor_model744', 'Igor_model844', 'Igor_model509', 'Igor_model656', 'Igor_model225', 'Igor_model758', 'Igor_model34', 'Igor_model496', 'Igor_model603', 'Igor_model787', 'Igor_model408', 'Igor_model567', 'Igor_model80', 'Igor_model151', 'Igor_model587', 'Igor_model61', 'Igor_model52', 'Igor_model551', 'Igor_model335', 'Igor_model754', 'Igor_model6', 'Igor_model63', 'Igor_model240', 'Igor_model479', 'Igor_model469', 'Igor_model942', 'Igor_model82', 'Igor_model224', 'Igor_model534', 'Igor_model568', 'Igor_model29', 'Igor_model757', 'Igor_model665', 'Igor_model608', 'Igor_model795', 'Igor_model103', 'Igor_model521', 'Igor_model806', 'Igor_model954', 'Igor_model481', 'Igor_model771', 'Igor_model540', 'Igor_model37', 'Igor_model980', 'Igor_model706', 'Igor_model13', 'Igor_model692', 'Igor_model725', 'Igor_model223', 'Igor_model396', 'Igor_model516', 'Igor_model760', 'Igor_model636', 'Igor_model570', 'Igor_model625', 'Igor_model332', 'Igor_model298', 'Igor_model714', 'Igor_model179', 'Igor_model834', 'Igor_model119', 'Igor_model490', 'Igor_model378', 'Igor_model458', 'Igor_model198', 'Igor_model53', 'Igor_model374', 'Igor_model798', 'Igor_model803', 'Igor_model638', 'Igor_model329', 'Igor_model849', 'Igor_model262', 'Igor_model108', 'Igor_model650', 'Igor_model917', 'Igor_model774', 'Igor_model854', 'Igor_model506', 'Igor_model605', 'Igor_model946', 'Igor_model295', 'Igor_model657', 'Igor_model140', 'Igor_model79', 'Igor_model543', 'Igor_model614', 'Igor_model964', 'Igor_model818', 'Igor_model8', 'Igor_model184', 'Igor_model255', 'Igor_model767', 'Igor_model136', 'Igor_model284', 'Igor_model612', 'Igor_model167', 'Igor_model301', 'Igor_model513', 'Igor_model371', 'Igor_model391', 'Igor_model290', 'Igor_model716', 'Igor_model610', 'Igor_model839', 'Igor_model446', 'Igor_model852', 'Igor_model31', 'Igor_model987', 'Igor_model338', 'Igor_model177', 'Igor_model695', 'Igor_model846', 'Igor_model945', 'Igor_model922', 'Igor_model654', 'Igor_model64', 'Igor_model952', 'Igor_model390', 'Igor_model232', 'Igor_model114', 'Igor_model768', 'Igor_model968', 'Igor_model416', 'Igor_model55', 'Igor_model599', 'Igor_model424', 'Igor_model392', 'Igor_model399', 'Igor_model886', 'Igor_model33', 'Igor_model914', 'Igor_model237', 'Igor_model979', 'Igor_model822', 'Igor_model826', 'Igor_model75', 'Igor_model682', 'Igor_model918', 'Igor_model897', 'Igor_model880', 'Igor_model978', 'Igor_model703', 'Igor_model266', 'Igor_model249', 'Igor_model802', 'Igor_model890', 'Igor_model938', 'Igor_model189', 'Igor_model501', 'Igor_model20', 'Igor_model742', 'Igor_model473', 'Igor_model503', 'Igor_model269', 'Igor_model671', 'Igor_model753', 'Igor_model66', 'Igor_model428', 'Igor_model17', 'Igor_model72', 'Igor_model163', 'Igor_model218', 'Igor_model339', 'Igor_model370', 'Igor_model488', 'Igor_model70', 'Igor_model276', 'Igor_model601', 'Igor_model688', 'Igor_model794', 'Igor_model977', 'Igor_model970', 'Igor_model299', 'Igor_model349', 'Igor_model994', 'Igor_model0', 'Igor_model106', 'Igor_model330', 'Igor_model57', 'Igor_model800', 'Igor_model875', 'Igor_model793', 'Igor_model149', 'Igor_model415', 'Igor_model287', 'Igor_model526'}\n",
            "['Igor', 'Igor', 'Igor', 'Igor', 'Igor', 'Igor', 'Igor', 'Igor', 'Igor', 'Igor', 'Igor', 'Igor', 'Igor', 'Igor', 'Igor', 'Igor', 'Igor', 'Igor', 'Igor', 'Igor', 'Igor', 'Igor', 'Igor', 'Igor', 'Igor', 'Igor', 'Igor', 'Igor', 'Igor', 'Igor', 'Igor', 'Igor', 'Igor', 'Igor', 'Igor', 'Igor', 'Igor', 'Igor', 'Igor', 'Igor', 'Igor', 'Igor', 'Igor', 'Igor', 'Igor', 'Igor', 'Igor', 'Igor', 'Igor', 'Igor', 'Igor', 'Igor', 'Igor', 'Igor', 'Igor', 'Igor', 'Igor', 'Igor', 'Igor', 'Igor', 'Igor', 'Igor', 'Igor', 'Igor', 'Igor', 'Igor', 'Igor', 'Igor', 'Igor', 'Igor', 'Igor', 'Igor', 'Igor', 'Igor', 'Igor', 'Igor', 'Igor', 'Igor', 'Igor', 'Igor', 'Igor', 'Igor', 'Igor', 'Igor', 'Igor', 'Igor', 'Igor', 'Igor', 'Igor', 'Igor', 'Igor', 'Igor', 'Igor', 'Igor', 'Igor', 'Igor', 'Igor', 'Igor', 'Igor', 'Igor', 'Igor', 'Igor', 'Igor', 'Igor', 'Igor', 'Igor', 'Igor', 'Igor', 'Igor', 'Igor', 'Igor', 'Igor', 'Igor', 'Igor', 'Igor', 'Igor', 'Igor', 'Igor', 'Igor', 'Igor', 'Igor', 'Igor', 'Igor', 'Igor', 'Igor', 'Igor', 'Igor', 'Igor', 'Igor', 'Igor', 'Igor', 'Igor', 'Igor', 'Igor', 'Igor', 'Igor', 'Igor', 'Igor', 'Igor', 'Igor', 'Igor', 'Igor', 'Igor', 'Igor', 'Igor', 'Igor', 'Igor', 'Igor', 'Igor', 'Igor', 'Igor', 'Igor', 'Igor', 'Igor', 'Igor', 'Igor', 'Igor', 'Igor', 'Igor', 'Igor', 'Igor', 'Igor', 'Igor', 'Igor', 'Igor', 'Igor', 'Igor', 'Igor', 'Igor', 'Igor', 'Igor', 'Igor', 'Igor', 'Igor', 'Igor', 'Igor', 'Igor', 'Igor', 'Igor', 'Igor', 'Igor', 'Igor', 'Igor', 'Igor', 'Igor', 'Igor', 'Igor', 'Igor', 'Igor', 'Igor', 'Igor', 'Igor', 'Igor', 'Igor', 'Igor', 'Igor', 'Igor', 'Igor', 'Igor', 'Igor', 'Igor', 'Igor', 'Igor', 'Igor', 'Igor', 'Igor', 'Igor', 'Igor', 'Igor', 'Igor', 'Igor', 'Igor', 'Igor', 'Igor', 'Igor', 'Igor', 'Igor', 'Igor', 'Igor', 'Igor', 'Igor', 'Igor', 'Igor', 'Igor', 'Igor', 'Igor', 'Igor', 'Igor', 'Igor', 'Igor', 'Igor', 'Igor', 'Igor', 'Igor', 'Igor', 'Igor', 'Igor', 'Igor', 'Igor', 'Igor', 'Igor', 'Igor', 'Igor', 'Igor', 'Igor', 'Igor', 'Igor', 'Igor', 'Igor', 'Igor', 'Igor', 'Igor', 'Igor', 'Igor', 'Igor', 'Igor', 'Igor', 'Igor', 'Igor', 'Igor', 'Igor', 'Igor', 'Igor', 'Igor', 'Igor', 'Igor', 'Igor', 'Igor', 'Igor', 'Igor', 'Igor', 'Igor', 'Igor', 'Igor', 'Igor', 'Igor', 'Igor', 'Igor', 'Igor', 'Igor', 'Igor', 'Igor', 'Igor', 'Igor', 'Igor', 'Igor', 'Igor', 'Igor', 'Igor', 'Igor', 'Igor', 'Igor', 'Igor', 'Igor', 'Igor', 'Igor', 'Igor', 'Igor', 'Igor', 'Igor', 'Igor', 'Igor', 'Igor', 'Igor', 'Igor', 'Igor', 'Igor', 'Igor', 'Igor', 'Igor', 'Igor', 'Igor', 'Igor', 'Igor', 'Igor', 'Igor', 'Igor', 'Igor', 'Igor', 'Igor', 'Igor', 'Igor', 'Igor', 'Igor', 'Igor', 'Igor', 'Igor', 'Igor', 'Igor', 'Igor', 'Igor', 'Igor', 'Igor', 'Igor', 'Igor', 'Igor', 'Igor', 'Igor', 'Igor', 'Igor', 'Igor', 'Igor', 'Igor', 'Igor', 'Igor', 'Igor', 'Igor', 'Igor', 'Igor', 'Igor', 'Igor', 'Igor', 'Igor', 'Igor', 'Igor', 'Igor', 'Igor', 'Igor', 'Igor', 'Igor', 'Igor', 'Igor', 'Igor', 'Igor', 'Igor', 'Igor', 'Igor', 'Igor', 'Igor', 'Igor', 'Igor', 'Igor', 'Igor', 'Igor', 'Igor', 'Igor', 'Igor', 'Igor', 'Igor', 'Igor', 'Igor', 'Igor', 'Igor', 'Igor', 'Igor', 'Igor', 'Igor', 'Igor', 'Igor', 'Igor', 'Igor', 'Igor', 'Igor', 'Igor', 'Igor', 'Igor', 'Igor', 'Igor', 'Igor', 'Igor', 'Igor', 'Igor', 'Igor', 'Igor', 'Igor', 'Igor', 'Igor', 'Igor', 'Igor', 'Igor', 'Igor', 'Igor', 'Igor', 'Igor', 'Igor', 'Igor', 'Igor', 'Igor', 'Igor', 'Igor', 'Igor', 'Igor', 'Igor', 'Igor', 'Igor', 'Igor', 'Igor', 'Igor', 'Igor', 'Igor', 'Igor', 'Igor', 'Igor', 'Igor', 'Igor', 'Igor', 'Igor', 'Igor', 'Igor', 'Igor', 'Igor', 'Igor', 'Igor', 'Igor', 'Igor', 'Igor', 'Igor', 'Igor', 'Igor', 'Igor', 'Igor', 'Igor', 'Igor', 'Igor', 'Igor', 'Igor', 'Igor', 'Igor', 'Igor', 'Igor', 'Igor', 'Igor', 'Igor', 'Igor', 'Igor', 'Igor', 'Igor', 'Igor', 'Igor', 'Igor', 'Igor', 'Igor', 'Igor', 'Igor', 'Igor', 'Igor', 'Igor', 'Igor', 'Igor', 'Igor', 'Igor', 'Igor', 'Igor', 'Igor', 'Igor', 'Igor', 'Igor', 'Igor', 'Igor', 'Igor', 'Igor', 'Igor', 'Igor', 'Igor', 'Igor', 'Igor', 'Igor', 'Igor', 'Igor', 'Igor', 'Igor', 'Igor', 'Igor', 'Igor', 'Igor', 'Igor', 'Igor', 'Igor', 'Igor', 'Igor', 'Igor', 'Igor', 'Igor', 'Igor', 'Igor', 'Igor', 'Igor', 'Igor', 'Igor', 'Igor', 'Igor', 'Igor', 'Igor', 'Igor', 'Igor', 'Igor', 'Igor', 'Igor', 'Igor', 'Igor', 'Igor', 'Igor', 'Igor', 'Igor', 'Igor', 'Igor', 'Igor', 'Igor', 'Igor', 'Igor', 'Igor', 'Igor', 'Igor', 'Igor', 'Igor', 'Igor', 'Igor', 'Igor', 'Igor', 'Igor', 'Igor', 'Igor', 'Igor', 'Igor', 'Igor', 'Igor', 'Igor', 'Igor', 'Igor', 'Igor', 'Igor', 'Igor', 'Igor', 'Igor', 'Igor', 'Igor', 'Igor', 'Igor', 'Igor', 'Igor', 'Igor', 'Igor', 'Igor', 'Igor', 'Igor', 'Igor', 'Igor', 'Igor', 'Igor', 'Igor', 'Igor', 'Igor', 'Igor', 'Igor', 'Igor', 'Igor', 'Igor', 'Igor', 'Igor', 'Igor', 'Igor', 'Igor', 'Igor', 'Igor', 'Igor', 'Igor', 'Igor', 'Igor', 'Igor', 'Igor', 'Igor', 'Igor', 'Igor', 'Igor', 'Igor', 'Igor', 'Igor', 'Igor', 'Igor', 'Igor', 'Igor', 'Igor', 'Igor', 'Igor', 'Igor', 'Igor', 'Igor', 'Igor', 'Igor', 'Igor', 'Igor', 'Igor', 'Igor', 'Igor', 'Igor', 'Igor', 'Igor', 'Igor', 'Igor', 'Igor', 'Igor', 'Igor', 'Igor', 'Igor', 'Igor', 'Igor', 'Igor', 'Igor', 'Igor', 'Igor', 'Igor', 'Igor', 'Igor', 'Igor', 'Igor', 'Igor', 'Igor', 'Igor', 'Igor', 'Igor', 'Igor', 'Igor', 'Igor', 'Igor', 'Igor', 'Igor', 'Igor', 'Igor', 'Igor', 'Igor', 'Igor', 'Igor', 'Igor', 'Igor', 'Igor', 'Igor', 'Igor', 'Igor', 'Igor', 'Igor', 'Igor', 'Igor', 'Igor', 'Igor', 'Igor', 'Igor', 'Igor', 'Igor', 'Igor', 'Igor', 'Igor', 'Igor', 'Igor', 'Igor', 'Igor', 'Igor', 'Igor', 'Igor', 'Igor', 'Igor', 'Igor', 'Igor', 'Igor', 'Igor', 'Igor', 'Igor', 'Igor', 'Igor', 'Igor', 'Igor', 'Igor', 'Igor', 'Igor', 'Igor', 'Igor', 'Igor', 'Igor', 'Igor', 'Igor', 'Igor', 'Igor', 'Igor', 'Igor', 'Igor', 'Igor', 'Igor', 'Igor', 'Igor', 'Igor', 'Igor', 'Igor', 'Igor', 'Igor', 'Igor', 'Igor', 'Igor', 'Igor', 'Igor', 'Igor', 'Igor', 'Igor', 'Igor', 'Igor', 'Igor', 'Igor', 'Igor', 'Igor', 'Igor', 'Igor', 'Igor', 'Igor', 'Igor', 'Igor', 'Igor', 'Igor', 'Igor', 'Igor', 'Igor', 'Igor', 'Igor', 'Igor', 'Igor', 'Igor', 'Igor', 'Igor', 'Igor', 'Igor', 'Igor', 'Igor', 'Igor', 'Igor', 'Igor', 'Igor', 'Igor', 'Igor', 'Igor', 'Igor', 'Igor', 'Igor', 'Igor', 'Igor', 'Igor', 'Igor', 'Igor', 'Igor', 'Igor', 'Igor', 'Igor', 'Igor', 'Igor', 'Igor', 'Igor', 'Igor', 'Igor', 'Igor', 'Igor', 'Igor', 'Igor', 'Igor', 'Igor', 'Igor', 'Igor', 'Igor', 'Igor', 'Igor', 'Igor', 'Igor', 'Igor', 'Igor', 'Igor', 'Igor', 'Igor', 'Igor', 'Igor', 'Igor', 'Igor', 'Igor', 'Igor', 'Igor', 'Igor', 'Igor', 'Igor', 'Igor', 'Igor', 'Igor', 'Igor', 'Igor', 'Igor', 'Igor', 'Igor', 'Igor', 'Igor', 'Igor', 'Igor', 'Igor', 'Igor', 'Igor', 'Igor', 'Igor', 'Igor', 'Igor', 'Igor', 'Igor', 'Igor', 'Igor', 'Igor', 'Igor', 'Igor', 'Igor', 'Igor', 'Igor', 'Igor', 'Igor', 'Igor', 'Igor', 'Igor', 'Igor', 'Igor', 'Igor', 'Igor', 'Igor', 'Igor', 'Igor', 'Igor', 'Igor', 'Igor', 'Igor', 'Igor', 'Igor', 'Igor', 'Igor', 'Igor', 'Igor', 'Igor', 'Igor', 'Igor', 'Igor', 'Igor', 'Igor', 'Igor', 'Igor', 'Igor', 'Igor', 'Igor', 'Igor', 'Igor', 'Igor', 'Igor', 'Igor', 'Igor', 'Igor', 'Igor', 'Igor', 'Igor', 'Igor', 'Igor', 'Igor', 'Igor', 'Igor', 'Igor', 'Igor', 'Igor', 'Igor', 'Igor', 'Igor', 'Igor', 'Igor', 'Igor', 'Igor', 'Igor', 'Igor', 'Igor', 'Igor', 'Igor', 'Igor', 'Igor', 'Igor', 'Igor', 'Igor', 'Igor', 'Igor', 'Igor', 'Igor', 'Igor', 'Igor', 'Igor', 'Igor', 'Igor', 'Igor', 'Igor', 'Igor', 'Igor', 'Igor', 'Igor', 'Igor', 'Igor', 'Igor', 'Igor', 'Igor', 'Igor', 'Igor', 'Igor', 'Igor', 'Igor', 'Igor', 'Igor', 'Igor', 'Igor', 'Igor', 'Igor', 'Igor', 'Igor', 'Igor', 'Igor', 'Igor', 'Igor', 'Igor', 'Igor', 'Igor', 'Igor', 'Igor', 'Igor', 'Igor', 'Igor', 'Igor', 'Igor', 'Igor', 'Igor', 'Igor', 'Igor', 'Igor', 'Igor', 'Igor', 'Igor', 'Igor', 'Igor', 'Igor', 'Igor', 'Igor', 'Igor', 'Igor', 'Igor', 'Igor', 'Igor', 'Igor', 'Igor', 'Igor', 'Igor', 'Igor', 'Igor', 'Igor', 'Igor', 'Igor', 'Igor', 'Igor', 'Igor', 'Igor', 'Igor', 'Igor', 'Igor', 'Igor', 'Igor', 'Igor', 'Igor', 'Igor', 'Igor', 'Igor', 'Igor', 'Igor', 'Igor']\n",
            "{'Igor'}\n"
          ],
          "name": "stdout"
        }
      ]
    },
    {
      "cell_type": "markdown",
      "metadata": {
        "id": "Gh2Zyy7TzSRW"
      },
      "source": [
        "### Własne typy"
      ]
    },
    {
      "cell_type": "code",
      "metadata": {
        "id": "Ets0PoEezSRW"
      },
      "source": [
        "zajecia = [[\"wf\"],\n",
        "           [\"informatyka\", \"nauka czytania\"],\n",
        "           [\"relax\", \"jedzenie\"],\n",
        "           [\"mispy\",\"mispy w domu\"],\n",
        "           [\"piateczek\", \"praca domowa z mispow\", \"Ilovemispy\", \"mispy w czasie snu\"]\n",
        "          ]\n",
        "\n",
        "dnityg= [\"Pon\",\"Wto\",\"Sro\",\"Czwar\",\"Pio\"]\n",
        "\n",
        "def dodaj_dwie_liczby(liczba1,liczba2):\n",
        "    return liczba1+liczba2"
      ],
      "execution_count": null,
      "outputs": []
    },
    {
      "cell_type": "code",
      "metadata": {
        "id": "stf6HwWczSRZ"
      },
      "source": [
        "class DzienZajec(): # tworzymy klase o nazwie dzień zajęć\n",
        "    \"\"\"obiekt trzymający dany dzień zajęć i przypisane mu metody\"\"\"\n",
        "    \n",
        "    \n",
        "    def __init__(self, lista_na_dany_dzien, nazwa_dnia): #definicja ,self to odniesienie w tym przypadku do Dzien zajec czyli do nazwy klasy\n",
        "        self.lista_zajec= lista_na_dany_dzien\n",
        "        self.dzien = nazwa_dnia\n",
        "        \n",
        "\n",
        "    \n",
        "    def ile_mispow(self):\n",
        "        ile_m = sum([1 for zajecie in self.lista_zajec if \"misp\" in zajecie.lower()])\n",
        "        return ile_m\n",
        "\n",
        "    @property #zamienia na wlasciwosc   \n",
        "    def ile_zajec(self):\n",
        "        return len(self.lista_zajec)\n",
        "    \n",
        "    def __repr__(self):\n",
        "        zajecia_do_stringa = \", \".join(self.lista_zajec)\n",
        "        return \"W dzien {} mam zajecia: {}\".format(self.dzien, zajecia_do_stringa)\n",
        "    "
      ],
      "execution_count": null,
      "outputs": []
    },
    {
      "cell_type": "code",
      "metadata": {
        "id": "DnJalFjdzSRe"
      },
      "source": [
        "pio_zajecia = DzienZajec([\"piateczek\", \"praca domowa z mispow\", \"Ilovemispy\", \"mispy w czasie snu\"],\n",
        "                        \"piatek\")"
      ],
      "execution_count": null,
      "outputs": []
    },
    {
      "cell_type": "code",
      "metadata": {
        "id": "qKG3vpy6zSRh",
        "colab": {
          "base_uri": "https://localhost:8080/",
          "height": 34
        },
        "outputId": "dc757f1e-79fd-43a8-ea3e-78618d97fd40"
      },
      "source": [
        "pio_zajecia.ile_zajec"
      ],
      "execution_count": null,
      "outputs": [
        {
          "output_type": "execute_result",
          "data": {
            "text/plain": [
              "4"
            ]
          },
          "metadata": {
            "tags": []
          },
          "execution_count": 4
        }
      ]
    },
    {
      "cell_type": "code",
      "metadata": {
        "id": "ycCngHlezSRm",
        "colab": {
          "base_uri": "https://localhost:8080/",
          "height": 34
        },
        "outputId": "2ee80555-dbfe-4d0c-fe09-0463c8622454"
      },
      "source": [
        "print(pio_zajecia)"
      ],
      "execution_count": null,
      "outputs": [
        {
          "output_type": "stream",
          "text": [
            "W dzien piatek mam zajecia: piateczek, praca domowa z mispow, Ilovemispy, mispy w czasie snu\n"
          ],
          "name": "stdout"
        }
      ]
    },
    {
      "cell_type": "code",
      "metadata": {
        "id": "Pd3Y_84NzSRo",
        "colab": {
          "base_uri": "https://localhost:8080/",
          "height": 34
        },
        "outputId": "63da8ca2-c75b-4886-e1b7-91d5a08d0d61"
      },
      "source": [
        "pio_zajecia.lista_zajec"
      ],
      "execution_count": null,
      "outputs": [
        {
          "output_type": "execute_result",
          "data": {
            "text/plain": [
              "['piateczek', 'praca domowa z mispow', 'Ilovemispy', 'mispy w czasie snu']"
            ]
          },
          "metadata": {
            "tags": []
          },
          "execution_count": 6
        }
      ]
    },
    {
      "cell_type": "code",
      "metadata": {
        "id": "myPzb1-4zSRs",
        "colab": {
          "base_uri": "https://localhost:8080/",
          "height": 34
        },
        "outputId": "85d33781-4d37-4d1f-9940-5b5076bb1040"
      },
      "source": [
        "pio_zajecia.lista_zajec.append(\"MISP\")\n",
        "print(pio_zajecia.lista_zajec)"
      ],
      "execution_count": null,
      "outputs": [
        {
          "output_type": "stream",
          "text": [
            "['piateczek', 'praca domowa z mispow', 'Ilovemispy', 'mispy w czasie snu', 'MISP']\n"
          ],
          "name": "stdout"
        }
      ]
    },
    {
      "cell_type": "code",
      "metadata": {
        "id": "MfcK53mrzSRv",
        "colab": {
          "base_uri": "https://localhost:8080/",
          "height": 34
        },
        "outputId": "d3a309fb-fd58-4665-c1be-5991f2daeb1f"
      },
      "source": [
        "pio_zajecia.ile_mispow()"
      ],
      "execution_count": null,
      "outputs": [
        {
          "output_type": "execute_result",
          "data": {
            "text/plain": [
              "4"
            ]
          },
          "metadata": {
            "tags": []
          },
          "execution_count": 8
        }
      ]
    },
    {
      "cell_type": "code",
      "metadata": {
        "id": "TUHdsKutzSRy",
        "colab": {
          "base_uri": "https://localhost:8080/",
          "height": 34
        },
        "outputId": "cff47b2b-9fcd-4d39-ba7a-fc4369d42c79"
      },
      "source": [
        "print(pio_zajecia.lista_zajec)\n"
      ],
      "execution_count": null,
      "outputs": [
        {
          "output_type": "stream",
          "text": [
            "['piateczek', 'praca domowa z mispow', 'Ilovemispy', 'mispy w czasie snu', 'MISP']\n"
          ],
          "name": "stdout"
        }
      ]
    },
    {
      "cell_type": "code",
      "metadata": {
        "id": "zMiPe7MKzSR0",
        "colab": {
          "base_uri": "https://localhost:8080/",
          "height": 34
        },
        "outputId": "2856695a-f7cb-4945-e5ba-2b8e3d4d5b1c"
      },
      "source": [
        "pio_zajecia"
      ],
      "execution_count": null,
      "outputs": [
        {
          "output_type": "execute_result",
          "data": {
            "text/plain": [
              "W dzien piatek mam zajecia: piateczek, praca domowa z mispow, Ilovemispy, mispy w czasie snu, MISP"
            ]
          },
          "metadata": {
            "tags": []
          },
          "execution_count": 10
        }
      ]
    },
    {
      "cell_type": "code",
      "metadata": {
        "id": "hHH3YU-XzSR4",
        "colab": {
          "base_uri": "https://localhost:8080/",
          "height": 34
        },
        "outputId": "b95d3dfb-043c-473a-ee2c-c234d13d4c2b"
      },
      "source": [
        "print(pio_zajecia.ile_zajec)"
      ],
      "execution_count": null,
      "outputs": [
        {
          "output_type": "stream",
          "text": [
            "5\n"
          ],
          "name": "stdout"
        }
      ]
    },
    {
      "cell_type": "code",
      "metadata": {
        "id": "oChJ5hMEzSR6"
      },
      "source": [
        "lista_zajec= [DzienZajec(lista_dzien, dzien) for lista_dzien, dzien in \n",
        "             zip(zajecia,dnityg)]"
      ],
      "execution_count": null,
      "outputs": []
    },
    {
      "cell_type": "code",
      "metadata": {
        "id": "I6whtcM3zSR9",
        "colab": {
          "base_uri": "https://localhost:8080/",
          "height": 54
        },
        "outputId": "a22889c8-8ad6-40d5-f415-5b96d6cbf349"
      },
      "source": [
        "print(lista_zajec)"
      ],
      "execution_count": null,
      "outputs": [
        {
          "output_type": "stream",
          "text": [
            "[W dzien Pon mam zajecia: wf, W dzien Wto mam zajecia: informatyka, nauka czytania, W dzien Sro mam zajecia: relax, jedzenie, W dzien Czwar mam zajecia: mispy, mispy w domu, W dzien Pio mam zajecia: piateczek, praca domowa z mispow, Ilovemispy, mispy w czasie snu]\n"
          ],
          "name": "stdout"
        }
      ]
    },
    {
      "cell_type": "code",
      "metadata": {
        "id": "YtTz7aDtzSSA"
      },
      "source": [
        "posortowane_po_zajeciach=sorted(lista_zajec, key= lambda zajecie: zajecie.ile_zajec)\n",
        "posortowane_po_mispach=sorted(lista_zajec, key= lambda zajecie: zajecie.ile_mispow())"
      ],
      "execution_count": null,
      "outputs": []
    },
    {
      "cell_type": "code",
      "metadata": {
        "id": "F1zEi77gzSSD",
        "colab": {
          "base_uri": "https://localhost:8080/",
          "height": 54
        },
        "outputId": "3d4eba87-e439-4f90-aab6-996a7bc685c4"
      },
      "source": [
        "print(posortowane_po_zajeciach)"
      ],
      "execution_count": null,
      "outputs": [
        {
          "output_type": "stream",
          "text": [
            "[W dzien Pon mam zajecia: wf, W dzien Wto mam zajecia: informatyka, nauka czytania, W dzien Sro mam zajecia: relax, jedzenie, W dzien Czwar mam zajecia: mispy, mispy w domu, W dzien Pio mam zajecia: piateczek, praca domowa z mispow, Ilovemispy, mispy w czasie snu]\n"
          ],
          "name": "stdout"
        }
      ]
    },
    {
      "cell_type": "code",
      "metadata": {
        "id": "ibFA2MmSzSSH",
        "colab": {
          "base_uri": "https://localhost:8080/",
          "height": 54
        },
        "outputId": "a3541dfb-aba7-4574-93cd-c745fb92ed78"
      },
      "source": [
        "print(posortowane_po_mispach)"
      ],
      "execution_count": null,
      "outputs": [
        {
          "output_type": "stream",
          "text": [
            "[W dzien Pon mam zajecia: wf, W dzien Wto mam zajecia: informatyka, nauka czytania, W dzien Sro mam zajecia: relax, jedzenie, W dzien Czwar mam zajecia: mispy, mispy w domu, W dzien Pio mam zajecia: piateczek, praca domowa z mispow, Ilovemispy, mispy w czasie snu]\n"
          ],
          "name": "stdout"
        }
      ]
    },
    {
      "cell_type": "markdown",
      "metadata": {
        "id": "XO7nomUdzSSO"
      },
      "source": [
        "##### challenge 1\n",
        "\n",
        "Stworz typ NumerTelefonu\n",
        "\n",
        " -- przy tworzeniu sprawdza czy właściwy numer (Polski) jeśli nie pisze, że error (ew. Exception)\n",
        " \n",
        " -- gdy printuję to mi pisze polskimi słowami i.e. \"jeden, pięć, siedem, zero\"\n",
        " \n",
        " -- gdy wywołuję właściwość wojewodzwtwo, podaje mi wojewodztwo ew. ze to komorkowy\n",
        " \n",
        " "
      ]
    },
    {
      "cell_type": "code",
      "metadata": {
        "id": "y1XBAp-dzSSP"
      },
      "source": [
        "# ma na takie rzeczy być w stanie odpowiedzieć\n",
        "#typ i klasa numeru\n",
        "class NumerTelefonu():\n",
        "\n",
        "    def __init__(self, lista_numeru): \n",
        "        self.numer= lista_numeru\n",
        "        \n",
        "\n",
        "    def czy_prawidlowy_nr(self):\n",
        "        if \"4\" in self.numer[0] !=0 and (len(self.numer))==9:\n",
        "          print(\"prawidlowy numer\")\n",
        "        else:\n",
        "          print(\"Błąd\")\n",
        "  \n",
        "    def __repr__(self):\n",
        "        a=[]\n",
        "        for cyfra in self.numer:\n",
        "          if cyfra == \"1\":\n",
        "            a.append(\"jeden\")\n",
        "          elif cyfra == \"2\":\n",
        "            a.append(\"dwa\")\n",
        "          elif cyfra == \"3\":\n",
        "            a.append(\"trzy\")\n",
        "          elif cyfra == \"4\":\n",
        "            a.append(\"cztery\")\n",
        "          elif cyfra == \"5\":\n",
        "            a.append(\"pięć\")\n",
        "          elif cyfra == \"6\":\n",
        "            a.append(\"sześć\")\n",
        "          elif cyfra == \"7\":\n",
        "            a.append(\"siedem\")\n",
        "          elif cyfra == \"8\":\n",
        "            a.append(\"osiem\")\n",
        "          elif cyfra == \"9\":\n",
        "            a.append(\"dziewięć\")\n",
        "          else:\n",
        "            a.append(\"zero\") \n",
        "        return \"{}\".format(a)\n",
        "\n",
        "    def wojewodztwo(self):\n",
        "        if \"4\" in self.numer[0] and \"2\" in self.numer[1]:\n",
        "          print(\"Łódź\")\n",
        "        else:\n",
        "          print(\"inne woj\")       \n",
        "\n",
        " \n",
        "\n",
        "\n",
        "\n",
        "\n",
        "#>>> \"prawidlowy numer\"\n",
        "\n",
        "#print(\"*\"*20)\n",
        "\n",
        "#numer_lodz.wojewodztwo \n",
        "#>>> \"Lodz\"\n",
        "\n",
        "#print(\"*\"*20)\n",
        "\n",
        "#print(numer_lodz)\n",
        "#>>> \"cztery dwa sześć osiem siedem siedem osiem sześć osiem\""
      ],
      "execution_count": null,
      "outputs": []
    },
    {
      "cell_type": "code",
      "metadata": {
        "id": "6H27LCeq2rg_",
        "colab": {
          "base_uri": "https://localhost:8080/",
          "height": 68
        },
        "outputId": "c7bb0ed6-2677-4f9e-f18e-655b85550780"
      },
      "source": [
        "numer_lodz = NumerTelefonu(\"426877868\")\n",
        "numer_lodz.czy_prawidlowy_nr()\n",
        "print(numer_lodz)\n",
        "numer_lodz.wojewodztwo() "
      ],
      "execution_count": null,
      "outputs": [
        {
          "output_type": "stream",
          "text": [
            "prawidlowy numer\n",
            "['cztery', 'dwa', 'sześć', 'osiem', 'siedem', 'siedem', 'osiem', 'sześć', 'osiem']\n",
            "Łódź\n"
          ],
          "name": "stdout"
        }
      ]
    }
  ]
}
{
  "nbformat": 4,
  "nbformat_minor": 0,
  "metadata": {
    "colab": {
      "name": "Cwiczenia_3.ipynb",
      "provenance": [],
      "collapsed_sections": [],
      "authorship_tag": "ABX9TyNh00SoY+8Noq/4EVhoBi8w",
      "include_colab_link": true
    },
    "kernelspec": {
      "name": "python3",
      "display_name": "Python 3"
    }
  },
  "cells": [
    {
      "cell_type": "markdown",
      "metadata": {
        "id": "view-in-github",
        "colab_type": "text"
      },
      "source": [
        "<a href=\"https://colab.research.google.com/github/Pelosomelo/Misp/blob/main/Cwiczenia_3.ipynb\" target=\"_parent\"><img src=\"https://colab.research.google.com/assets/colab-badge.svg\" alt=\"Open In Colab\"/></a>"
      ]
    },
    {
      "cell_type": "code",
      "metadata": {
        "id": "RNcBtSl38Puw"
      },
      "source": [
        "!pip install pulp\r\n",
        "\r\n",
        "!sudo apt-get install coinor-cbc glpk-utils coinor-clp"
      ],
      "execution_count": null,
      "outputs": []
    },
    {
      "cell_type": "code",
      "metadata": {
        "colab": {
          "base_uri": "https://localhost:8080/"
        },
        "id": "ZHZV_JNJ8akB",
        "outputId": "4a4610ee-586f-4fa6-f35b-91e1f92ab811"
      },
      "source": [
        "### kod sprawdza czy instalacja się udała\r\n",
        "import pulp\r\n",
        "\r\n",
        "print(pulp.__version__)"
      ],
      "execution_count": 2,
      "outputs": [
        {
          "output_type": "stream",
          "text": [
            "2.3.1\n"
          ],
          "name": "stdout"
        }
      ]
    },
    {
      "cell_type": "markdown",
      "metadata": {
        "id": "J6oL2FCw8gun"
      },
      "source": [
        "Zadania:\r\n",
        "przeczytaj materiały dotyczące pulp ze strony internetowej https://coin-or.github.io/pulp/main/index.html oraz przejdź przez blending problem (przepisz do swojego notebooka)\r\n",
        "\r\n",
        "w blending problem dodaj zmienną decyzyjną. Stwórz zmienną która pojawi się w końcowym składzie produktu (tj. wartość zmiennej będzie miała niezerową postać)\r\n",
        "\r\n",
        "Dodaj ograniczenie co do zawartości witaminy B\r\n",
        "\r\n",
        "Zawartość:\r\n",
        "\r\n",
        "Nazwa\tzawartość ug/100g\r\n",
        "chicken\t0.3\r\n",
        "beef\t2.6\r\n",
        "mutton\t2.6\r\n",
        "rice\t0\r\n",
        "wheat bran\t0\r\n",
        "gel\t0\r\n",
        "sardines\t8.9\r\n",
        "Kot ma zjeść minimum 0.24 ug na kilogram masy więc około 0.8 ug dziennie\r\n",
        "\r\n",
        "Na końcu ma pojawiać się zdanie podsumowujące wynik, w stylu: Końcowy produkt będzie kosztować {}, będzie miał w składzie {nazwa}: {} %, {nastepna nazwa}: {} %\r\n",
        "Takie zdanie można skleić z części generowanych automatycznie:"
      ]
    },
    {
      "cell_type": "code",
      "metadata": {
        "colab": {
          "base_uri": "https://localhost:8080/"
        },
        "id": "NLZG-eDo8q2y",
        "outputId": "23a30abf-b0ad-4e8d-e4a8-5606d427741e"
      },
      "source": [
        "#pierwsza wersja kodu\r\n",
        "from pulp import *\r\n",
        "prob = LpProblem(\"The Whiskas Problem\",LpMinimize)\r\n",
        "LpVariable(\"example\", None, 100)\r\n",
        "x1=LpVariable(\"ChickenPercent\",0,None,LpInteger)\r\n",
        "x2=LpVariable(\"BeefPercent\",0)\r\n",
        "x3=LpVariable(\"witaminy B\",0)\r\n",
        "prob += 0.013*x1 + 0.008*x2 + 0.012*x3, \"Total Cost of Ingredients per can\"\r\n",
        "prob += x1 + x2 + x3 == 100, \"PercentagesSum\"\r\n",
        "prob += 0.100*x1 + 0.200*x2 +0.050*x3 >= 8.0, \"ProteinRequirement\"\r\n",
        "prob += 0.080*x1 + 0.100*x2 +0.100*x3>= 6.0, \"FatRequirement\"\r\n",
        "prob += 0.001*x1 + 0.005*x2 +0.0005*x3<= 2.0, \"FibreRequirement\"\r\n",
        "prob += 0.002*x1 + 0.005*x2 +0.004*x3<= 0.4, \"SaltRequirement\"\r\n",
        "prob += 0.300*x1 + 2.600*x2 +0.004*x3>= 0.8, \"Witamina B\"\r\n",
        "prob.writeLP(\"WhiskasModel.lp\")\r\n",
        "prob.solve()\r\n",
        "print(\"Status:\", LpStatus[prob.status])\r\n",
        "for v in prob.variables():\r\n",
        "    print(v.name, \"=\", v.varValue)\r\n",
        "print(\"Total Cost of Ingredients per can = \", value(prob.objective))\r\n",
        "print(\"Całkowity koszt = \", value(prob.objective),\", będzie miał w składzie:\",\"ChickenPercent:\",x1.varValue,\"% ,BeefPercent:\",x2.varValue,\"% ,witaminy B:\",x3.varValue,\"%\")"
      ],
      "execution_count": 3,
      "outputs": [
        {
          "output_type": "stream",
          "text": [
            "Status: Optimal\n",
            "BeefPercent = 66.0\n",
            "ChickenPercent = 33.0\n",
            "witaminy_B = 1.0\n",
            "Total Cost of Ingredients per can =  0.9690000000000001\n",
            "Całkowity koszt =  0.9690000000000001 , będzie miał w składzie: ChickenPercent: 33.0 % ,BeefPercent: 66.0 % ,witaminy B: 1.0 %\n"
          ],
          "name": "stdout"
        },
        {
          "output_type": "stream",
          "text": [
            "/usr/local/lib/python3.6/dist-packages/pulp/pulp.py:1198: UserWarning: Spaces are not permitted in the name. Converted to '_'\n",
            "  warnings.warn(\"Spaces are not permitted in the name. Converted to '_'\")\n"
          ],
          "name": "stderr"
        }
      ]
    },
    {
      "cell_type": "code",
      "metadata": {
        "colab": {
          "base_uri": "https://localhost:8080/"
        },
        "id": "WS_IW9sD8x_C",
        "outputId": "faedc64b-0f66-46c4-c5cb-4ff94f04bd21"
      },
      "source": [
        "#druga wersja kodu\r\n",
        "from pulp import *\r\n",
        "Ingredients = ['CHICKEN', 'BEEF', 'MUTTON', 'RICE', 'WHEAT', 'GEL','witaminy B']\r\n",
        "\r\n",
        "# A dictionary of the costs of each of the Ingredients is created\r\n",
        "costs = {'CHICKEN': 0.013, \r\n",
        "         'BEEF': 0.008, \r\n",
        "         'MUTTON': 0.010, \r\n",
        "         'RICE': 0.002, \r\n",
        "         'WHEAT': 0.005, \r\n",
        "         'GEL': 0.001,\r\n",
        "         'witaminy B':0.012}\r\n",
        "\r\n",
        "# A dictionary of the protein percent in each of the Ingredients is created\r\n",
        "proteinPercent = {'CHICKEN': 0.100, \r\n",
        "                  'BEEF': 0.200, \r\n",
        "                  'MUTTON': 0.150, \r\n",
        "                  'RICE': 0.000, \r\n",
        "                  'WHEAT': 0.040, \r\n",
        "                  'GEL': 0.000,\r\n",
        "                  'witaminy B':0.050}\r\n",
        "\r\n",
        "# A dictionary of the fat percent in each of the Ingredients is created\r\n",
        "fatPercent = {'CHICKEN': 0.080, \r\n",
        "              'BEEF': 0.100, \r\n",
        "              'MUTTON': 0.110, \r\n",
        "              'RICE': 0.010, \r\n",
        "              'WHEAT': 0.010, \r\n",
        "              'GEL': 0.000,\r\n",
        "              'witaminy B':0.200}\r\n",
        "\r\n",
        "# A dictionary of the fibre percent in each of the Ingredients is created\r\n",
        "fibrePercent = {'CHICKEN': 0.001, \r\n",
        "                'BEEF': 0.005, \r\n",
        "                'MUTTON': 0.003, \r\n",
        "                'RICE': 0.100, \r\n",
        "                'WHEAT': 0.150, \r\n",
        "                'GEL': 0.000,\r\n",
        "                'witaminy B':0.0005}\r\n",
        "\r\n",
        "# A dictionary of the salt percent in each of the Ingredients is created\r\n",
        "saltPercent = {'CHICKEN': 0.002, \r\n",
        "               'BEEF': 0.005, \r\n",
        "               'MUTTON': 0.007, \r\n",
        "               'RICE': 0.002, \r\n",
        "               'WHEAT': 0.008, \r\n",
        "               'GEL': 0.000,\r\n",
        "               'witaminy B':0.004}\r\n",
        "# A dictionary of the Kanapka percent in each of the Ingredients is created\r\n",
        "WitaminaBPercent = {'CHICKEN': 0.3, \r\n",
        "               'BEEF': 2.6, \r\n",
        "               'MUTTON': 2.6, \r\n",
        "               'RICE': 0.0, \r\n",
        "               'WHEAT': 0.00, \r\n",
        "               'GEL': 0.000,\r\n",
        "               'witaminy B':0.004}\r\n",
        "prob = LpProblem(\"The Whiskas Problem\", LpMinimize)\r\n",
        "ingredient_vars = LpVariable.dicts(\"Ingr\",Ingredients,0)\r\n",
        "prob += lpSum([costs[i]*ingredient_vars[i] for i in Ingredients]),\"Total Cost of Ingredients per can\"\r\n",
        "prob += lpSum([ingredient_vars[i] for i in Ingredients]) == 100, \"PercentagesSum\"\r\n",
        "prob += lpSum([proteinPercent[i] * ingredient_vars[i] for i in Ingredients]) >= 8.0, \"ProteinRequirement\"\r\n",
        "prob += lpSum([fatPercent[i] * ingredient_vars[i] for i in Ingredients]) >= 6.0, \"FatRequirement\"\r\n",
        "prob += lpSum([fibrePercent[i] * ingredient_vars[i] for i in Ingredients]) <= 2.0, \"FibreRequirement\"\r\n",
        "prob += lpSum([saltPercent[i] * ingredient_vars[i] for i in Ingredients]) <= 0.4, \"SaltRequirement\"\r\n",
        "prob += lpSum([WitaminaBPercent[i] * ingredient_vars[i] for i in Ingredients]) >= 0.8, \"WitaminaBRequirement\"\r\n",
        "\r\n",
        "prob.solve()\r\n",
        "print(\"Całkowity koszt = \", value(prob.objective),\", będzie miał w składzie:\")\r\n",
        "for v in prob.variables():\r\n",
        "    print(v.name, \"=\", v.varValue)\r\n",
        "\r\n"
      ],
      "execution_count": 4,
      "outputs": [
        {
          "output_type": "stream",
          "text": [
            "Całkowity koszt =  0.48571427899999997 , będzie miał w składzie:\n",
            "Ingr_BEEF = 37.142857\n",
            "Ingr_CHICKEN = 0.0\n",
            "Ingr_GEL = 51.428571\n",
            "Ingr_MUTTON = 0.0\n",
            "Ingr_RICE = 0.0\n",
            "Ingr_WHEAT = 0.0\n",
            "Ingr_witaminy_B = 11.428571\n"
          ],
          "name": "stdout"
        },
        {
          "output_type": "stream",
          "text": [
            "/usr/local/lib/python3.6/dist-packages/pulp/pulp.py:1198: UserWarning: Spaces are not permitted in the name. Converted to '_'\n",
            "  warnings.warn(\"Spaces are not permitted in the name. Converted to '_'\")\n"
          ],
          "name": "stderr"
        }
      ]
    }
  ]
}
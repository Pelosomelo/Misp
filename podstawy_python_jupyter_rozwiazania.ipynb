{
  "nbformat": 4,
  "nbformat_minor": 0,
  "metadata": {
    "kernelspec": {
      "display_name": "Python 3",
      "language": "python",
      "name": "python3"
    },
    "language_info": {
      "codemirror_mode": {
        "name": "ipython",
        "version": 3
      },
      "file_extension": ".py",
      "mimetype": "text/x-python",
      "name": "python",
      "nbconvert_exporter": "python",
      "pygments_lexer": "ipython3",
      "version": "3.7.3"
    },
    "colab": {
      "name": "podstawy_python_jupyter-rozwiazania.ipynb",
      "provenance": [],
      "include_colab_link": true
    }
  },
  "cells": [
    {
      "cell_type": "markdown",
      "metadata": {
        "id": "view-in-github",
        "colab_type": "text"
      },
      "source": [
        "<a href=\"https://colab.research.google.com/github/Pelosomelo/Misp/blob/main/podstawy_python_jupyter_rozwiazania.ipynb\" target=\"_parent\"><img src=\"https://colab.research.google.com/assets/colab-badge.svg\" alt=\"Open In Colab\"/></a>"
      ]
    },
    {
      "cell_type": "markdown",
      "metadata": {
        "id": "Qd4j6OnTnRqR"
      },
      "source": [
        "# Podstawowe zasady jupyter"
      ]
    },
    {
      "cell_type": "code",
      "metadata": {
        "id": "ZLk6z8tGnRqS"
      },
      "source": [
        "! ls"
      ],
      "execution_count": null,
      "outputs": []
    },
    {
      "cell_type": "code",
      "metadata": {
        "id": "MUgP8_45nRqX"
      },
      "source": [
        "! conda install -c conda-forge pulp -y"
      ],
      "execution_count": null,
      "outputs": []
    },
    {
      "cell_type": "markdown",
      "metadata": {
        "id": "a4mGpYnAnRqb"
      },
      "source": [
        "# Podstawy pracy z Python"
      ]
    },
    {
      "cell_type": "code",
      "metadata": {
        "id": "tK6dUoNGnRqc",
        "outputId": "d0f64095-dc20-4e6b-fb5b-7a62bb909e37"
      },
      "source": [
        "# komentarz\n",
        "\n",
        "# if\n",
        "\n",
        "wielkosc = 5\n",
        "\n",
        "print(wielkosc)"
      ],
      "execution_count": null,
      "outputs": [
        {
          "output_type": "stream",
          "text": [
            "5\n"
          ],
          "name": "stdout"
        }
      ]
    },
    {
      "cell_type": "code",
      "metadata": {
        "id": "MIFzTNuanRqg",
        "outputId": "53a4d7a0-77bc-4172-fea8-d2d9abb43d85"
      },
      "source": [
        "if wielkosc >6:\n",
        "    print(\"ale duze\")\n",
        "elif wielkosc < 3:\n",
        "    print(\"malutkie\")\n",
        "    print('franek')\n",
        "else:\n",
        "    print(\"w sam raz\")"
      ],
      "execution_count": null,
      "outputs": [
        {
          "output_type": "stream",
          "text": [
            "w sam raz\n"
          ],
          "name": "stdout"
        }
      ]
    },
    {
      "cell_type": "code",
      "metadata": {
        "id": "JDw8T6xFnRqk",
        "outputId": "3e705da6-60fd-448b-b14a-62fe56271c36"
      },
      "source": [
        "studenci = [\"Ania\", \"Zosia\", \"Kasia\", \"Franek\"]\n",
        "\n",
        "print(studenci)"
      ],
      "execution_count": null,
      "outputs": [
        {
          "output_type": "stream",
          "text": [
            "['Ania', 'Zosia', 'Kasia', 'Franek']\n"
          ],
          "name": "stdout"
        }
      ]
    },
    {
      "cell_type": "code",
      "metadata": {
        "id": "yJcUxk9_nRqo",
        "outputId": "c224774b-4ba3-4e0f-ed46-1e50cdfb0aad"
      },
      "source": [
        "studenci[0][1]"
      ],
      "execution_count": null,
      "outputs": [
        {
          "output_type": "execute_result",
          "data": {
            "text/plain": [
              "'Ania'"
            ]
          },
          "metadata": {
            "tags": []
          },
          "execution_count": 16
        }
      ]
    },
    {
      "cell_type": "code",
      "metadata": {
        "scrolled": true,
        "id": "HEeNGG-5nRqr",
        "outputId": "e7d5948e-9f8a-4b87-b695-13c2a4e72636"
      },
      "source": [
        "for student in studenci:\n",
        "    print(\"student ma na imie:\", student)\n",
        "    \n",
        "for student in studenci:\n",
        "    print(student)\n",
        "    if student[0]==\"A\":\n",
        "        print(\"student na poczatku alfabetu\")"
      ],
      "execution_count": null,
      "outputs": [
        {
          "output_type": "stream",
          "text": [
            "student ma na imie: Ania\n",
            "student ma na imie: Zosia\n",
            "student ma na imie: Kasia\n",
            "student ma na imie: Franek\n",
            "Ania\n",
            "student na poczatku alfabetu\n",
            "Zosia\n",
            "Kasia\n",
            "Franek\n"
          ],
          "name": "stdout"
        }
      ]
    },
    {
      "cell_type": "code",
      "metadata": {
        "id": "6OYw38oinRqy",
        "outputId": "f70804fe-c646-4576-9886-ebdecf49d986"
      },
      "source": [
        "for numer, student in enumerate(studenci):\n",
        "    print(\"student {} ma numer {}\".format(student,numer))"
      ],
      "execution_count": null,
      "outputs": [
        {
          "output_type": "stream",
          "text": [
            "student Ania ma numer 0\n",
            "student Zosia ma numer 1\n",
            "student Kasia ma numer 2\n",
            "student Franek ma numer 3\n"
          ],
          "name": "stdout"
        }
      ]
    },
    {
      "cell_type": "code",
      "metadata": {
        "id": "rZGAcGfTnRq1",
        "outputId": "c971aeb2-c62b-48ae-f1b6-3da7350e1c36"
      },
      "source": [
        "oceny = [2,2,5,3]\n",
        "\n",
        "for numer, student in enumerate(studenci):\n",
        "    print(\"student {} ma numer {} i ocenę {}\".format(student,numer,oceny[numer]))\n",
        "\n",
        "print(\"--\"*20)    \n",
        "for number, (student, ocena) in enumerate(zip(studenci,oceny)):\n",
        "    print(\"student {} ma numer {} i ocenę {}\".format(student,number,ocena))"
      ],
      "execution_count": null,
      "outputs": [
        {
          "output_type": "stream",
          "text": [
            "student Ania ma numer 0 i ocenę 2\n",
            "student Zosia ma numer 1 i ocenę 2\n",
            "student Kasia ma numer 2 i ocenę 5\n",
            "student Franek ma numer 3 i ocenę 3\n",
            "----------------------------------------\n",
            "student Ania ma numer 0 i ocenę 2\n",
            "student Zosia ma numer 1 i ocenę 2\n",
            "student Kasia ma numer 2 i ocenę 5\n",
            "student Franek ma numer 3 i ocenę 3\n"
          ],
          "name": "stdout"
        }
      ]
    },
    {
      "cell_type": "code",
      "metadata": {
        "id": "09s77sDnnRq7"
      },
      "source": [
        "trzy_elementy= [1,2,3]\n",
        "pierwszy,drugi,trzeci= trzy_elementy"
      ],
      "execution_count": null,
      "outputs": []
    },
    {
      "cell_type": "code",
      "metadata": {
        "id": "aRxt2MxPnRq-",
        "outputId": "a73521f4-1f00-4026-de48-a44751a8545b"
      },
      "source": [
        "n = 1\n",
        "\n",
        "while(n < 10):\n",
        "    print(n)\n",
        "    n+=1"
      ],
      "execution_count": null,
      "outputs": [
        {
          "output_type": "stream",
          "text": [
            "1\n",
            "2\n",
            "3\n",
            "4\n",
            "5\n",
            "6\n",
            "7\n",
            "8\n",
            "9\n"
          ],
          "name": "stdout"
        }
      ]
    },
    {
      "cell_type": "code",
      "metadata": {
        "id": "NLWplsWznRrB"
      },
      "source": [
        "def dodaj_dwa(liczba):\n",
        "    return liczba+2\n",
        "\n",
        "def dodaj_trzy(liczba):\n",
        "    return liczba+3\n",
        "\n",
        "def dodaj_dwie_liczby(liczba1,liczba2)\n",
        "    return liczba1+liczba2\n",
        "\n",
        "\n",
        "dodaj_cztery = lambda liczba:liczba+4"
      ],
      "execution_count": null,
      "outputs": []
    },
    {
      "cell_type": "code",
      "metadata": {
        "id": "UvaGsyaBnRrE",
        "outputId": "e758e9a7-6b08-4a93-d419-826813868de3"
      },
      "source": [
        "funkcje=[dodaj_dwa,dodaj_trzy,dodaj_cztery]\n",
        "\n",
        "jakis_nr= 10\n",
        "\n",
        "for funkcja in funkcje:\n",
        "    print(funkcja(jakis_nr))"
      ],
      "execution_count": null,
      "outputs": [
        {
          "output_type": "stream",
          "text": [
            "12\n",
            "13\n",
            "14\n"
          ],
          "name": "stdout"
        }
      ]
    },
    {
      "cell_type": "code",
      "metadata": {
        "id": "MymnJgF3nRrH",
        "outputId": "8f9f03f8-a2d8-4f3e-8f19-22501cab82b6"
      },
      "source": [
        "studenci[0]\n",
        "studenci[1:]\n",
        "studenci[:-1]"
      ],
      "execution_count": null,
      "outputs": [
        {
          "output_type": "execute_result",
          "data": {
            "text/plain": [
              "['Ania', 'Zosia', 'Kasia']"
            ]
          },
          "metadata": {
            "tags": []
          },
          "execution_count": 35
        }
      ]
    },
    {
      "cell_type": "code",
      "metadata": {
        "id": "uXlP2PV3nRrJ",
        "colab": {
          "base_uri": "https://localhost:8080/",
          "height": 102
        },
        "outputId": "f2d0b693-900d-4426-a9f4-945186868d4a"
      },
      "source": [
        "#### challenge 0.1\n",
        "\n",
        "zajecia = [\"wf\",\"informatyka\",\"relax\",\"mispy\",\"piateczek\"]\n",
        "\n",
        "dnityg= [\"Pon\",\"Wto\",\"Sro\",\"Czwar\",\"Pio\"]\n",
        "\n",
        "# wyprintuj zajecia od srody do piatku\n",
        "# wyprintuj oprocz srody\n",
        "print(zajecia[2:])\n",
        "for zajecie,dzien_tyg in zip(zajecia,dnityg):\n",
        "    if dzien_tyg != \"Sro\":\n",
        "        print(zajecie)"
      ],
      "execution_count": null,
      "outputs": [
        {
          "output_type": "stream",
          "text": [
            "['relax', 'mispy', 'piateczek']\n",
            "wf\n",
            "informatyka\n",
            "mispy\n",
            "piateczek\n"
          ],
          "name": "stdout"
        }
      ]
    },
    {
      "cell_type": "code",
      "metadata": {
        "id": "KmzyeZK6nRrM",
        "outputId": "35670176-977c-48af-f5eb-576a9a05e992"
      },
      "source": [
        "print(zajecia[2:])\n"
      ],
      "execution_count": null,
      "outputs": [
        {
          "output_type": "stream",
          "text": [
            "['relax', 'mispy', 'piateczek']\n"
          ],
          "name": "stdout"
        }
      ]
    },
    {
      "cell_type": "code",
      "metadata": {
        "id": "86RuDH2LnRrP",
        "outputId": "46a988f5-276d-437f-e4b2-6db71bcbc2ec"
      },
      "source": [
        "ile_zajec(zajecia[2])"
      ],
      "execution_count": null,
      "outputs": [
        {
          "output_type": "execute_result",
          "data": {
            "text/plain": [
              "2"
            ]
          },
          "metadata": {
            "tags": []
          },
          "execution_count": 7
        }
      ]
    },
    {
      "cell_type": "code",
      "metadata": {
        "id": "BFjUh0bDnRrR"
      },
      "source": [
        ""
      ],
      "execution_count": null,
      "outputs": []
    },
    {
      "cell_type": "code",
      "metadata": {
        "id": "Nx4aHIpInRrU",
        "colab": {
          "base_uri": "https://localhost:8080/",
          "height": 51
        },
        "outputId": "f8d1a636-e7f7-4706-8451-c976cf96c9e8"
      },
      "source": [
        "#### challenge 0.2\n",
        "\n",
        "zajecia = [[\"informatyka\", \"nauka czytania\"],[\"Wf\"],\n",
        "           [\"relax\", \"jedzenie\"],\n",
        "           [\"mispy\",\"mispy w domu\"],\n",
        "           [\"piateczek\", \"praca domowa z mispow\", \"Ilovemispy\", \"mispy w czasie snu\"]\n",
        "          ]\n",
        "\n",
        "dnityg= [\"Pon\",\"Wto\",\"Sro\",\"Czwar\",\"Pio\"]\n",
        "\n",
        "# zdefiniuj funkcje ktora poda ile jest zajec danego dnia\n",
        "\n",
        "def ile_zajec(lista_dzien):\n",
        "    return len(lista_dzien)\n",
        "\n",
        "# lista_zajec_z_dnia -> ile ich jest\n",
        "\n",
        "# po\n",
        "# posortuj dni po najbardziej zajetych\n",
        "dzien_zajecia= list(zip(dnityg,zajecia))\n",
        "dzien_zajecia = sorted(dzien_zajecia, key= lambda krotka: ile_zajec(krotka[1]))\n",
        "print(dzien_zajecia)\n",
        "\n",
        "\n",
        "# dla kazdego dnia okreslamy ilosc zajec\n",
        "ile_zajec_lista=[]\n",
        "for zajecie in zajecia:\n",
        "    ile_zajec_lista.append(ile_zajec(zajecie))\n",
        "\n",
        "#alternatywnie inny zapis tego samego\n",
        "ile_zajec_lista=[ile_zajec(zajecie) for zajecie in zajecia]\n",
        "    \n",
        "# tworzymy krotke (indeks dnia, ile zajec)    \n",
        "ile_zajec_indeksy=list(enumerate(ile_zajec_lista))\n",
        "    \n",
        "print(ile_zajec_lista)\n",
        "\n",
        "# sortujemy takie pary po ilosci zajec\n",
        "posortowane_ile_zajec= sorted(ile_zajec_indeksy, key= lambda krotka:krotka[1])\n",
        "\n",
        "#indeksy = []\n",
        "#for krotka in posortowane_ile_zajec:\n",
        "#    indeksy.append(krotka[0])\n",
        "\n",
        "#wydostajemy posortowane indeksy (dwie metody)\n",
        "indeksy, _  = zip(*posortowane_ile_zajec)\n",
        "\n",
        "# wykorzystujemy indeksy zeby wyciagnac posortowane dni tygodnia\n",
        "posortowane_ile_zajec=[]\n",
        "for indeks in indeksy:\n",
        "    posortowane_ile_zajec.append(dnityg[indeks])\n",
        "\n",
        "posortowane_ile_zajec=[dnityg[indeks] for indeks in indeksy]\n",
        "    \n",
        "#### challenge 0.3\n",
        "\n",
        "# napisz program ktory zdajdzie dzien z najwieksza iloscia mispow"
      ],
      "execution_count": null,
      "outputs": [
        {
          "output_type": "stream",
          "text": [
            "[('Wto', ['Wf']), ('Pon', ['informatyka', 'nauka czytania']), ('Sro', ['relax', 'jedzenie']), ('Czwar', ['mispy', 'mispy w domu']), ('Pio', ['piateczek', 'praca domowa z mispow', 'Ilovemispy', 'mispy w czasie snu'])]\n",
            "[2, 1, 2, 2, 4]\n"
          ],
          "name": "stdout"
        }
      ]
    },
    {
      "cell_type": "code",
      "metadata": {
        "id": "RxdeNmiznRrW",
        "colab": {
          "base_uri": "https://localhost:8080/",
          "height": 34
        },
        "outputId": "93582564-99d6-4204-d408-16b7311b2bed"
      },
      "source": [
        "posortowane_ile_zajec"
      ],
      "execution_count": null,
      "outputs": [
        {
          "output_type": "execute_result",
          "data": {
            "text/plain": [
              "['Wto', 'Pon', 'Sro', 'Czwar', 'Pio']"
            ]
          },
          "metadata": {
            "tags": []
          },
          "execution_count": 3
        }
      ]
    },
    {
      "cell_type": "code",
      "metadata": {
        "id": "k3FcrU1lnRrZ"
      },
      "source": [
        ""
      ],
      "execution_count": null,
      "outputs": []
    },
    {
      "cell_type": "code",
      "metadata": {
        "id": "Yp87gtJ0nRrc",
        "outputId": "18431d49-c8c4-472e-cb0c-0570d3d14cbc"
      },
      "source": [
        "len(zajecia)\n",
        "\n",
        "zajecia[4][1]\n",
        "\n",
        "\"Ma\" in \"MojaMaMa\"\n",
        "\n",
        "liczby=[\"22\",\"11\",\"33\",\"100\"]\n",
        "liczby_i_nazwy= [(\"22\",\"dwadziescia dwa\"),\n",
        "                 (\"11\",\"jedenascie\"),\n",
        "        (\"33\",\"trzydziesci trzy\"),(\"100\",\"sto\")]\n",
        "sorted(liczby)\n",
        "\n",
        "sorted(liczby, key=int)\n",
        "\n",
        "liczby_kolejnosc= enumerate(liczby)\n",
        "\n",
        "def czy_jest_jeden(liczba):\n",
        "\n",
        "    if \"1\" in liczba:\n",
        "        return 1\n",
        "    else:\n",
        "        return 0\n",
        "def na_liczbe(krotka):\n",
        "         return int(krotka[0])\n",
        "def na_liczbe_index(krotka):\n",
        "         return int(krotka[1])    \n",
        "sorted(liczby, key=czy_jest_jeden)\n",
        "         \n",
        "sorted(liczby_i_nazwy,key=na_liczbe)\n",
        "\n",
        "sorted(liczby_kolejnosc,key=na_liczbe_index)"
      ],
      "execution_count": null,
      "outputs": [
        {
          "output_type": "execute_result",
          "data": {
            "text/plain": [
              "[(1, '11'), (0, '22'), (2, '33'), (3, '100')]"
            ]
          },
          "metadata": {
            "tags": []
          },
          "execution_count": 51
        }
      ]
    },
    {
      "cell_type": "code",
      "metadata": {
        "id": "-0j7FkEKnRre",
        "outputId": "4fdb4f40-6b1d-4bba-ea28-c91fc626fc28"
      },
      "source": [
        "sorted(liczby_kolejnosc,key=)"
      ],
      "execution_count": null,
      "outputs": [
        {
          "output_type": "execute_result",
          "data": {
            "text/plain": [
              "<enumerate at 0x7f5efea012d0>"
            ]
          },
          "metadata": {
            "tags": []
          },
          "execution_count": 48
        }
      ]
    },
    {
      "cell_type": "code",
      "metadata": {
        "id": "mLh3R1q3nRrg"
      },
      "source": [
        ""
      ],
      "execution_count": null,
      "outputs": []
    }
  ]
}